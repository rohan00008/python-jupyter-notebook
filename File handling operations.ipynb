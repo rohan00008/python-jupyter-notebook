{
 "cells": [
  {
   "cell_type": "code",
   "execution_count": 1,
   "id": "ca9b0b7b",
   "metadata": {},
   "outputs": [],
   "source": [
    "#file open\n",
    "#file read\n",
    "#file write\n",
    "#how to perform above functions using python"
   ]
  },
  {
   "cell_type": "code",
   "execution_count": 2,
   "id": "ea5b0a90",
   "metadata": {},
   "outputs": [],
   "source": [
    "#file operation"
   ]
  },
  {
   "cell_type": "code",
   "execution_count": 3,
   "id": "0f5b02c9",
   "metadata": {},
   "outputs": [],
   "source": [
    "f=open(\"sudhclasses.txt\")  #file name=sudhclasses \n",
    " #creating a file and naming it"
   ]
  },
  {
   "cell_type": "code",
   "execution_count": 4,
   "id": "aa3561b5",
   "metadata": {},
   "outputs": [
    {
     "name": "stdout",
     "output_type": "stream",
     "text": [
      " Volume in drive C is OS\n",
      " Volume Serial Number is 0A3B-BF3B\n",
      "\n",
      " Directory of C:\\Users\\Rohan\n",
      "\n",
      "14-07-2022  17:47    <DIR>          .\n",
      "05-07-2022  13:10    <DIR>          ..\n",
      "01-07-2022  12:12    <DIR>          .anaconda\n",
      "31-03-2021  00:25    <DIR>          .android\n",
      "05-07-2022  12:49    <DIR>          .conda\n",
      "01-07-2022  12:02                25 .condarc\n",
      "01-07-2022  12:02    <DIR>          .continuum\n",
      "19-03-2021  23:21    <DIR>          .Icecream Screen Recorder\n",
      "27-06-2022  18:48    <DIR>          .idlerc\n",
      "14-07-2022  17:02    <DIR>          .ipynb_checkpoints\n",
      "01-07-2022  12:16    <DIR>          .ipython\n",
      "07-07-2022  18:48    <DIR>          .jupyter\n",
      "01-07-2022  07:59    <DIR>          .ms-ad\n",
      "07-01-2021  15:15    <DIR>          .Origin\n",
      "07-01-2021  15:15    <DIR>          .QtWebEngineProcess\n",
      "23-06-2022  06:06    <DIR>          .vscode\n",
      "10-07-2021  15:32             7,277 -1.14-windows.xml\n",
      "18-04-2021  03:37    <DIR>          3D Objects\n",
      "04-07-2022  15:00    <DIR>          anaconda3\n",
      "08-11-2019  15:49    <DIR>          ansel\n",
      "29-06-2020  15:02    <DIR>          Apple\n",
      "07-11-2021  14:36    <DIR>          Contacts\n",
      "09-07-2022  18:01    <DIR>          Desktop\n",
      "14-07-2022  17:07    <DIR>          Documents\n",
      "11-07-2022  21:35             1,637 doubt.ipynb\n",
      "14-07-2022  16:38    <DIR>          Downloads\n",
      "07-11-2021  14:36    <DIR>          Favorites\n",
      "14-07-2022  17:47            24,335 File handling operation.ipynb\n",
      "12-07-2022  03:03            54,072 FOR loop .ipynb\n",
      "11-07-2022  21:15             6,120 for loop rough page.ipynb\n",
      "14-07-2022  02:17            19,885 FUNCTIONS.ipynb\n",
      "13-07-2022  01:42            20,049 FUNCTIONS=introduction.ipynb\n",
      "14-07-2022  16:36            12,451 Generator function.ipynb\n",
      "07-07-2022  22:12            21,912 if else elif conditional statements.ipynb\n",
      "14-07-2022  03:36            14,072 iterables, iterators.ipynb\n",
      "07-11-2021  14:36    <DIR>          Links\n",
      "06-07-2022  21:03            54,394 list, tuples-1.ipynb\n",
      "19-03-2021  23:21    <DIR>          log\n",
      "07-11-2021  14:36    <DIR>          Music\n",
      "08-07-2022  14:47    <DIR>          OneDrive\n",
      "22-06-2022  02:34    <DIR>          Pictures\n",
      "13-07-2022  02:05               589 problems solving.ipynb\n",
      "06-07-2022  00:25            39,221 python string basic.ipynb\n",
      "14-07-2022  17:23                68 rohan_aspirations\n",
      "14-07-2022  17:38                68 rohan_aspirations.txt\n",
      "07-11-2021  14:36    <DIR>          Saved Games\n",
      "07-11-2021  14:36    <DIR>          Searches\n",
      "09-11-2021  17:06               734 Sti_Trace.log\n",
      "14-07-2022  17:38                36 sudhclasses.txt\n",
      "14-07-2022  17:45                49 test.rohan\n",
      "14-07-2022  17:38                27 test.txt\n",
      "12-07-2022  00:29            30,254 tuples-2,dict,set.ipynb\n",
      "01-07-2022  12:22               902 Untitled.ipynb\n",
      "04-07-2022  16:17             1,442 Untitled1.ipynb\n",
      "04-07-2022  16:21               589 Untitled2.ipynb\n",
      "05-07-2022  12:47               606 Untitled3.ipynb\n",
      "06-07-2022  00:35                72 Untitled4.ipynb\n",
      "06-07-2022  23:21               589 Untitled5.ipynb\n",
      "06-07-2022  23:29               589 Untitled6.ipynb\n",
      "08-07-2022  02:17               589 Untitled7.ipynb\n",
      "12-07-2022  03:15               589 Untitled8.ipynb\n",
      "13-07-2022  01:47               589 Untitled9.ipynb\n",
      "05-07-2022  14:43            11,914 variable in python intro.ipynb\n",
      "13-07-2022  16:15    <DIR>          Videos\n",
      "13-07-2022  00:08            11,281 WHILE =conditional loop.ipynb\n",
      "              33 File(s)        337,026 bytes\n",
      "              32 Dir(s)   7,157,370,880 bytes free\n"
     ]
    }
   ],
   "source": [
    "ls"
   ]
  },
  {
   "cell_type": "code",
   "execution_count": 5,
   "id": "fd9cde7d",
   "metadata": {},
   "outputs": [],
   "source": [
    "f=open(\"sudhclasses.txt\", \"w\") #file name=sudhclasses #mode of file operation=\"w\"=write operation; \"r\"=read operation\n",
    "#w+ is write and read operation\n",
    "#r is read operation\n",
    "#w is write operastion\n",
    "#r+ is read and write operation\n",
    "#a mode is append operation\n"
   ]
  },
  {
   "cell_type": "code",
   "execution_count": 6,
   "id": "d44a70c7",
   "metadata": {},
   "outputs": [
    {
     "name": "stdout",
     "output_type": "stream",
     "text": [
      " Volume in drive C is OS\n",
      " Volume Serial Number is 0A3B-BF3B\n",
      "\n",
      " Directory of C:\\Users\\Rohan\n",
      "\n",
      "14-07-2022  17:47    <DIR>          .\n",
      "05-07-2022  13:10    <DIR>          ..\n",
      "01-07-2022  12:12    <DIR>          .anaconda\n",
      "31-03-2021  00:25    <DIR>          .android\n",
      "05-07-2022  12:49    <DIR>          .conda\n",
      "01-07-2022  12:02                25 .condarc\n",
      "01-07-2022  12:02    <DIR>          .continuum\n",
      "19-03-2021  23:21    <DIR>          .Icecream Screen Recorder\n",
      "27-06-2022  18:48    <DIR>          .idlerc\n",
      "14-07-2022  17:02    <DIR>          .ipynb_checkpoints\n",
      "01-07-2022  12:16    <DIR>          .ipython\n",
      "07-07-2022  18:48    <DIR>          .jupyter\n",
      "01-07-2022  07:59    <DIR>          .ms-ad\n",
      "07-01-2021  15:15    <DIR>          .Origin\n",
      "07-01-2021  15:15    <DIR>          .QtWebEngineProcess\n",
      "23-06-2022  06:06    <DIR>          .vscode\n",
      "10-07-2021  15:32             7,277 -1.14-windows.xml\n",
      "18-04-2021  03:37    <DIR>          3D Objects\n",
      "04-07-2022  15:00    <DIR>          anaconda3\n",
      "08-11-2019  15:49    <DIR>          ansel\n",
      "29-06-2020  15:02    <DIR>          Apple\n",
      "07-11-2021  14:36    <DIR>          Contacts\n",
      "09-07-2022  18:01    <DIR>          Desktop\n",
      "14-07-2022  17:07    <DIR>          Documents\n",
      "11-07-2022  21:35             1,637 doubt.ipynb\n",
      "14-07-2022  16:38    <DIR>          Downloads\n",
      "07-11-2021  14:36    <DIR>          Favorites\n",
      "14-07-2022  17:47            24,335 File handling operation.ipynb\n",
      "12-07-2022  03:03            54,072 FOR loop .ipynb\n",
      "11-07-2022  21:15             6,120 for loop rough page.ipynb\n",
      "14-07-2022  02:17            19,885 FUNCTIONS.ipynb\n",
      "13-07-2022  01:42            20,049 FUNCTIONS=introduction.ipynb\n",
      "14-07-2022  16:36            12,451 Generator function.ipynb\n",
      "07-07-2022  22:12            21,912 if else elif conditional statements.ipynb\n",
      "14-07-2022  03:36            14,072 iterables, iterators.ipynb\n",
      "07-11-2021  14:36    <DIR>          Links\n",
      "06-07-2022  21:03            54,394 list, tuples-1.ipynb\n",
      "19-03-2021  23:21    <DIR>          log\n",
      "07-11-2021  14:36    <DIR>          Music\n",
      "08-07-2022  14:47    <DIR>          OneDrive\n",
      "22-06-2022  02:34    <DIR>          Pictures\n",
      "13-07-2022  02:05               589 problems solving.ipynb\n",
      "06-07-2022  00:25            39,221 python string basic.ipynb\n",
      "14-07-2022  17:23                68 rohan_aspirations\n",
      "14-07-2022  17:38                68 rohan_aspirations.txt\n",
      "07-11-2021  14:36    <DIR>          Saved Games\n",
      "07-11-2021  14:36    <DIR>          Searches\n",
      "09-11-2021  17:06               734 Sti_Trace.log\n",
      "14-07-2022  17:48                 0 sudhclasses.txt\n",
      "14-07-2022  17:45                49 test.rohan\n",
      "14-07-2022  17:38                27 test.txt\n",
      "12-07-2022  00:29            30,254 tuples-2,dict,set.ipynb\n",
      "01-07-2022  12:22               902 Untitled.ipynb\n",
      "04-07-2022  16:17             1,442 Untitled1.ipynb\n",
      "04-07-2022  16:21               589 Untitled2.ipynb\n",
      "05-07-2022  12:47               606 Untitled3.ipynb\n",
      "06-07-2022  00:35                72 Untitled4.ipynb\n",
      "06-07-2022  23:21               589 Untitled5.ipynb\n",
      "06-07-2022  23:29               589 Untitled6.ipynb\n",
      "08-07-2022  02:17               589 Untitled7.ipynb\n",
      "12-07-2022  03:15               589 Untitled8.ipynb\n",
      "13-07-2022  01:47               589 Untitled9.ipynb\n",
      "05-07-2022  14:43            11,914 variable in python intro.ipynb\n",
      "13-07-2022  16:15    <DIR>          Videos\n",
      "13-07-2022  00:08            11,281 WHILE =conditional loop.ipynb\n",
      "              33 File(s)        336,990 bytes\n",
      "              32 Dir(s)   7,157,370,880 bytes free\n"
     ]
    }
   ],
   "source": [
    "ls"
   ]
  },
  {
   "cell_type": "code",
   "execution_count": 7,
   "id": "d8aac2c7",
   "metadata": {},
   "outputs": [
    {
     "data": {
      "text/plain": [
       "36"
      ]
     },
     "execution_count": 7,
     "metadata": {},
     "output_type": "execute_result"
    }
   ],
   "source": [
    "f.write(\"this is my very first file operation\") #writing in the sudhclasses.txt file"
   ]
  },
  {
   "cell_type": "code",
   "execution_count": 8,
   "id": "322271a0",
   "metadata": {},
   "outputs": [],
   "source": [
    "f.close() #closing the sudhclassses.txt file"
   ]
  },
  {
   "cell_type": "code",
   "execution_count": 10,
   "id": "a4a82172",
   "metadata": {},
   "outputs": [
    {
     "ename": "NameError",
     "evalue": "name 'ls' is not defined",
     "output_type": "error",
     "traceback": [
      "\u001b[1;31m---------------------------------------------------------------------------\u001b[0m",
      "\u001b[1;31mNameError\u001b[0m                                 Traceback (most recent call last)",
      "Input \u001b[1;32mIn [10]\u001b[0m, in \u001b[0;36m<cell line: 1>\u001b[1;34m()\u001b[0m\n\u001b[1;32m----> 1\u001b[0m \u001b[43mls\u001b[49m\n",
      "\u001b[1;31mNameError\u001b[0m: name 'ls' is not defined"
     ]
    }
   ],
   "source": [
    "ls\n",
    "#note that 36 byte of info stored in sudhclasses.txt file after the write operation is executed\n",
    "#file location= C:\\Users\\Rohan"
   ]
  },
  {
   "cell_type": "code",
   "execution_count": 11,
   "id": "36d030dc",
   "metadata": {},
   "outputs": [],
   "source": [
    "f1=open(\"rohan_aspirations.txt\",\"w\")\n"
   ]
  },
  {
   "cell_type": "code",
   "execution_count": 12,
   "id": "27053fb2",
   "metadata": {},
   "outputs": [
    {
     "data": {
      "text/plain": [
       "68"
      ]
     },
     "execution_count": 12,
     "metadata": {},
     "output_type": "execute_result"
    }
   ],
   "source": [
    "f1.write(\"this is the file operation i am tryning to do in my ineuron classses\")"
   ]
  },
  {
   "cell_type": "code",
   "execution_count": 13,
   "id": "d30f5ee9",
   "metadata": {},
   "outputs": [],
   "source": [
    "f1.close()"
   ]
  },
  {
   "cell_type": "code",
   "execution_count": 14,
   "id": "d73ad71b",
   "metadata": {},
   "outputs": [
    {
     "name": "stdout",
     "output_type": "stream",
     "text": [
      " Volume in drive C is OS\n",
      " Volume Serial Number is 0A3B-BF3B\n",
      "\n",
      " Directory of C:\\Users\\Rohan\n",
      "\n",
      "14-07-2022  17:47    <DIR>          .\n",
      "05-07-2022  13:10    <DIR>          ..\n",
      "01-07-2022  12:12    <DIR>          .anaconda\n",
      "31-03-2021  00:25    <DIR>          .android\n",
      "05-07-2022  12:49    <DIR>          .conda\n",
      "01-07-2022  12:02                25 .condarc\n",
      "01-07-2022  12:02    <DIR>          .continuum\n",
      "19-03-2021  23:21    <DIR>          .Icecream Screen Recorder\n",
      "27-06-2022  18:48    <DIR>          .idlerc\n",
      "14-07-2022  17:02    <DIR>          .ipynb_checkpoints\n",
      "01-07-2022  12:16    <DIR>          .ipython\n",
      "07-07-2022  18:48    <DIR>          .jupyter\n",
      "01-07-2022  07:59    <DIR>          .ms-ad\n",
      "07-01-2021  15:15    <DIR>          .Origin\n",
      "07-01-2021  15:15    <DIR>          .QtWebEngineProcess\n",
      "23-06-2022  06:06    <DIR>          .vscode\n",
      "10-07-2021  15:32             7,277 -1.14-windows.xml\n",
      "18-04-2021  03:37    <DIR>          3D Objects\n",
      "04-07-2022  15:00    <DIR>          anaconda3\n",
      "08-11-2019  15:49    <DIR>          ansel\n",
      "29-06-2020  15:02    <DIR>          Apple\n",
      "07-11-2021  14:36    <DIR>          Contacts\n",
      "09-07-2022  18:01    <DIR>          Desktop\n",
      "14-07-2022  17:07    <DIR>          Documents\n",
      "11-07-2022  21:35             1,637 doubt.ipynb\n",
      "14-07-2022  16:38    <DIR>          Downloads\n",
      "07-11-2021  14:36    <DIR>          Favorites\n",
      "14-07-2022  17:47            24,335 File handling operation.ipynb\n",
      "12-07-2022  03:03            54,072 FOR loop .ipynb\n",
      "11-07-2022  21:15             6,120 for loop rough page.ipynb\n",
      "14-07-2022  02:17            19,885 FUNCTIONS.ipynb\n",
      "13-07-2022  01:42            20,049 FUNCTIONS=introduction.ipynb\n",
      "14-07-2022  16:36            12,451 Generator function.ipynb\n",
      "07-07-2022  22:12            21,912 if else elif conditional statements.ipynb\n",
      "14-07-2022  03:36            14,072 iterables, iterators.ipynb\n",
      "07-11-2021  14:36    <DIR>          Links\n",
      "06-07-2022  21:03            54,394 list, tuples-1.ipynb\n",
      "19-03-2021  23:21    <DIR>          log\n",
      "07-11-2021  14:36    <DIR>          Music\n",
      "08-07-2022  14:47    <DIR>          OneDrive\n",
      "22-06-2022  02:34    <DIR>          Pictures\n",
      "13-07-2022  02:05               589 problems solving.ipynb\n",
      "06-07-2022  00:25            39,221 python string basic.ipynb\n",
      "14-07-2022  17:23                68 rohan_aspirations\n",
      "14-07-2022  17:48                68 rohan_aspirations.txt\n",
      "07-11-2021  14:36    <DIR>          Saved Games\n",
      "07-11-2021  14:36    <DIR>          Searches\n",
      "09-11-2021  17:06               734 Sti_Trace.log\n",
      "14-07-2022  17:48                36 sudhclasses.txt\n",
      "14-07-2022  17:45                49 test.rohan\n",
      "14-07-2022  17:38                27 test.txt\n",
      "12-07-2022  00:29            30,254 tuples-2,dict,set.ipynb\n",
      "01-07-2022  12:22               902 Untitled.ipynb\n",
      "04-07-2022  16:17             1,442 Untitled1.ipynb\n",
      "04-07-2022  16:21               589 Untitled2.ipynb\n",
      "05-07-2022  12:47               606 Untitled3.ipynb\n",
      "06-07-2022  00:35                72 Untitled4.ipynb\n",
      "06-07-2022  23:21               589 Untitled5.ipynb\n",
      "06-07-2022  23:29               589 Untitled6.ipynb\n",
      "08-07-2022  02:17               589 Untitled7.ipynb\n",
      "12-07-2022  03:15               589 Untitled8.ipynb\n",
      "13-07-2022  01:47               589 Untitled9.ipynb\n",
      "05-07-2022  14:43            11,914 variable in python intro.ipynb\n",
      "13-07-2022  16:15    <DIR>          Videos\n",
      "13-07-2022  00:08            11,281 WHILE =conditional loop.ipynb\n",
      "              33 File(s)        337,026 bytes\n",
      "              32 Dir(s)   7,157,284,864 bytes free\n"
     ]
    }
   ],
   "source": [
    "ls"
   ]
  },
  {
   "cell_type": "code",
   "execution_count": 15,
   "id": "b6743c64",
   "metadata": {},
   "outputs": [],
   "source": [
    "l=[3,5,6,7,4,74,56,43] \n",
    "#challenge:\n",
    "#store this list in a file permanently"
   ]
  },
  {
   "cell_type": "code",
   "execution_count": 16,
   "id": "f5b0af5e",
   "metadata": {},
   "outputs": [],
   "source": [
    "f2=open(\"test.txt\",'w')\n"
   ]
  },
  {
   "cell_type": "code",
   "execution_count": 17,
   "id": "59792b1a",
   "metadata": {},
   "outputs": [],
   "source": [
    "#f2.write(l) #error bcz list cannot be written into the file #need to convert it into string using type casting"
   ]
  },
  {
   "cell_type": "code",
   "execution_count": null,
   "id": "4ad795b5",
   "metadata": {},
   "outputs": [],
   "source": []
  },
  {
   "cell_type": "code",
   "execution_count": 18,
   "id": "6bc3c7be",
   "metadata": {},
   "outputs": [
    {
     "data": {
      "text/plain": [
       "27"
      ]
     },
     "execution_count": 18,
     "metadata": {},
     "output_type": "execute_result"
    }
   ],
   "source": [
    "f2.write(str(l))"
   ]
  },
  {
   "cell_type": "code",
   "execution_count": 19,
   "id": "2964d8a9",
   "metadata": {},
   "outputs": [],
   "source": [
    "f2.close()"
   ]
  },
  {
   "cell_type": "code",
   "execution_count": 20,
   "id": "845af9cc",
   "metadata": {},
   "outputs": [
    {
     "name": "stdout",
     "output_type": "stream",
     "text": [
      " Volume in drive C is OS\n",
      " Volume Serial Number is 0A3B-BF3B\n",
      "\n",
      " Directory of C:\\Users\\Rohan\n",
      "\n",
      "14-07-2022  17:47    <DIR>          .\n",
      "05-07-2022  13:10    <DIR>          ..\n",
      "01-07-2022  12:12    <DIR>          .anaconda\n",
      "31-03-2021  00:25    <DIR>          .android\n",
      "05-07-2022  12:49    <DIR>          .conda\n",
      "01-07-2022  12:02                25 .condarc\n",
      "01-07-2022  12:02    <DIR>          .continuum\n",
      "19-03-2021  23:21    <DIR>          .Icecream Screen Recorder\n",
      "27-06-2022  18:48    <DIR>          .idlerc\n",
      "14-07-2022  17:02    <DIR>          .ipynb_checkpoints\n",
      "01-07-2022  12:16    <DIR>          .ipython\n",
      "07-07-2022  18:48    <DIR>          .jupyter\n",
      "01-07-2022  07:59    <DIR>          .ms-ad\n",
      "07-01-2021  15:15    <DIR>          .Origin\n",
      "07-01-2021  15:15    <DIR>          .QtWebEngineProcess\n",
      "23-06-2022  06:06    <DIR>          .vscode\n",
      "10-07-2021  15:32             7,277 -1.14-windows.xml\n",
      "18-04-2021  03:37    <DIR>          3D Objects\n",
      "04-07-2022  15:00    <DIR>          anaconda3\n",
      "08-11-2019  15:49    <DIR>          ansel\n",
      "29-06-2020  15:02    <DIR>          Apple\n",
      "07-11-2021  14:36    <DIR>          Contacts\n",
      "09-07-2022  18:01    <DIR>          Desktop\n",
      "14-07-2022  17:07    <DIR>          Documents\n",
      "11-07-2022  21:35             1,637 doubt.ipynb\n",
      "14-07-2022  16:38    <DIR>          Downloads\n",
      "07-11-2021  14:36    <DIR>          Favorites\n",
      "14-07-2022  17:47            24,335 File handling operation.ipynb\n",
      "12-07-2022  03:03            54,072 FOR loop .ipynb\n",
      "11-07-2022  21:15             6,120 for loop rough page.ipynb\n",
      "14-07-2022  02:17            19,885 FUNCTIONS.ipynb\n",
      "13-07-2022  01:42            20,049 FUNCTIONS=introduction.ipynb\n",
      "14-07-2022  16:36            12,451 Generator function.ipynb\n",
      "07-07-2022  22:12            21,912 if else elif conditional statements.ipynb\n",
      "14-07-2022  03:36            14,072 iterables, iterators.ipynb\n",
      "07-11-2021  14:36    <DIR>          Links\n",
      "06-07-2022  21:03            54,394 list, tuples-1.ipynb\n",
      "19-03-2021  23:21    <DIR>          log\n",
      "07-11-2021  14:36    <DIR>          Music\n",
      "08-07-2022  14:47    <DIR>          OneDrive\n",
      "22-06-2022  02:34    <DIR>          Pictures\n",
      "13-07-2022  02:05               589 problems solving.ipynb\n",
      "06-07-2022  00:25            39,221 python string basic.ipynb\n",
      "14-07-2022  17:23                68 rohan_aspirations\n",
      "14-07-2022  17:48                68 rohan_aspirations.txt\n",
      "07-11-2021  14:36    <DIR>          Saved Games\n",
      "07-11-2021  14:36    <DIR>          Searches\n",
      "09-11-2021  17:06               734 Sti_Trace.log\n",
      "14-07-2022  17:48                36 sudhclasses.txt\n",
      "14-07-2022  17:45                49 test.rohan\n",
      "14-07-2022  17:48                27 test.txt\n",
      "12-07-2022  00:29            30,254 tuples-2,dict,set.ipynb\n",
      "01-07-2022  12:22               902 Untitled.ipynb\n",
      "04-07-2022  16:17             1,442 Untitled1.ipynb\n",
      "04-07-2022  16:21               589 Untitled2.ipynb\n",
      "05-07-2022  12:47               606 Untitled3.ipynb\n",
      "06-07-2022  00:35                72 Untitled4.ipynb\n",
      "06-07-2022  23:21               589 Untitled5.ipynb\n",
      "06-07-2022  23:29               589 Untitled6.ipynb\n",
      "08-07-2022  02:17               589 Untitled7.ipynb\n",
      "12-07-2022  03:15               589 Untitled8.ipynb\n",
      "13-07-2022  01:47               589 Untitled9.ipynb\n",
      "05-07-2022  14:43            11,914 variable in python intro.ipynb\n",
      "13-07-2022  16:15    <DIR>          Videos\n",
      "13-07-2022  00:08            11,281 WHILE =conditional loop.ipynb\n",
      "              33 File(s)        337,026 bytes\n",
      "              32 Dir(s)   7,157,198,848 bytes free\n"
     ]
    }
   ],
   "source": [
    "ls"
   ]
  },
  {
   "cell_type": "code",
   "execution_count": 21,
   "id": "567dcf99",
   "metadata": {},
   "outputs": [],
   "source": [
    "#file handling operations=it helps in storing a result\n",
    "#without executing jupyter notebook, we are able to access that particulasr result"
   ]
  },
  {
   "cell_type": "code",
   "execution_count": 22,
   "id": "7003447a",
   "metadata": {},
   "outputs": [],
   "source": [
    "f3=open(\"test.rohan\",\"w\") #can use any type of extension(in this I made a rohan type file)\n",
    "                          #we can open that extension file using any other application\n",
    "f3.write(\"hello asus zenbook pro duo, this is my new laptop\")   \n",
    "f3.close()"
   ]
  },
  {
   "cell_type": "code",
   "execution_count": 24,
   "id": "31fc3416",
   "metadata": {},
   "outputs": [
    {
     "name": "stdout",
     "output_type": "stream",
     "text": [
      "Writing test5.txt\n"
     ]
    }
   ],
   "source": [
    "%%writefile test5.txt #another way/syantax\n",
    "this is my python program to write into a file in different way"
   ]
  },
  {
   "cell_type": "code",
   "execution_count": 26,
   "id": "716b4bb7",
   "metadata": {},
   "outputs": [
    {
     "name": "stdout",
     "output_type": "stream",
     "text": [
      "Overwriting test5.txt\n"
     ]
    }
   ],
   "source": [
    " %%writefile test5.txt  \n",
    "this is my python program to write into a file in different way\n",
    "this is my python program to write into a file in different way\n",
    "this is my python program to write into a file in different way\n",
    "this is my python program to write into a file in different way\n",
    "this is my python program to write into a file in different way"
   ]
  },
  {
   "cell_type": "code",
   "execution_count": 27,
   "id": "ca7f1d21",
   "metadata": {},
   "outputs": [],
   "source": [
    "#any kind of file system can be read and write using python"
   ]
  },
  {
   "cell_type": "code",
   "execution_count": 28,
   "id": "bac1cdee",
   "metadata": {},
   "outputs": [],
   "source": [
    "f3 = open(\"test5.txt\")"
   ]
  },
  {
   "cell_type": "code",
   "execution_count": 29,
   "id": "93707569",
   "metadata": {},
   "outputs": [
    {
     "data": {
      "text/plain": [
       "'this is my python program to write into a file in different way\\nthis is my python program to write into a file in different way\\nthis is my python program to write into a file in different way\\nthis is my python program to write into a file in different way\\nthis is my python program to write into a file in different way\\n'"
      ]
     },
     "execution_count": 29,
     "metadata": {},
     "output_type": "execute_result"
    }
   ],
   "source": [
    "f3.read() #file read operation in the file f3"
   ]
  },
  {
   "cell_type": "code",
   "execution_count": 30,
   "id": "d0d98545",
   "metadata": {},
   "outputs": [
    {
     "data": {
      "text/plain": [
       "''"
      ]
     },
     "execution_count": 30,
     "metadata": {},
     "output_type": "execute_result"
    }
   ],
   "source": [
    "f3.read() #re-executing read operation without closing the file=gives blank\n",
    "        #blank bcz pointer is already located at the last location"
   ]
  },
  {
   "cell_type": "code",
   "execution_count": 31,
   "id": "0c2fff79",
   "metadata": {},
   "outputs": [
    {
     "data": {
      "text/plain": [
       "0"
      ]
     },
     "execution_count": 31,
     "metadata": {},
     "output_type": "execute_result"
    }
   ],
   "source": [
    "f3.seek(0) #now the pointer is reset to zero index or we can also set it to particular index"
   ]
  },
  {
   "cell_type": "code",
   "execution_count": 32,
   "id": "8fa0d5e2",
   "metadata": {},
   "outputs": [
    {
     "data": {
      "text/plain": [
       "'this is my python program to write into a file in different way\\nthis is my python program to write into a file in different way\\nthis is my python program to write into a file in different way\\nthis is my python program to write into a file in different way\\nthis is my python program to write into a file in different way\\n'"
      ]
     },
     "execution_count": 32,
     "metadata": {},
     "output_type": "execute_result"
    }
   ],
   "source": [
    "f3.read() #now since the pointer is reseted using the seek operation, thus read operation can be re-executed"
   ]
  },
  {
   "cell_type": "code",
   "execution_count": 35,
   "id": "ed3e41d2",
   "metadata": {},
   "outputs": [
    {
     "data": {
      "text/plain": [
       "5"
      ]
     },
     "execution_count": 35,
     "metadata": {},
     "output_type": "execute_result"
    }
   ],
   "source": [
    "f3.seek(5) #pointer reset to 5th index"
   ]
  },
  {
   "cell_type": "code",
   "execution_count": 36,
   "id": "2b6271f8",
   "metadata": {},
   "outputs": [
    {
     "data": {
      "text/plain": [
       "'is my python program to write into a file in different way\\nthis is my python program to write into a file in different way\\nthis is my python program to write into a file in different way\\nthis is my python program to write into a file in different way\\nthis is my python program to write into a file in different way\\n'"
      ]
     },
     "execution_count": 36,
     "metadata": {},
     "output_type": "execute_result"
    }
   ],
   "source": [
    "f3.read() #re-executing read operation will read from 5th index bcz of reset by seek operation"
   ]
  },
  {
   "cell_type": "code",
   "execution_count": 38,
   "id": "f0667dd2",
   "metadata": {},
   "outputs": [],
   "source": [
    "f4=open(\"rohan_aspirations.txt\")"
   ]
  },
  {
   "cell_type": "code",
   "execution_count": 39,
   "id": "440477ee",
   "metadata": {},
   "outputs": [
    {
     "data": {
      "text/plain": [
       "0"
      ]
     },
     "execution_count": 39,
     "metadata": {},
     "output_type": "execute_result"
    }
   ],
   "source": [
    "f4.tell() #it tells about theindex of the file pointer currently"
   ]
  },
  {
   "cell_type": "code",
   "execution_count": 40,
   "id": "96d21eb2",
   "metadata": {},
   "outputs": [
    {
     "data": {
      "text/plain": [
       "'this is the file operation i am tryning to do in my ineuron classses'"
      ]
     },
     "execution_count": 40,
     "metadata": {},
     "output_type": "execute_result"
    }
   ],
   "source": [
    "f4.read()"
   ]
  },
  {
   "cell_type": "code",
   "execution_count": 41,
   "id": "d88ae41a",
   "metadata": {},
   "outputs": [
    {
     "data": {
      "text/plain": [
       "68"
      ]
     },
     "execution_count": 41,
     "metadata": {},
     "output_type": "execute_result"
    }
   ],
   "source": [
    "f4.tell() # after the read has been executed, the index of the pointer is 68"
   ]
  },
  {
   "cell_type": "code",
   "execution_count": 42,
   "id": "d54f095c",
   "metadata": {},
   "outputs": [
    {
     "data": {
      "text/plain": [
       "5"
      ]
     },
     "execution_count": 42,
     "metadata": {},
     "output_type": "execute_result"
    }
   ],
   "source": [
    "f4.seek(5)"
   ]
  },
  {
   "cell_type": "code",
   "execution_count": 43,
   "id": "c1788649",
   "metadata": {},
   "outputs": [
    {
     "data": {
      "text/plain": [
       "'is the file operation i am tryning to do in my ineuron classses'"
      ]
     },
     "execution_count": 43,
     "metadata": {},
     "output_type": "execute_result"
    }
   ],
   "source": [
    "f4.read()"
   ]
  },
  {
   "cell_type": "code",
   "execution_count": 45,
   "id": "13478b4d",
   "metadata": {},
   "outputs": [
    {
     "data": {
      "text/plain": [
       "19"
      ]
     },
     "execution_count": 45,
     "metadata": {},
     "output_type": "execute_result"
    }
   ],
   "source": [
    "f4.seek(19) #reseting pointer to 19th index"
   ]
  },
  {
   "cell_type": "code",
   "execution_count": 46,
   "id": "98c3f729",
   "metadata": {},
   "outputs": [
    {
     "data": {
      "text/plain": [
       "19"
      ]
     },
     "execution_count": 46,
     "metadata": {},
     "output_type": "execute_result"
    }
   ],
   "source": [
    "f4.tell() #telling the index location of the pointer"
   ]
  },
  {
   "cell_type": "code",
   "execution_count": 47,
   "id": "afffa07b",
   "metadata": {},
   "outputs": [],
   "source": [
    "f5=open(\"test5.txt\")"
   ]
  },
  {
   "cell_type": "code",
   "execution_count": 49,
   "id": "65882d31",
   "metadata": {},
   "outputs": [
    {
     "data": {
      "text/plain": [
       "'this is my python program to write into a file in different way\\nthis is my python program to write into a file in different way\\nthis is my python program to write into a file in different way\\nthis is my python program to write into a file in different way\\nthis is my python program to write into a file in different way\\n'"
      ]
     },
     "execution_count": 49,
     "metadata": {},
     "output_type": "execute_result"
    }
   ],
   "source": [
    "f5.read()"
   ]
  },
  {
   "cell_type": "code",
   "execution_count": 54,
   "id": "f22c9f5e",
   "metadata": {},
   "outputs": [
    {
     "data": {
      "text/plain": [
       "0"
      ]
     },
     "execution_count": 54,
     "metadata": {},
     "output_type": "execute_result"
    }
   ],
   "source": [
    "f5.seek(0)"
   ]
  },
  {
   "cell_type": "code",
   "execution_count": 55,
   "id": "83b4332a",
   "metadata": {},
   "outputs": [
    {
     "data": {
      "text/plain": [
       "'this is my python program to write into a file in different way\\n'"
      ]
     },
     "execution_count": 55,
     "metadata": {},
     "output_type": "execute_result"
    }
   ],
   "source": [
    "f5.readline()"
   ]
  },
  {
   "cell_type": "code",
   "execution_count": 56,
   "id": "44b81f98",
   "metadata": {},
   "outputs": [
    {
     "data": {
      "text/plain": [
       "0"
      ]
     },
     "execution_count": 56,
     "metadata": {},
     "output_type": "execute_result"
    }
   ],
   "source": [
    "f5.seek(0)"
   ]
  },
  {
   "cell_type": "code",
   "execution_count": 57,
   "id": "ba9d266c",
   "metadata": {},
   "outputs": [
    {
     "data": {
      "text/plain": [
       "['this is my python program to write into a file in different way\\n',\n",
       " 'this is my python program to write into a file in different way\\n',\n",
       " 'this is my python program to write into a file in different way\\n',\n",
       " 'this is my python program to write into a file in different way\\n',\n",
       " 'this is my python program to write into a file in different way\\n']"
      ]
     },
     "execution_count": 57,
     "metadata": {},
     "output_type": "execute_result"
    }
   ],
   "source": [
    "f5.readlines()"
   ]
  },
  {
   "cell_type": "code",
   "execution_count": 58,
   "id": "f8618afa",
   "metadata": {},
   "outputs": [
    {
     "data": {
      "text/plain": [
       "<_io.TextIOWrapper name='test5.txt' mode='r' encoding='cp1252'>"
      ]
     },
     "execution_count": 58,
     "metadata": {},
     "output_type": "execute_result"
    }
   ],
   "source": [
    "f5"
   ]
  },
  {
   "cell_type": "code",
   "execution_count": 60,
   "id": "22b08eb1",
   "metadata": {},
   "outputs": [
    {
     "data": {
      "text/plain": [
       "6"
      ]
     },
     "execution_count": 60,
     "metadata": {},
     "output_type": "execute_result"
    }
   ],
   "source": [
    "f5.fileno() #it gives the int description of a file in a particular registry"
   ]
  },
  {
   "cell_type": "code",
   "execution_count": 61,
   "id": "c3c33629",
   "metadata": {},
   "outputs": [],
   "source": [
    "f7=open(\"text.txt\",\"w\")\n"
   ]
  },
  {
   "cell_type": "code",
   "execution_count": 62,
   "id": "3176fdf5",
   "metadata": {},
   "outputs": [
    {
     "data": {
      "text/plain": [
       "61"
      ]
     },
     "execution_count": 62,
     "metadata": {},
     "output_type": "execute_result"
    }
   ],
   "source": [
    "f7.write(\"\"\"hello world. this world is unique. we should sve environement\"\"\")"
   ]
  },
  {
   "cell_type": "code",
   "execution_count": 63,
   "id": "95f8cf27",
   "metadata": {},
   "outputs": [],
   "source": [
    "f7.close()"
   ]
  },
  {
   "cell_type": "code",
   "execution_count": 66,
   "id": "e064fa2e",
   "metadata": {},
   "outputs": [],
   "source": [
    "f7=open(\"text.txt\",\"w\")\n",
    "f7.write(\"hey i am gonna overwrite the previous dataset\")\n",
    "f7.close()"
   ]
  },
  {
   "cell_type": "code",
   "execution_count": 68,
   "id": "dfaa47f3",
   "metadata": {},
   "outputs": [],
   "source": [
    "#lesson= previous dataset gets deleted on overwriting the file again.\n",
    "#to append any data to previous dataset without overwriting it, use 'a' mode i.e append mode"
   ]
  },
  {
   "cell_type": "code",
   "execution_count": 70,
   "id": "e7ac0316",
   "metadata": {},
   "outputs": [],
   "source": [
    "f7=open(\"text.txt\", \"a\")\n",
    "f7.write(\"hey i am appending myself without overwriting the previous dataset\")\n",
    "f7.close()"
   ]
  },
  {
   "cell_type": "code",
   "execution_count": 71,
   "id": "1d3b5224",
   "metadata": {},
   "outputs": [],
   "source": [
    "# w+ mode = read and write + it creates a file if it is not already there\n",
    "#r+ mode = read and write + it does not create a file if it doesnt exist and rather shows an error"
   ]
  },
  {
   "cell_type": "code",
   "execution_count": 72,
   "id": "6a1de28e",
   "metadata": {},
   "outputs": [
    {
     "data": {
      "text/plain": [
       "'text.txt'"
      ]
     },
     "execution_count": 72,
     "metadata": {},
     "output_type": "execute_result"
    }
   ],
   "source": [
    "f7.name #file name"
   ]
  },
  {
   "cell_type": "code",
   "execution_count": 73,
   "id": "0b8cf3db",
   "metadata": {},
   "outputs": [
    {
     "data": {
      "text/plain": [
       "True"
      ]
     },
     "execution_count": 73,
     "metadata": {},
     "output_type": "execute_result"
    }
   ],
   "source": [
    "f7.closed #whether file has closed or not"
   ]
  },
  {
   "cell_type": "code",
   "execution_count": 74,
   "id": "97b893dd",
   "metadata": {},
   "outputs": [
    {
     "data": {
      "text/plain": [
       "'a'"
      ]
     },
     "execution_count": 74,
     "metadata": {},
     "output_type": "execute_result"
    }
   ],
   "source": [
    "f7.mode # in which mode, file has been opened"
   ]
  },
  {
   "cell_type": "code",
   "execution_count": null,
   "id": "2b6cead5",
   "metadata": {},
   "outputs": [],
   "source": []
  }
 ],
 "metadata": {
  "kernelspec": {
   "display_name": "Python 3 (ipykernel)",
   "language": "python",
   "name": "python3"
  },
  "language_info": {
   "codemirror_mode": {
    "name": "ipython",
    "version": 3
   },
   "file_extension": ".py",
   "mimetype": "text/x-python",
   "name": "python",
   "nbconvert_exporter": "python",
   "pygments_lexer": "ipython3",
   "version": "3.9.12"
  }
 },
 "nbformat": 4,
 "nbformat_minor": 5
}
