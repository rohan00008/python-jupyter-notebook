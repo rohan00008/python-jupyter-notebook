{
 "cells": [
  {
   "cell_type": "code",
   "execution_count": 1,
   "id": "8d811253",
   "metadata": {},
   "outputs": [],
   "source": [
    "#MAP function"
   ]
  },
  {
   "cell_type": "code",
   "execution_count": 2,
   "id": "f046e59c",
   "metadata": {},
   "outputs": [],
   "source": [
    "l=[3,5,6,7,8,9,3,5,7,4,56,7]"
   ]
  },
  {
   "cell_type": "code",
   "execution_count": 3,
   "id": "abf802f8",
   "metadata": {},
   "outputs": [],
   "source": [
    "#challenge= find out square of each and every number and give in a list"
   ]
  },
  {
   "cell_type": "code",
   "execution_count": 4,
   "id": "ed6c61ad",
   "metadata": {},
   "outputs": [
    {
     "data": {
      "text/plain": [
       "[3, 5, 6, 7, 8, 9, 3, 5, 7, 4, 56, 7]"
      ]
     },
     "execution_count": 4,
     "metadata": {},
     "output_type": "execute_result"
    }
   ],
   "source": [
    "l\n"
   ]
  },
  {
   "cell_type": "code",
   "execution_count": 5,
   "id": "a67228f5",
   "metadata": {},
   "outputs": [],
   "source": [
    "l1=[]\n",
    "for i in l:\n",
    "    l1.append(i**2)"
   ]
  },
  {
   "cell_type": "code",
   "execution_count": 6,
   "id": "aef166cd",
   "metadata": {},
   "outputs": [
    {
     "data": {
      "text/plain": [
       "[9, 25, 36, 49, 64, 81, 9, 25, 49, 16, 3136, 49]"
      ]
     },
     "execution_count": 6,
     "metadata": {},
     "output_type": "execute_result"
    }
   ],
   "source": [
    "l1"
   ]
  },
  {
   "cell_type": "code",
   "execution_count": 7,
   "id": "00916f42",
   "metadata": {},
   "outputs": [],
   "source": [
    "#another way"
   ]
  },
  {
   "cell_type": "code",
   "execution_count": 8,
   "id": "5bdc705e",
   "metadata": {},
   "outputs": [],
   "source": [
    "#map()    #map function takes two arguments= 1) function 2)iterable element\n"
   ]
  },
  {
   "cell_type": "code",
   "execution_count": 9,
   "id": "e73000fb",
   "metadata": {},
   "outputs": [],
   "source": [
    "def sq(n):\n",
    "    \"\"\"this is a function for square of the input value\"\"\"\n",
    "    return n**2"
   ]
  },
  {
   "cell_type": "code",
   "execution_count": 10,
   "id": "fee50073",
   "metadata": {},
   "outputs": [
    {
     "data": {
      "text/plain": [
       "<map at 0x279602f7a00>"
      ]
     },
     "execution_count": 10,
     "metadata": {},
     "output_type": "execute_result"
    }
   ],
   "source": [
    "map(sq , l) #map function tries to map a particular function with every element inside the iterable #one to one mapping"
   ]
  },
  {
   "cell_type": "code",
   "execution_count": 11,
   "id": "a16ca936",
   "metadata": {},
   "outputs": [
    {
     "data": {
      "text/plain": [
       "[9, 25, 36, 49, 64, 81, 9, 25, 49, 16, 3136, 49]"
      ]
     },
     "execution_count": 11,
     "metadata": {},
     "output_type": "execute_result"
    }
   ],
   "source": [
    "list(map(sq , l))"
   ]
  },
  {
   "cell_type": "code",
   "execution_count": 12,
   "id": "213e167c",
   "metadata": {},
   "outputs": [
    {
     "data": {
      "text/plain": [
       "<map at 0x279602e32b0>"
      ]
     },
     "execution_count": 12,
     "metadata": {},
     "output_type": "execute_result"
    }
   ],
   "source": [
    "map(lambda x:x**2,l) #another way"
   ]
  },
  {
   "cell_type": "code",
   "execution_count": 13,
   "id": "28077b64",
   "metadata": {},
   "outputs": [
    {
     "data": {
      "text/plain": [
       "[9, 25, 36, 49, 64, 81, 9, 25, 49, 16, 3136, 49]"
      ]
     },
     "execution_count": 13,
     "metadata": {},
     "output_type": "execute_result"
    }
   ],
   "source": [
    "list(map(lambda x:x**2,l))"
   ]
  },
  {
   "cell_type": "code",
   "execution_count": 14,
   "id": "171311c2",
   "metadata": {},
   "outputs": [
    {
     "data": {
      "text/plain": [
       "[3, 5, 6, 7, 8, 9, 3, 5, 7, 4, 56, 7]"
      ]
     },
     "execution_count": 14,
     "metadata": {},
     "output_type": "execute_result"
    }
   ],
   "source": [
    "l"
   ]
  },
  {
   "cell_type": "code",
   "execution_count": 15,
   "id": "13831978",
   "metadata": {},
   "outputs": [],
   "source": [
    "#challenge= convert every element in the list into a string"
   ]
  },
  {
   "cell_type": "code",
   "execution_count": 16,
   "id": "9aacc2f0",
   "metadata": {},
   "outputs": [
    {
     "data": {
      "text/plain": [
       "<map at 0x279602d8a30>"
      ]
     },
     "execution_count": 16,
     "metadata": {},
     "output_type": "execute_result"
    }
   ],
   "source": [
    " map(lambda i:str(i),l)"
   ]
  },
  {
   "cell_type": "code",
   "execution_count": 17,
   "id": "35b4e3b9",
   "metadata": {},
   "outputs": [
    {
     "data": {
      "text/plain": [
       "['3', '5', '6', '7', '8', '9', '3', '5', '7', '4', '56', '7']"
      ]
     },
     "execution_count": 17,
     "metadata": {},
     "output_type": "execute_result"
    }
   ],
   "source": [
    "list( map(lambda i:str(i),l))"
   ]
  },
  {
   "cell_type": "code",
   "execution_count": 18,
   "id": "d63df0c7",
   "metadata": {},
   "outputs": [
    {
     "data": {
      "text/plain": [
       "<map at 0x279602f7be0>"
      ]
     },
     "execution_count": 18,
     "metadata": {},
     "output_type": "execute_result"
    }
   ],
   "source": [
    "map(str,l) # another way # str is a inbuilt function"
   ]
  },
  {
   "cell_type": "code",
   "execution_count": 19,
   "id": "dd6c1638",
   "metadata": {},
   "outputs": [
    {
     "data": {
      "text/plain": [
       "['3', '5', '6', '7', '8', '9', '3', '5', '7', '4', '56', '7']"
      ]
     },
     "execution_count": 19,
     "metadata": {},
     "output_type": "execute_result"
    }
   ],
   "source": [
    "list(map(str,l))"
   ]
  },
  {
   "cell_type": "code",
   "execution_count": null,
   "id": "dfa07db3",
   "metadata": {},
   "outputs": [],
   "source": []
  }
 ],
 "metadata": {
  "kernelspec": {
   "display_name": "Python 3 (ipykernel)",
   "language": "python",
   "name": "python3"
  },
  "language_info": {
   "codemirror_mode": {
    "name": "ipython",
    "version": 3
   },
   "file_extension": ".py",
   "mimetype": "text/x-python",
   "name": "python",
   "nbconvert_exporter": "python",
   "pygments_lexer": "ipython3",
   "version": "3.9.12"
  }
 },
 "nbformat": 4,
 "nbformat_minor": 5
}
