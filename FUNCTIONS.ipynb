{
 "cells": [
  {
   "cell_type": "code",
   "execution_count": 1,
   "id": "28f3a689",
   "metadata": {},
   "outputs": [],
   "source": [
    "def test(a,b): #naming function\n",
    "    return a + b    #body of the function"
   ]
  },
  {
   "cell_type": "code",
   "execution_count": 2,
   "id": "1dfa5aef",
   "metadata": {},
   "outputs": [
    {
     "data": {
      "text/plain": [
       "5"
      ]
     },
     "execution_count": 2,
     "metadata": {},
     "output_type": "execute_result"
    }
   ],
   "source": [
    "test(2,3)"
   ]
  },
  {
   "cell_type": "code",
   "execution_count": 3,
   "id": "d493fbe1",
   "metadata": {},
   "outputs": [
    {
     "data": {
      "text/plain": [
       "'rohan pradhan'"
      ]
     },
     "execution_count": 3,
     "metadata": {},
     "output_type": "execute_result"
    }
   ],
   "source": [
    "test(\"rohan\",\" pradhan\")"
   ]
  },
  {
   "cell_type": "code",
   "execution_count": 4,
   "id": "18212d2b",
   "metadata": {},
   "outputs": [
    {
     "data": {
      "text/plain": [
       "15"
      ]
     },
     "execution_count": 4,
     "metadata": {},
     "output_type": "execute_result"
    }
   ],
   "source": [
    "test(a=9, b=6)"
   ]
  },
  {
   "cell_type": "code",
   "execution_count": 5,
   "id": "07a7b45c",
   "metadata": {},
   "outputs": [
    {
     "data": {
      "text/plain": [
       "15"
      ]
     },
     "execution_count": 5,
     "metadata": {},
     "output_type": "execute_result"
    }
   ],
   "source": [
    "test(b=6,a=9) # order of variables can be changed"
   ]
  },
  {
   "cell_type": "code",
   "execution_count": 6,
   "id": "8cbee342",
   "metadata": {},
   "outputs": [],
   "source": [
    "#every inbuilt function has a docstring\n",
    "#similarly we can create our docstring of our own functions created by us\n",
    "#docstrings=are readable instructions for a user=can be seen using shift+tab"
   ]
  },
  {
   "cell_type": "code",
   "execution_count": 7,
   "id": "6be3c335",
   "metadata": {},
   "outputs": [],
   "source": [
    "def test1(a,b):\n",
    "    '''this is my function  for concatenation or addition''' #this is the docstring created by me for function test1()\n",
    "    return a + b\n",
    "\n",
    "    "
   ]
  },
  {
   "cell_type": "code",
   "execution_count": 8,
   "id": "0e8b8dac",
   "metadata": {},
   "outputs": [
    {
     "data": {
      "text/plain": [
       "5"
      ]
     },
     "execution_count": 8,
     "metadata": {},
     "output_type": "execute_result"
    }
   ],
   "source": [
    "test1(1,4) #check shift+tab to see the docstring"
   ]
  },
  {
   "cell_type": "code",
   "execution_count": 9,
   "id": "1fcbf7a2",
   "metadata": {},
   "outputs": [],
   "source": [
    " def test2(a,b,c,d,e):\n",
    "        return a,b,c,d,e\n",
    "    "
   ]
  },
  {
   "cell_type": "code",
   "execution_count": 10,
   "id": "d7102d2a",
   "metadata": {},
   "outputs": [],
   "source": [
    "#test2(1,2,3,4,5,6) #error bcz of too many entries"
   ]
  },
  {
   "cell_type": "code",
   "execution_count": 11,
   "id": "0a902a28",
   "metadata": {},
   "outputs": [],
   "source": [
    "#test2(1,2,3,4) #error bcz of less no. of entries"
   ]
  },
  {
   "cell_type": "code",
   "execution_count": 12,
   "id": "afd73acd",
   "metadata": {},
   "outputs": [],
   "source": [
    "def test3(*a): #asterick signifies that the user can make any no. of entries\n",
    "    \"\"\"this function takes any no. of input entries from the user\"\"\"\n",
    "    return a\n",
    "\n"
   ]
  },
  {
   "cell_type": "code",
   "execution_count": 13,
   "id": "e55a578e",
   "metadata": {},
   "outputs": [
    {
     "data": {
      "text/plain": [
       "(6, 3, 4, 34, 3, 5)"
      ]
     },
     "execution_count": 13,
     "metadata": {},
     "output_type": "execute_result"
    }
   ],
   "source": [
    "test3(6,3,4,34,3,5)\n"
   ]
  },
  {
   "cell_type": "code",
   "execution_count": 14,
   "id": "d4fdbd88",
   "metadata": {},
   "outputs": [
    {
     "data": {
      "text/plain": [
       "(3, 4)"
      ]
     },
     "execution_count": 14,
     "metadata": {},
     "output_type": "execute_result"
    }
   ],
   "source": [
    "test3(3,4) #the function would return any no. of parameters in the form of tuple(by default)"
   ]
  },
  {
   "cell_type": "code",
   "execution_count": 15,
   "id": "31b885eb",
   "metadata": {},
   "outputs": [],
   "source": [
    "def test4(*a):\n",
    "    \"\"\"this function would return the inputs in the form of list data type\"\"\"\n",
    "    l=[]\n",
    "    for i in a:\n",
    "        l.append(i)\n",
    "    return l    "
   ]
  },
  {
   "cell_type": "code",
   "execution_count": 16,
   "id": "557bc8ca",
   "metadata": {},
   "outputs": [
    {
     "data": {
      "text/plain": [
       "[2, 4, 6, 3, 4, 5, 3, 4, [354, 56, 7, 98]]"
      ]
     },
     "execution_count": 16,
     "metadata": {},
     "output_type": "execute_result"
    }
   ],
   "source": [
    "test4(2,4,6,3,4,5,3,4,[354,56,7,98])"
   ]
  },
  {
   "cell_type": "code",
   "execution_count": 17,
   "id": "46530103",
   "metadata": {},
   "outputs": [],
   "source": [
    "def test5(a,b,c,d,*m):\n",
    "    return a,b,c,d,m"
   ]
  },
  {
   "cell_type": "code",
   "execution_count": 18,
   "id": "fc4b6abe",
   "metadata": {},
   "outputs": [
    {
     "data": {
      "text/plain": [
       "(3, 7, 8, 5, (34, 54, 67, 74, 456, 74))"
      ]
     },
     "execution_count": 18,
     "metadata": {},
     "output_type": "execute_result"
    }
   ],
   "source": [
    "test5(3,7,8,5,34,54,67,74,456,74) # notice how the ouput is written"
   ]
  },
  {
   "cell_type": "code",
   "execution_count": 19,
   "id": "d130db6e",
   "metadata": {},
   "outputs": [],
   "source": [
    "def test6(*m,a,b,c,d,e):\n",
    "    return m,a,b,c,d,e"
   ]
  },
  {
   "cell_type": "code",
   "execution_count": 20,
   "id": "2542b218",
   "metadata": {},
   "outputs": [],
   "source": [
    "#test6(32,5,6,7,8,5,56,7676,57) #error bcz all the inputs got consumed by *m only, and no input is assigned to a,b,c,d,e"
   ]
  },
  {
   "cell_type": "code",
   "execution_count": 21,
   "id": "2a5cea4f",
   "metadata": {},
   "outputs": [
    {
     "data": {
      "text/plain": [
       "((3.5435, 3, 43, 5, 7765, 56, 675), 2, 59, 55, 88, 45)"
      ]
     },
     "execution_count": 21,
     "metadata": {},
     "output_type": "execute_result"
    }
   ],
   "source": [
    "test6(3.5435,3,43,5,7765,56,675,a=2,b=59,c=55,d=88,e=45) #need for named assignment when *m is at the starting"
   ]
  },
  {
   "cell_type": "code",
   "execution_count": 22,
   "id": "b3ce84c9",
   "metadata": {},
   "outputs": [],
   "source": [
    "def test8(**kv):  #** double asterick for a key-value type of input i.e in case of dictionary\n",
    "    return kv"
   ]
  },
  {
   "cell_type": "code",
   "execution_count": 23,
   "id": "b4e6825b",
   "metadata": {},
   "outputs": [],
   "source": [
    "#test8(2,6,8,5,36,63,6,3)"
   ]
  },
  {
   "cell_type": "code",
   "execution_count": 24,
   "id": "92d92cf8",
   "metadata": {},
   "outputs": [
    {
     "data": {
      "text/plain": [
       "{'b': 4, 'c': 7, 'd': 34, 'e': [4, 6, 46, 46]}"
      ]
     },
     "execution_count": 24,
     "metadata": {},
     "output_type": "execute_result"
    }
   ],
   "source": [
    "test8(b=4 , c=7, d=34,e=[4,6,46,46])"
   ]
  },
  {
   "cell_type": "code",
   "execution_count": 25,
   "id": "f20e3dd0",
   "metadata": {},
   "outputs": [],
   "source": [
    "d={'b': 4, 'c': 7, 'd': 34, 'e': 99}"
   ]
  },
  {
   "cell_type": "code",
   "execution_count": 26,
   "id": "5124e843",
   "metadata": {},
   "outputs": [],
   "source": [
    "def test9(*m,**s):\n",
    "    return m, s\n",
    "    "
   ]
  },
  {
   "cell_type": "code",
   "execution_count": 27,
   "id": "293b9d0b",
   "metadata": {},
   "outputs": [
    {
     "data": {
      "text/plain": [
       "((34, 563, 63, 66, 36), {'b': 3, 'c': 56, 'd': 44})"
      ]
     },
     "execution_count": 27,
     "metadata": {},
     "output_type": "execute_result"
    }
   ],
   "source": [
    "test9(34,563,63,66,36,b=3,c=56,d=44)"
   ]
  },
  {
   "cell_type": "code",
   "execution_count": 28,
   "id": "140ef6f3",
   "metadata": {},
   "outputs": [],
   "source": [
    "def test10(*m): #input is taken in the form of tuples\n",
    "    \"\"\"this function will do summation of all the inputs entered  through the arguments\"\"\"\n",
    "    n=0\n",
    "    for i in m:\n",
    "        if type(i)==int:\n",
    "            n=n+i\n",
    "    return n        "
   ]
  },
  {
   "cell_type": "code",
   "execution_count": 29,
   "id": "9762528a",
   "metadata": {},
   "outputs": [
    {
     "data": {
      "text/plain": [
       "21"
      ]
     },
     "execution_count": 29,
     "metadata": {},
     "output_type": "execute_result"
    }
   ],
   "source": [
    "test10(3,6,8,4)"
   ]
  },
  {
   "cell_type": "code",
   "execution_count": 30,
   "id": "83438761",
   "metadata": {},
   "outputs": [],
   "source": [
    "def test10(*m): #input is taken in the form of tuples\n",
    "    \"\"\"this function will do multiplication of all the inputs entered  through the arguments\"\"\"\n",
    "    n=1\n",
    "    for i in m:\n",
    "        if type(i)==int:\n",
    "            n=n*i\n",
    "    return n"
   ]
  },
  {
   "cell_type": "code",
   "execution_count": 31,
   "id": "fcb7d1da",
   "metadata": {},
   "outputs": [
    {
     "data": {
      "text/plain": [
       "594"
      ]
     },
     "execution_count": 31,
     "metadata": {},
     "output_type": "execute_result"
    }
   ],
   "source": [
    "test10(3,99,2)"
   ]
  },
  {
   "cell_type": "code",
   "execution_count": 32,
   "id": "e8a7eb8e",
   "metadata": {},
   "outputs": [],
   "source": [
    "#lambda functions= anonymous function= inline function"
   ]
  },
  {
   "cell_type": "code",
   "execution_count": 33,
   "id": "8d210bf5",
   "metadata": {},
   "outputs": [],
   "source": [
    "n = lambda a,b:a+b #lambda keyword is reserved keyword for anonymous(no name to be defined) function\n",
    "#not recommended for complex logic"
   ]
  },
  {
   "cell_type": "code",
   "execution_count": 34,
   "id": "5ebc3bc6",
   "metadata": {},
   "outputs": [
    {
     "data": {
      "text/plain": [
       "9"
      ]
     },
     "execution_count": 34,
     "metadata": {},
     "output_type": "execute_result"
    }
   ],
   "source": [
    "n(4,5)"
   ]
  },
  {
   "cell_type": "code",
   "execution_count": 35,
   "id": "05042c84",
   "metadata": {},
   "outputs": [],
   "source": [
    "def test11(a,b): #this is a fully defined function\n",
    "    return a+b"
   ]
  },
  {
   "cell_type": "code",
   "execution_count": 36,
   "id": "24a6198a",
   "metadata": {},
   "outputs": [
    {
     "data": {
      "text/plain": [
       "9"
      ]
     },
     "execution_count": 36,
     "metadata": {},
     "output_type": "execute_result"
    }
   ],
   "source": [
    "test11(4,5)"
   ]
  },
  {
   "cell_type": "code",
   "execution_count": 37,
   "id": "98c9d7c1",
   "metadata": {},
   "outputs": [],
   "source": [
    "#both the above functions \"n\" and \"test11\" are similar w.r.t functionality"
   ]
  },
  {
   "cell_type": "code",
   "execution_count": 38,
   "id": "3cdde67a",
   "metadata": {},
   "outputs": [
    {
     "data": {
      "text/plain": [
       "'this function returns the input as it is'"
      ]
     },
     "execution_count": 38,
     "metadata": {},
     "output_type": "execute_result"
    }
   ],
   "source": [
    "b= lambda *rohan:rohan #before: is the input, after: is the body part\n",
    "\"\"\"this function returns the input as it is\"\"\""
   ]
  },
  {
   "cell_type": "code",
   "execution_count": 39,
   "id": "aa88b18a",
   "metadata": {},
   "outputs": [
    {
     "data": {
      "text/plain": [
       "(3, 5, 6, 7, 8, 34, 55, 654, 776, 56)"
      ]
     },
     "execution_count": 39,
     "metadata": {},
     "output_type": "execute_result"
    }
   ],
   "source": [
    "b(3,5,6,7,8,34,55,654,776,56)"
   ]
  },
  {
   "cell_type": "code",
   "execution_count": 40,
   "id": "84a754e7",
   "metadata": {},
   "outputs": [],
   "source": [
    "#COMPREHENSION OPERATIONS"
   ]
  },
  {
   "cell_type": "code",
   "execution_count": 41,
   "id": "543876e4",
   "metadata": {},
   "outputs": [],
   "source": [
    "t=(3,5,6,3,53,66,345,32) \n",
    "l=[]   #converting tuple t into a list l\n",
    "for i in t:\n",
    "    l.append(i)"
   ]
  },
  {
   "cell_type": "code",
   "execution_count": 42,
   "id": "17ef5007",
   "metadata": {},
   "outputs": [
    {
     "data": {
      "text/plain": [
       "[3, 5, 6, 3, 53, 66, 345, 32]"
      ]
     },
     "execution_count": 42,
     "metadata": {},
     "output_type": "execute_result"
    }
   ],
   "source": [
    "l "
   ]
  },
  {
   "cell_type": "code",
   "execution_count": 43,
   "id": "03606b2c",
   "metadata": {},
   "outputs": [
    {
     "data": {
      "text/plain": [
       "[3, 5, 6, 3, 53, 66, 345, 32]"
      ]
     },
     "execution_count": 43,
     "metadata": {},
     "output_type": "execute_result"
    }
   ],
   "source": [
    "#another way=LIST COMPREHENSION OPERATION\n",
    "[i for i in t] #read it as= [for i in t, return i] #square brackets here is the LIST COMPREHENSION"
   ]
  },
  {
   "cell_type": "code",
   "execution_count": 44,
   "id": "e79c170b",
   "metadata": {},
   "outputs": [],
   "source": [
    "s=\"rohan\"\n"
   ]
  },
  {
   "cell_type": "code",
   "execution_count": 45,
   "id": "33e187bb",
   "metadata": {},
   "outputs": [
    {
     "data": {
      "text/plain": [
       "['r', 'o', 'h', 'a', 'n']"
      ]
     },
     "execution_count": 45,
     "metadata": {},
     "output_type": "execute_result"
    }
   ],
   "source": [
    "[i for i in s]"
   ]
  },
  {
   "cell_type": "code",
   "execution_count": 46,
   "id": "15cf1d4e",
   "metadata": {},
   "outputs": [],
   "source": [
    "#challenge:list of square of all numbers till 10"
   ]
  },
  {
   "cell_type": "code",
   "execution_count": 47,
   "id": "0704a619",
   "metadata": {},
   "outputs": [
    {
     "data": {
      "text/plain": [
       "[0, 1, 4, 9, 16, 25, 36, 49, 64, 81, 100]"
      ]
     },
     "execution_count": 47,
     "metadata": {},
     "output_type": "execute_result"
    }
   ],
   "source": [
    "[i*i for i in range(11)] # for i in range(11), return i*i"
   ]
  },
  {
   "cell_type": "code",
   "execution_count": 48,
   "id": "821d2dc0",
   "metadata": {},
   "outputs": [],
   "source": [
    "l3=[]\n",
    "for i in range(11):\n",
    "    l3.append(i*i)"
   ]
  },
  {
   "cell_type": "code",
   "execution_count": 49,
   "id": "b354918b",
   "metadata": {},
   "outputs": [
    {
     "data": {
      "text/plain": [
       "[0, 1, 4, 9, 16, 25, 36, 49, 64, 81, 100]"
      ]
     },
     "execution_count": 49,
     "metadata": {},
     "output_type": "execute_result"
    }
   ],
   "source": [
    "l3"
   ]
  },
  {
   "cell_type": "code",
   "execution_count": 50,
   "id": "687dc180",
   "metadata": {},
   "outputs": [],
   "source": [
    "n4=lambda *x:[i for i in x] #returning the input values in the form of list"
   ]
  },
  {
   "cell_type": "code",
   "execution_count": 51,
   "id": "96704b37",
   "metadata": {},
   "outputs": [
    {
     "data": {
      "text/plain": [
       "[3, 6, 8, 9, 4, 7, 84, 45, 7]"
      ]
     },
     "execution_count": 51,
     "metadata": {},
     "output_type": "execute_result"
    }
   ],
   "source": [
    "n4(3,6,8,9,4,7,84,45,7) "
   ]
  },
  {
   "cell_type": "code",
   "execution_count": 52,
   "id": "e27df4d0",
   "metadata": {},
   "outputs": [],
   "source": [
    "n5=lambda y:[i**2 for i in y] #i*i is equivalent to i**2"
   ]
  },
  {
   "cell_type": "code",
   "execution_count": 53,
   "id": "896333ed",
   "metadata": {},
   "outputs": [
    {
     "data": {
      "text/plain": [
       "[0, 1, 4, 9, 16, 25, 36, 49, 64, 81, 100]"
      ]
     },
     "execution_count": 53,
     "metadata": {},
     "output_type": "execute_result"
    }
   ],
   "source": [
    "n5(y=range(11))"
   ]
  },
  {
   "cell_type": "code",
   "execution_count": 54,
   "id": "f45f44d1",
   "metadata": {},
   "outputs": [],
   "source": [
    "n5=lambda *y:[i**2 for i in y] #i*i is equivalent to i**2"
   ]
  },
  {
   "cell_type": "code",
   "execution_count": 55,
   "id": "1087d07b",
   "metadata": {},
   "outputs": [
    {
     "data": {
      "text/plain": [
       "[9, 25, 36]"
      ]
     },
     "execution_count": 55,
     "metadata": {},
     "output_type": "execute_result"
    }
   ],
   "source": [
    "n5(3,5,6)"
   ]
  },
  {
   "cell_type": "code",
   "execution_count": 56,
   "id": "4bd6e211",
   "metadata": {},
   "outputs": [],
   "source": [
    "#NOTE= we cannot give docstring to the lambda function"
   ]
  },
  {
   "cell_type": "code",
   "execution_count": 57,
   "id": "8ed33ba2",
   "metadata": {},
   "outputs": [],
   "source": [
    "#test14(a=7, b=\"rohan\", c=756, d=\"pradhan\",l=[3,4,6,74,\"aman\"]) \n",
    "#challenge=count the number of strings passed thru the arguments"
   ]
  },
  {
   "cell_type": "code",
   "execution_count": 58,
   "id": "f74d6af6",
   "metadata": {},
   "outputs": [],
   "source": [
    "def test14(**kv):\n",
    "    print(kv) #dictionary data type\n",
    "    print(kv.values())\n",
    "    count=0\n",
    "    for i in kv.values():\n",
    "        if type(i)==str:\n",
    "            count=count+1 \n",
    "        if type(i)==list:\n",
    "            for w in i:\n",
    "                if type(w)==str:\n",
    "                    count=count+1\n",
    "    return count        \n",
    "\n",
    "    \n",
    "    \n",
    "    "
   ]
  },
  {
   "cell_type": "code",
   "execution_count": 59,
   "id": "f71724e5",
   "metadata": {},
   "outputs": [
    {
     "name": "stdout",
     "output_type": "stream",
     "text": [
      "{'a': 7, 'b': 'rohan', 'c': 756, 'd': 'pradhan', 'l': [3, 'sharma', 6, 74, 'aman']}\n",
      "dict_values([7, 'rohan', 756, 'pradhan', [3, 'sharma', 6, 74, 'aman']])\n"
     ]
    },
    {
     "data": {
      "text/plain": [
       "4"
      ]
     },
     "execution_count": 59,
     "metadata": {},
     "output_type": "execute_result"
    }
   ],
   "source": [
    "test14(a=7, b=\"rohan\", c=756, d=\"pradhan\",l=[3,\"sharma\",6,74,\"aman\"])"
   ]
  },
  {
   "cell_type": "code",
   "execution_count": 60,
   "id": "d382d113",
   "metadata": {},
   "outputs": [],
   "source": [
    "def test15(**kv):\n",
    "    return list(kv.values()) #converting dict datatype into list data type"
   ]
  },
  {
   "cell_type": "code",
   "execution_count": 61,
   "id": "a33f3423",
   "metadata": {},
   "outputs": [
    {
     "data": {
      "text/plain": [
       "[7, 'rohan', 756, 'pradhan', [3, 'sharma', 6, 74, 'aman']]"
      ]
     },
     "execution_count": 61,
     "metadata": {},
     "output_type": "execute_result"
    }
   ],
   "source": [
    "test15(a=7, b=\"rohan\", c=756, d=\"pradhan\",l=[3,\"sharma\",6,74,\"aman\"])"
   ]
  },
  {
   "cell_type": "code",
   "execution_count": null,
   "id": "91243cd6",
   "metadata": {},
   "outputs": [],
   "source": []
  },
  {
   "cell_type": "code",
   "execution_count": null,
   "id": "211d652e",
   "metadata": {},
   "outputs": [],
   "source": []
  }
 ],
 "metadata": {
  "kernelspec": {
   "display_name": "Python 3 (ipykernel)",
   "language": "python",
   "name": "python3"
  },
  "language_info": {
   "codemirror_mode": {
    "name": "ipython",
    "version": 3
   },
   "file_extension": ".py",
   "mimetype": "text/x-python",
   "name": "python",
   "nbconvert_exporter": "python",
   "pygments_lexer": "ipython3",
   "version": "3.9.12"
  }
 },
 "nbformat": 4,
 "nbformat_minor": 5
}
