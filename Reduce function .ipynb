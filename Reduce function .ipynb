{
 "cells": [
  {
   "cell_type": "code",
   "execution_count": 1,
   "id": "f648f324",
   "metadata": {},
   "outputs": [],
   "source": [
    "from functools import reduce   #need to import the reduce function"
   ]
  },
  {
   "cell_type": "code",
   "execution_count": 2,
   "id": "5aa92997",
   "metadata": {},
   "outputs": [],
   "source": [
    "l=[3,4,5,6,7,8,9]"
   ]
  },
  {
   "cell_type": "code",
   "execution_count": 3,
   "id": "c0aef85c",
   "metadata": {},
   "outputs": [],
   "source": [
    "#challenge= summation of all the elements of the list l"
   ]
  },
  {
   "cell_type": "code",
   "execution_count": 4,
   "id": "731ad156",
   "metadata": {},
   "outputs": [
    {
     "data": {
      "text/plain": [
       "42"
      ]
     },
     "execution_count": 4,
     "metadata": {},
     "output_type": "execute_result"
    }
   ],
   "source": [
    "sum(l)"
   ]
  },
  {
   "cell_type": "code",
   "execution_count": 5,
   "id": "4ee7ea7b",
   "metadata": {},
   "outputs": [],
   "source": [
    "#reduce() #reduce function takes two arguments : 1) function 2)iterable element\n"
   ]
  },
  {
   "cell_type": "code",
   "execution_count": 6,
   "id": "1ddedc81",
   "metadata": {},
   "outputs": [
    {
     "data": {
      "text/plain": [
       "42"
      ]
     },
     "execution_count": 6,
     "metadata": {},
     "output_type": "execute_result"
    }
   ],
   "source": [
    "reduce(lambda a,b:a+b,l) #another way of summation"
   ]
  },
  {
   "cell_type": "code",
   "execution_count": 7,
   "id": "391cd4ef",
   "metadata": {},
   "outputs": [],
   "source": [
    "#reduce function always try to perform aggregate/accumulate operations over the iterables passed through it\n",
    "#it takes two elements/parameters at a time to reduce the iterable collection, \n",
    "#the reduction happens according to the function arguement passed through the return function\n",
    "#reduce function is useful when we have to get a single output viz. doing operations across the whole iterbale collection\n",
    "#multiplication,summation,etc"
   ]
  },
  {
   "cell_type": "code",
   "execution_count": 8,
   "id": "20fe2555",
   "metadata": {},
   "outputs": [
    {
     "data": {
      "text/plain": [
       "[3, 4, 5, 6, 7, 8, 9]"
      ]
     },
     "execution_count": 8,
     "metadata": {},
     "output_type": "execute_result"
    }
   ],
   "source": [
    "l"
   ]
  },
  {
   "cell_type": "code",
   "execution_count": 9,
   "id": "e07e6c0c",
   "metadata": {},
   "outputs": [
    {
     "data": {
      "text/plain": [
       "181440"
      ]
     },
     "execution_count": 9,
     "metadata": {},
     "output_type": "execute_result"
    }
   ],
   "source": [
    "reduce(lambda x,y:x*y,l)"
   ]
  },
  {
   "cell_type": "code",
   "execution_count": null,
   "id": "f8c584f3",
   "metadata": {},
   "outputs": [],
   "source": []
  },
  {
   "cell_type": "code",
   "execution_count": null,
   "id": "56d3cc07",
   "metadata": {},
   "outputs": [],
   "source": []
  }
 ],
 "metadata": {
  "kernelspec": {
   "display_name": "Python 3 (ipykernel)",
   "language": "python",
   "name": "python3"
  },
  "language_info": {
   "codemirror_mode": {
    "name": "ipython",
    "version": 3
   },
   "file_extension": ".py",
   "mimetype": "text/x-python",
   "name": "python",
   "nbconvert_exporter": "python",
   "pygments_lexer": "ipython3",
   "version": "3.9.12"
  }
 },
 "nbformat": 4,
 "nbformat_minor": 5
}
