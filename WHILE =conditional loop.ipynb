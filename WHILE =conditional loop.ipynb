{
 "cells": [
  {
   "cell_type": "code",
   "execution_count": 1,
   "id": "ad2fc007",
   "metadata": {},
   "outputs": [
    {
     "name": "stdout",
     "output_type": "stream",
     "text": [
      "1\n",
      "2\n",
      "3\n",
      "4\n",
      "5\n",
      "6\n",
      "7\n",
      "8\n",
      "9\n",
      "10\n"
     ]
    }
   ],
   "source": [
    "a=1\n",
    "b=10\n",
    "while a<=b:   #if this condition is satisfied, only then the body part of code would execute\n",
    "    print(a)\n",
    "    a=a+1 #updating the value of a in every loop cycle #increment operator is must to prevent the infinite loop"
   ]
  },
  {
   "cell_type": "code",
   "execution_count": 2,
   "id": "746686af",
   "metadata": {},
   "outputs": [],
   "source": [
    "#while loop=the loop continues to repeat till the time the conditions remains fulfilled.\n",
    "#it is like a loop of if conditionalities.\n",
    "#in every cycle of loop==if conditionality remains fulfilled, the loop will continue to repeat.\n",
    "#IF + LOOP = WHILE"
   ]
  },
  {
   "cell_type": "code",
   "execution_count": 3,
   "id": "cae2ad60",
   "metadata": {},
   "outputs": [
    {
     "name": "stdout",
     "output_type": "stream",
     "text": [
      "print this else block\n"
     ]
    }
   ],
   "source": [
    "while a<=b:\n",
    "        print(a)\n",
    "        a=a+2\n",
    "else: #this else statement will execute once the while loop exhausts itself \n",
    "    print(\"print this else block\")"
   ]
  },
  {
   "cell_type": "code",
   "execution_count": 4,
   "id": "8b6a5919",
   "metadata": {},
   "outputs": [],
   "source": [
    "# in the above case,only else statement executed because the value of a has become 11, bcz of the previous code"
   ]
  },
  {
   "cell_type": "code",
   "execution_count": 5,
   "id": "c5a03f90",
   "metadata": {},
   "outputs": [
    {
     "name": "stdout",
     "output_type": "stream",
     "text": [
      "1\n",
      "3\n",
      "5\n",
      "7\n",
      "9\n",
      "print this else block\n"
     ]
    }
   ],
   "source": [
    "a=1\n",
    "b=10\n",
    "while a<=b:\n",
    "        print(a)\n",
    "        a=a+2\n",
    "else: #this else statement will execute once the while loop exhausts itself \n",
    "    print(\"print this else block\")"
   ]
  },
  {
   "cell_type": "code",
   "execution_count": 6,
   "id": "0fd8f6d1",
   "metadata": {},
   "outputs": [
    {
     "name": "stdout",
     "output_type": "stream",
     "text": [
      "1\n",
      "2\n",
      "3\n",
      "4\n",
      "5\n"
     ]
    }
   ],
   "source": [
    "a=1\n",
    "b=10\n",
    "while a<10:\n",
    "    print(a)\n",
    "    if a==5:\n",
    "        break #it breaks the while loop #it also doesnt let the else statement execute (bcz while loop is not exhaus ted, and only broke in between)\n",
    "    a=a+1\n",
    "else: #this is also part of the while loop at the terminal stage, so BREAK also terminates the else statement also.\n",
    "    print(\"print this\")"
   ]
  },
  {
   "cell_type": "code",
   "execution_count": 8,
   "id": "25d162e7",
   "metadata": {},
   "outputs": [
    {
     "ename": "IndentationError",
     "evalue": "unexpected indent (962863633.py, line 5)",
     "output_type": "error",
     "traceback": [
      "\u001b[1;36m  Input \u001b[1;32mIn [8]\u001b[1;36m\u001b[0m\n\u001b[1;33m    if a==3:\u001b[0m\n\u001b[1;37m    ^\u001b[0m\n\u001b[1;31mIndentationError\u001b[0m\u001b[1;31m:\u001b[0m unexpected indent\n"
     ]
    }
   ],
   "source": [
    "\n",
    "a=1\n",
    "b=10\n",
    "while a<b:\n",
    " print(a) # i have put hash here, so that infinite loop doesnt happen\n",
    "    if a==3:\n",
    "        continue #continue will let the loop run again from start, and the following statement would not be executed\n",
    "    a=a+1 #it would not be executed bcz the continue keyword has shifted the execution towards the starting of the while loop again\n",
    " \n"
   ]
  },
  {
   "cell_type": "code",
   "execution_count": 9,
   "id": "6cc7ae2f",
   "metadata": {},
   "outputs": [
    {
     "name": "stdout",
     "output_type": "stream",
     "text": [
      "2\n",
      "4\n",
      "5\n",
      "6\n",
      "7\n",
      "8\n",
      "9\n",
      "10\n"
     ]
    }
   ],
   "source": [
    "a=1\n",
    "b=10\n",
    "while a<b:\n",
    "    a=a+1\n",
    "    if a==3:\n",
    "        continue #if a==3 value is satified, continue will execute and it will not let the code run thru print(a), therefore 3 value missing in output\n",
    "    print(a)    "
   ]
  },
  {
   "cell_type": "code",
   "execution_count": 10,
   "id": "19510deb",
   "metadata": {},
   "outputs": [],
   "source": [
    "l=[1,4,2,4,66,43]"
   ]
  },
  {
   "cell_type": "code",
   "execution_count": 11,
   "id": "17108610",
   "metadata": {},
   "outputs": [
    {
     "name": "stdout",
     "output_type": "stream",
     "text": [
      "1\n",
      "4\n",
      "2\n",
      "4\n",
      "66\n",
      "43\n"
     ]
    }
   ],
   "source": [
    "for i in l:\n",
    "    print(i)"
   ]
  },
  {
   "cell_type": "code",
   "execution_count": 12,
   "id": "678d42c2",
   "metadata": {},
   "outputs": [],
   "source": [
    "#how to iterate the list through WHILE loop?"
   ]
  },
  {
   "cell_type": "code",
   "execution_count": 13,
   "id": "6eff5acb",
   "metadata": {},
   "outputs": [
    {
     "data": {
      "text/plain": [
       "[1, 4, 2, 4, 66, 43]"
      ]
     },
     "execution_count": 13,
     "metadata": {},
     "output_type": "execute_result"
    }
   ],
   "source": [
    "l"
   ]
  },
  {
   "cell_type": "code",
   "execution_count": 14,
   "id": "74fdc96e",
   "metadata": {},
   "outputs": [
    {
     "name": "stdout",
     "output_type": "stream",
     "text": [
      "1\n",
      "4\n",
      "2\n",
      "4\n",
      "66\n",
      "43\n"
     ]
    }
   ],
   "source": [
    "a=0 #declaring a local variable\n",
    "while a < len(l): #conditionalities\n",
    "    print(l[a])\n",
    "    a=a+1 #this statement forms the basis of the loop=increment operator"
   ]
  },
  {
   "cell_type": "code",
   "execution_count": 15,
   "id": "e3816d82",
   "metadata": {},
   "outputs": [],
   "source": [
    "t=(2,3,6,2,46,7,4,9,0,45,5,4)\n",
    "\n"
   ]
  },
  {
   "cell_type": "code",
   "execution_count": 16,
   "id": "190da50f",
   "metadata": {},
   "outputs": [],
   "source": [
    "#challenge=print the index of 6 and 7"
   ]
  },
  {
   "cell_type": "code",
   "execution_count": 17,
   "id": "2dddfcdc",
   "metadata": {},
   "outputs": [
    {
     "name": "stdout",
     "output_type": "stream",
     "text": [
      "2\n",
      "5\n"
     ]
    }
   ],
   "source": [
    "a=0\n",
    "while a<len(t):\n",
    "    if t[a]==6:\n",
    "        print(a)\n",
    "    if t[a]==7:\n",
    "        print(a)\n",
    "    a=a+1    #increment operator is must to prevent the infinite loop"
   ]
  },
  {
   "cell_type": "code",
   "execution_count": 18,
   "id": "651099c9",
   "metadata": {},
   "outputs": [
    {
     "name": "stdout",
     "output_type": "stream",
     "text": [
      "2\n",
      "5\n"
     ]
    }
   ],
   "source": [
    "a=0\n",
    "while a<len(t):\n",
    "    if t[a]==6 or t[a]==7:\n",
    "        print(a)\n",
    "    a=a+1    "
   ]
  },
  {
   "cell_type": "code",
   "execution_count": 19,
   "id": "3f6d070f",
   "metadata": {},
   "outputs": [
    {
     "name": "stdout",
     "output_type": "stream",
     "text": [
      "0\n",
      "1\n",
      "2\n",
      "3\n",
      "4\n",
      "5\n",
      "6\n",
      "7\n",
      "8\n",
      "9\n",
      "10\n",
      "11\n"
     ]
    }
   ],
   "source": [
    "a=0\n",
    "while a<len(t):\n",
    "    if t[a]==6 or 7: # this is a different code\n",
    "        print(a)\n",
    "    a=a+1 "
   ]
  },
  {
   "cell_type": "code",
   "execution_count": 20,
   "id": "df3fe2d1",
   "metadata": {},
   "outputs": [],
   "source": [
    "t=(7,3,5,32,6,7,8,6)"
   ]
  },
  {
   "cell_type": "code",
   "execution_count": 21,
   "id": "b6ac8a2f",
   "metadata": {},
   "outputs": [],
   "source": [
    "#challenge=backward or negative indices of 6 and 7"
   ]
  },
  {
   "cell_type": "code",
   "execution_count": 22,
   "id": "07fcf025",
   "metadata": {},
   "outputs": [
    {
     "name": "stdout",
     "output_type": "stream",
     "text": [
      "-1\n",
      "-3\n",
      "-4\n",
      "-8\n"
     ]
    }
   ],
   "source": [
    "a = -1\n",
    "while a >=  -len(t):\n",
    "    if t[a]==6 or t[a]==7:\n",
    "        print(a)\n",
    "    a=a-1      # can be written as a-=1"
   ]
  },
  {
   "cell_type": "code",
   "execution_count": 23,
   "id": "6b7e2f38",
   "metadata": {},
   "outputs": [
    {
     "name": "stdout",
     "output_type": "stream",
     "text": [
      "-1\n",
      "-3\n",
      "-4\n",
      "-8\n"
     ]
    }
   ],
   "source": [
    "#another way\n",
    "a=-1\n",
    "while a <= len(t):\n",
    "    if t[a]==6 or t[a]==7:\n",
    "        print(a)\n",
    "    if a==-len(t):\n",
    "        break\n",
    "    a=a-1    \n",
    "        "
   ]
  },
  {
   "cell_type": "code",
   "execution_count": 34,
   "id": "814276cb",
   "metadata": {},
   "outputs": [],
   "source": [
    "d={\"k1\":\"rohan\",\"k2\":[4,2,5,63],\"k3\":(2,3,4,5)}"
   ]
  },
  {
   "cell_type": "code",
   "execution_count": 35,
   "id": "5be4793a",
   "metadata": {},
   "outputs": [],
   "source": [
    "#challenge=extract all the values of dictionary d using while loop"
   ]
  },
  {
   "cell_type": "code",
   "execution_count": 33,
   "id": "69babdb0",
   "metadata": {},
   "outputs": [
    {
     "name": "stdout",
     "output_type": "stream",
     "text": [
      "rohan\n",
      "[4, 2, 5, 63]\n",
      "(2, 3, 4, 5)\n"
     ]
    }
   ],
   "source": [
    "a=0\n",
    "b=list(d.keys())\n",
    "while a < len(d):\n",
    "    print(d[b[a]]) \n",
    "    a=a+1\n",
    "    \n",
    "     \n",
    "    \n",
    "    "
   ]
  },
  {
   "cell_type": "code",
   "execution_count": 29,
   "id": "080fec4c",
   "metadata": {},
   "outputs": [
    {
     "data": {
      "text/plain": [
       "3"
      ]
     },
     "execution_count": 29,
     "metadata": {},
     "output_type": "execute_result"
    }
   ],
   "source": []
  },
  {
   "cell_type": "code",
   "execution_count": null,
   "id": "b639c0de",
   "metadata": {},
   "outputs": [],
   "source": []
  },
  {
   "cell_type": "code",
   "execution_count": null,
   "id": "4d407647",
   "metadata": {},
   "outputs": [],
   "source": []
  },
  {
   "cell_type": "code",
   "execution_count": null,
   "id": "50b3c392",
   "metadata": {},
   "outputs": [],
   "source": []
  },
  {
   "cell_type": "code",
   "execution_count": null,
   "id": "09855a26",
   "metadata": {},
   "outputs": [],
   "source": []
  }
 ],
 "metadata": {
  "kernelspec": {
   "display_name": "Python 3 (ipykernel)",
   "language": "python",
   "name": "python3"
  },
  "language_info": {
   "codemirror_mode": {
    "name": "ipython",
    "version": 3
   },
   "file_extension": ".py",
   "mimetype": "text/x-python",
   "name": "python",
   "nbconvert_exporter": "python",
   "pygments_lexer": "ipython3",
   "version": "3.9.12"
  }
 },
 "nbformat": 4,
 "nbformat_minor": 5
}
