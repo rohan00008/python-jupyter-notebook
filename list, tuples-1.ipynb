{
 "cells": [
  {
   "cell_type": "code",
   "execution_count": 1,
   "id": "3f8fb032",
   "metadata": {},
   "outputs": [],
   "source": [
    "list=[1,21,12.3,True,\"sudh\"] #string and list operations are mostly same"
   ]
  },
  {
   "cell_type": "code",
   "execution_count": 2,
   "id": "a19b455e",
   "metadata": {},
   "outputs": [
    {
     "data": {
      "text/plain": [
       "21"
      ]
     },
     "execution_count": 2,
     "metadata": {},
     "output_type": "execute_result"
    }
   ],
   "source": [
    "list[1]"
   ]
  },
  {
   "cell_type": "code",
   "execution_count": 3,
   "id": "9aa63dd6",
   "metadata": {},
   "outputs": [
    {
     "data": {
      "text/plain": [
       "'sudh'"
      ]
     },
     "execution_count": 3,
     "metadata": {},
     "output_type": "execute_result"
    }
   ],
   "source": [
    "list[-1]"
   ]
  },
  {
   "cell_type": "code",
   "execution_count": 4,
   "id": "9760b91d",
   "metadata": {},
   "outputs": [
    {
     "data": {
      "text/plain": [
       "5"
      ]
     },
     "execution_count": 4,
     "metadata": {},
     "output_type": "execute_result"
    }
   ],
   "source": [
    "len(list)"
   ]
  },
  {
   "cell_type": "code",
   "execution_count": 5,
   "id": "6a129bdb",
   "metadata": {},
   "outputs": [
    {
     "data": {
      "text/plain": [
       "[1, 21, 12.3, True, 'sudh']"
      ]
     },
     "execution_count": 5,
     "metadata": {},
     "output_type": "execute_result"
    }
   ],
   "source": [
    "list[0:5] # list slicing operation\n"
   ]
  },
  {
   "cell_type": "code",
   "execution_count": 6,
   "id": "f90d3963",
   "metadata": {},
   "outputs": [
    {
     "data": {
      "text/plain": [
       "['sudh', True, 12.3, 21, 1]"
      ]
     },
     "execution_count": 6,
     "metadata": {},
     "output_type": "execute_result"
    }
   ],
   "source": [
    " list[::-1]"
   ]
  },
  {
   "cell_type": "code",
   "execution_count": 7,
   "id": "8130469c",
   "metadata": {},
   "outputs": [
    {
     "data": {
      "text/plain": [
       "[1, 21, 12.3, True, 'sudh']"
      ]
     },
     "execution_count": 7,
     "metadata": {},
     "output_type": "execute_result"
    }
   ],
   "source": [
    "list\n"
   ]
  },
  {
   "cell_type": "code",
   "execution_count": 8,
   "id": "c3b4ca4b",
   "metadata": {},
   "outputs": [
    {
     "data": {
      "text/plain": [
       "[1, 21, 12.3, True, 'sudh']"
      ]
     },
     "execution_count": 8,
     "metadata": {},
     "output_type": "execute_result"
    }
   ],
   "source": [
    "list[0:100]"
   ]
  },
  {
   "cell_type": "code",
   "execution_count": 9,
   "id": "8767d727",
   "metadata": {},
   "outputs": [
    {
     "data": {
      "text/plain": [
       "[1, 12.3, 'sudh']"
      ]
     },
     "execution_count": 9,
     "metadata": {},
     "output_type": "execute_result"
    }
   ],
   "source": [
    "list[0:100:2]"
   ]
  },
  {
   "cell_type": "code",
   "execution_count": 10,
   "id": "9a1dcd13",
   "metadata": {},
   "outputs": [
    {
     "data": {
      "text/plain": [
       "[]"
      ]
     },
     "execution_count": 10,
     "metadata": {},
     "output_type": "execute_result"
    }
   ],
   "source": [
    "list[0:100:-1] #contradiction of direction #use scale manually"
   ]
  },
  {
   "cell_type": "code",
   "execution_count": 11,
   "id": "29eac1d6",
   "metadata": {},
   "outputs": [
    {
     "data": {
      "text/plain": [
       "[1, 21, 12.3]"
      ]
     },
     "execution_count": 11,
     "metadata": {},
     "output_type": "execute_result"
    }
   ],
   "source": [
    "list[:3] "
   ]
  },
  {
   "cell_type": "code",
   "execution_count": 13,
   "id": "4c3e6960",
   "metadata": {},
   "outputs": [
    {
     "ename": "TypeError",
     "evalue": "can only concatenate list (not \"str\") to list",
     "output_type": "error",
     "traceback": [
      "\u001b[1;31m---------------------------------------------------------------------------\u001b[0m",
      "\u001b[1;31mTypeError\u001b[0m                                 Traceback (most recent call last)",
      "Input \u001b[1;32mIn [13]\u001b[0m, in \u001b[0;36m<cell line: 1>\u001b[1;34m()\u001b[0m\n\u001b[1;32m----> 1\u001b[0m \u001b[38;5;28;43mlist\u001b[39;49m\u001b[38;5;241;43m+\u001b[39;49m\u001b[38;5;124;43m\"\u001b[39;49m\u001b[38;5;124;43mrohan\u001b[39;49m\u001b[38;5;124;43m\"\u001b[39;49m\n",
      "\u001b[1;31mTypeError\u001b[0m: can only concatenate list (not \"str\") to list"
     ]
    }
   ],
   "source": [
    "list+\"rohan\" #data type mismatch between list and string"
   ]
  },
  {
   "cell_type": "code",
   "execution_count": 14,
   "id": "39ee1881",
   "metadata": {},
   "outputs": [
    {
     "data": {
      "text/plain": [
       "[1, 21, 12.3, True, 'sudh', 'rohan']"
      ]
     },
     "execution_count": 14,
     "metadata": {},
     "output_type": "execute_result"
    }
   ],
   "source": [
    "list+[\"rohan\"] #concatenation operation happens only on same data set"
   ]
  },
  {
   "cell_type": "code",
   "execution_count": 15,
   "id": "921a7d8f",
   "metadata": {},
   "outputs": [
    {
     "data": {
      "text/plain": [
       "[1, 21, 12.3, True, 'sudh', 1, 21, 12.3, True, 'sudh']"
      ]
     },
     "execution_count": 15,
     "metadata": {},
     "output_type": "execute_result"
    }
   ],
   "source": [
    "list*2"
   ]
  },
  {
   "cell_type": "code",
   "execution_count": 16,
   "id": "6d54be1f",
   "metadata": {},
   "outputs": [
    {
     "data": {
      "text/plain": [
       "False"
      ]
     },
     "execution_count": 16,
     "metadata": {},
     "output_type": "execute_result"
    }
   ],
   "source": [
    "60 in list # IN as an operator"
   ]
  },
  {
   "cell_type": "code",
   "execution_count": 17,
   "id": "40d7d485",
   "metadata": {},
   "outputs": [
    {
     "data": {
      "text/plain": [
       "True"
      ]
     },
     "execution_count": 17,
     "metadata": {},
     "output_type": "execute_result"
    }
   ],
   "source": [
    "1 in list"
   ]
  },
  {
   "cell_type": "code",
   "execution_count": 18,
   "id": "62df6f38",
   "metadata": {},
   "outputs": [
    {
     "ename": "TypeError",
     "evalue": "'>' not supported between instances of 'str' and 'int'",
     "output_type": "error",
     "traceback": [
      "\u001b[1;31m---------------------------------------------------------------------------\u001b[0m",
      "\u001b[1;31mTypeError\u001b[0m                                 Traceback (most recent call last)",
      "Input \u001b[1;32mIn [18]\u001b[0m, in \u001b[0;36m<cell line: 1>\u001b[1;34m()\u001b[0m\n\u001b[1;32m----> 1\u001b[0m \u001b[38;5;28;43mmax\u001b[39;49m\u001b[43m(\u001b[49m\u001b[38;5;28;43mlist\u001b[39;49m\u001b[43m)\u001b[49m\n",
      "\u001b[1;31mTypeError\u001b[0m: '>' not supported between instances of 'str' and 'int'"
     ]
    }
   ],
   "source": [
    "max(list) #string and int cannot be compared."
   ]
  },
  {
   "cell_type": "code",
   "execution_count": 19,
   "id": "3375b08d",
   "metadata": {},
   "outputs": [],
   "source": [
    "list1=[1,2,3,4,7,8] #only similar data types can be compared"
   ]
  },
  {
   "cell_type": "code",
   "execution_count": 20,
   "id": "a4ca9336",
   "metadata": {},
   "outputs": [
    {
     "data": {
      "text/plain": [
       "8"
      ]
     },
     "execution_count": 20,
     "metadata": {},
     "output_type": "execute_result"
    }
   ],
   "source": [
    "max(list1)"
   ]
  },
  {
   "cell_type": "code",
   "execution_count": 21,
   "id": "72da9b06",
   "metadata": {},
   "outputs": [],
   "source": [
    "list2=[\"rohan\", \"amante\", \"rahul\", \"ravi\",\"chandranshu\"]"
   ]
  },
  {
   "cell_type": "code",
   "execution_count": 22,
   "id": "344245b3",
   "metadata": {},
   "outputs": [
    {
     "data": {
      "text/plain": [
       "'rohan'"
      ]
     },
     "execution_count": 22,
     "metadata": {},
     "output_type": "execute_result"
    }
   ],
   "source": [
    "max(list2)  #only same data types can be compared.  #it gave max. in terms of the alphabetical order."
   ]
  },
  {
   "cell_type": "code",
   "execution_count": 23,
   "id": "6a898fc1",
   "metadata": {},
   "outputs": [
    {
     "data": {
      "text/plain": [
       "'amante'"
      ]
     },
     "execution_count": 23,
     "metadata": {},
     "output_type": "execute_result"
    }
   ],
   "source": [
    "min(list2)"
   ]
  },
  {
   "cell_type": "code",
   "execution_count": 24,
   "id": "25c5c254",
   "metadata": {},
   "outputs": [
    {
     "data": {
      "text/plain": [
       "1"
      ]
     },
     "execution_count": 24,
     "metadata": {},
     "output_type": "execute_result"
    }
   ],
   "source": [
    "min(list1)"
   ]
  },
  {
   "cell_type": "code",
   "execution_count": 25,
   "id": "1ed30e59",
   "metadata": {},
   "outputs": [
    {
     "data": {
      "text/plain": [
       "[1, 21, 12.3, True, 'sudh']"
      ]
     },
     "execution_count": 25,
     "metadata": {},
     "output_type": "execute_result"
    }
   ],
   "source": [
    "list"
   ]
  },
  {
   "cell_type": "code",
   "execution_count": 26,
   "id": "827d7dad",
   "metadata": {},
   "outputs": [],
   "source": [
    "list.append(\"pradhan\")\n",
    "#append the data set at the very last of the list"
   ]
  },
  {
   "cell_type": "code",
   "execution_count": 27,
   "id": "d3b8c38d",
   "metadata": {},
   "outputs": [
    {
     "data": {
      "text/plain": [
       "[1, 21, 12.3, True, 'sudh', 'pradhan']"
      ]
     },
     "execution_count": 27,
     "metadata": {},
     "output_type": "execute_result"
    }
   ],
   "source": [
    "list\n"
   ]
  },
  {
   "cell_type": "code",
   "execution_count": 28,
   "id": "fbd61449",
   "metadata": {},
   "outputs": [],
   "source": [
    "list.append([9,4664,172,133]) #append takes only a single element at a time, single element is in the square bracket only."
   ]
  },
  {
   "cell_type": "code",
   "execution_count": 29,
   "id": "8a4e2c4a",
   "metadata": {},
   "outputs": [
    {
     "data": {
      "text/plain": [
       "[1, 21, 12.3, True, 'sudh', 'pradhan', [9, 4664, 172, 133]]"
      ]
     },
     "execution_count": 29,
     "metadata": {},
     "output_type": "execute_result"
    }
   ],
   "source": [
    "list"
   ]
  },
  {
   "cell_type": "code",
   "execution_count": 30,
   "id": "d50909ec",
   "metadata": {},
   "outputs": [
    {
     "data": {
      "text/plain": [
       "1"
      ]
     },
     "execution_count": 30,
     "metadata": {},
     "output_type": "execute_result"
    }
   ],
   "source": [
    "list.pop(0)  #remove the data from the existing list #return the item from the given index of the list"
   ]
  },
  {
   "cell_type": "code",
   "execution_count": 31,
   "id": "bea355f3",
   "metadata": {},
   "outputs": [
    {
     "data": {
      "text/plain": [
       "[21, 12.3, True, 'sudh', 'pradhan', [9, 4664, 172, 133]]"
      ]
     },
     "execution_count": 31,
     "metadata": {},
     "output_type": "execute_result"
    }
   ],
   "source": [
    "list"
   ]
  },
  {
   "cell_type": "code",
   "execution_count": 32,
   "id": "c8e6e4d8",
   "metadata": {},
   "outputs": [
    {
     "data": {
      "text/plain": [
       "[9, 4664, 172, 133]"
      ]
     },
     "execution_count": 32,
     "metadata": {},
     "output_type": "execute_result"
    }
   ],
   "source": [
    "list.pop() #if index not mentioned insie the pop function,then it assumes the last index i.e \n",
    "#ill remove data from the last index."
   ]
  },
  {
   "cell_type": "code",
   "execution_count": 33,
   "id": "d3a52f87",
   "metadata": {},
   "outputs": [
    {
     "data": {
      "text/plain": [
       "[21, 12.3, True, 'sudh', 'pradhan']"
      ]
     },
     "execution_count": 33,
     "metadata": {},
     "output_type": "execute_result"
    }
   ],
   "source": [
    "list"
   ]
  },
  {
   "cell_type": "code",
   "execution_count": 34,
   "id": "6cf7dda4",
   "metadata": {},
   "outputs": [],
   "source": [
    "list.reverse() #reverse the entire list permananently and also over writes the list with the new reverse list"
   ]
  },
  {
   "cell_type": "code",
   "execution_count": 35,
   "id": "5b909cf0",
   "metadata": {},
   "outputs": [
    {
     "data": {
      "text/plain": [
       "['pradhan', 'sudh', True, 12.3, 21]"
      ]
     },
     "execution_count": 35,
     "metadata": {},
     "output_type": "execute_result"
    }
   ],
   "source": [
    "list"
   ]
  },
  {
   "cell_type": "code",
   "execution_count": 36,
   "id": "a3112f7d",
   "metadata": {},
   "outputs": [
    {
     "data": {
      "text/plain": [
       "['pradhan', 'sudh', True, 12.3, 21]"
      ]
     },
     "execution_count": 36,
     "metadata": {},
     "output_type": "execute_result"
    }
   ],
   "source": [
    "list"
   ]
  },
  {
   "cell_type": "code",
   "execution_count": 37,
   "id": "6eed4c44",
   "metadata": {},
   "outputs": [
    {
     "data": {
      "text/plain": [
       "[21, 12.3, True, 'sudh', 'pradhan']"
      ]
     },
     "execution_count": 37,
     "metadata": {},
     "output_type": "execute_result"
    }
   ],
   "source": [
    "list[::-1] #reverse the list only in the run time and does not overwrites the list"
   ]
  },
  {
   "cell_type": "code",
   "execution_count": 38,
   "id": "bfc90010",
   "metadata": {},
   "outputs": [
    {
     "data": {
      "text/plain": [
       "['pradhan', 'sudh', True, 12.3, 21]"
      ]
     },
     "execution_count": 38,
     "metadata": {},
     "output_type": "execute_result"
    }
   ],
   "source": [
    "list\n"
   ]
  },
  {
   "cell_type": "code",
   "execution_count": 39,
   "id": "aec11341",
   "metadata": {},
   "outputs": [
    {
     "ename": "TypeError",
     "evalue": "list.append() takes exactly one argument (2 given)",
     "output_type": "error",
     "traceback": [
      "\u001b[1;31m---------------------------------------------------------------------------\u001b[0m",
      "\u001b[1;31mTypeError\u001b[0m                                 Traceback (most recent call last)",
      "Input \u001b[1;32mIn [39]\u001b[0m, in \u001b[0;36m<cell line: 1>\u001b[1;34m()\u001b[0m\n\u001b[1;32m----> 1\u001b[0m \u001b[38;5;28;43mlist\u001b[39;49m\u001b[38;5;241;43m.\u001b[39;49m\u001b[43mappend\u001b[49m\u001b[43m(\u001b[49m\u001b[38;5;241;43m3737\u001b[39;49m\u001b[43m,\u001b[49m\u001b[38;5;241;43m2323\u001b[39;49m\u001b[43m)\u001b[49m\n",
      "\u001b[1;31mTypeError\u001b[0m: list.append() takes exactly one argument (2 given)"
     ]
    }
   ],
   "source": [
    "list.append(3737,2323) #append takes only a single element at a time"
   ]
  },
  {
   "cell_type": "code",
   "execution_count": 40,
   "id": "c31b3b54",
   "metadata": {},
   "outputs": [],
   "source": [
    "list.append([3737,2323]) #square bracket signifies only one single element"
   ]
  },
  {
   "cell_type": "code",
   "execution_count": 41,
   "id": "87e439d4",
   "metadata": {},
   "outputs": [
    {
     "data": {
      "text/plain": [
       "['pradhan', 'sudh', True, 12.3, 21, [3737, 2323]]"
      ]
     },
     "execution_count": 41,
     "metadata": {},
     "output_type": "execute_result"
    }
   ],
   "source": [
    "list"
   ]
  },
  {
   "cell_type": "code",
   "execution_count": 42,
   "id": "c8c443aa",
   "metadata": {},
   "outputs": [
    {
     "ename": "TypeError",
     "evalue": "'<' not supported between instances of 'bool' and 'str'",
     "output_type": "error",
     "traceback": [
      "\u001b[1;31m---------------------------------------------------------------------------\u001b[0m",
      "\u001b[1;31mTypeError\u001b[0m                                 Traceback (most recent call last)",
      "Input \u001b[1;32mIn [42]\u001b[0m, in \u001b[0;36m<cell line: 1>\u001b[1;34m()\u001b[0m\n\u001b[1;32m----> 1\u001b[0m \u001b[38;5;28;43mlist\u001b[39;49m\u001b[38;5;241;43m.\u001b[39;49m\u001b[43msort\u001b[49m\u001b[43m(\u001b[49m\u001b[43m)\u001b[49m\n",
      "\u001b[1;31mTypeError\u001b[0m: '<' not supported between instances of 'bool' and 'str'"
     ]
    }
   ],
   "source": [
    "list.sort() #int and str cannot be compared and hence cannot be sorted, hence the error."
   ]
  },
  {
   "cell_type": "code",
   "execution_count": 43,
   "id": "6cd9496e",
   "metadata": {},
   "outputs": [],
   "source": [
    "list1=[7,2,9,4,5,2,8,356]"
   ]
  },
  {
   "cell_type": "code",
   "execution_count": 44,
   "id": "7755868a",
   "metadata": {},
   "outputs": [],
   "source": [
    "list1.sort() #only same data set can be sorted"
   ]
  },
  {
   "cell_type": "code",
   "execution_count": 45,
   "id": "14222895",
   "metadata": {},
   "outputs": [
    {
     "data": {
      "text/plain": [
       "[2, 2, 4, 5, 7, 8, 9, 356]"
      ]
     },
     "execution_count": 45,
     "metadata": {},
     "output_type": "execute_result"
    }
   ],
   "source": [
    "list1 #sorting the elements in the  ascending order"
   ]
  },
  {
   "cell_type": "code",
   "execution_count": 46,
   "id": "cff2379a",
   "metadata": {},
   "outputs": [],
   "source": [
    "list1.sort(reverse=True)  #sorting the element in the descending order"
   ]
  },
  {
   "cell_type": "code",
   "execution_count": 47,
   "id": "cd2c9490",
   "metadata": {},
   "outputs": [
    {
     "data": {
      "text/plain": [
       "[356, 9, 8, 7, 5, 4, 2, 2]"
      ]
     },
     "execution_count": 47,
     "metadata": {},
     "output_type": "execute_result"
    }
   ],
   "source": [
    "list1"
   ]
  },
  {
   "cell_type": "code",
   "execution_count": 48,
   "id": "81ef23cd",
   "metadata": {},
   "outputs": [],
   "source": [
    "list1=[2,3,4]\n",
    "list2=[6,7,8]\n",
    "list3=[3,64,3]"
   ]
  },
  {
   "cell_type": "code",
   "execution_count": 49,
   "id": "10813189",
   "metadata": {},
   "outputs": [],
   "source": [
    "list4=[list1+list2+list3] #concatenation of the list"
   ]
  },
  {
   "cell_type": "code",
   "execution_count": 50,
   "id": "33f6783f",
   "metadata": {},
   "outputs": [
    {
     "data": {
      "text/plain": [
       "[[2, 3, 4, 6, 7, 8, 3, 64, 3]]"
      ]
     },
     "execution_count": 50,
     "metadata": {},
     "output_type": "execute_result"
    }
   ],
   "source": [
    "list4"
   ]
  },
  {
   "cell_type": "code",
   "execution_count": 51,
   "id": "22d29990",
   "metadata": {},
   "outputs": [],
   "source": [
    "list5=[list1,list2,list3] "
   ]
  },
  {
   "cell_type": "code",
   "execution_count": 52,
   "id": "dac7562b",
   "metadata": {},
   "outputs": [
    {
     "data": {
      "text/plain": [
       "[[2, 3, 4], [6, 7, 8], [3, 64, 3]]"
      ]
     },
     "execution_count": 52,
     "metadata": {},
     "output_type": "execute_result"
    }
   ],
   "source": [
    "list5 #lists inside list"
   ]
  },
  {
   "cell_type": "code",
   "execution_count": 53,
   "id": "9c5749f0",
   "metadata": {},
   "outputs": [
    {
     "data": {
      "text/plain": [
       "[3, 64, 3]"
      ]
     },
     "execution_count": 53,
     "metadata": {},
     "output_type": "execute_result"
    }
   ],
   "source": [
    "list5[2]"
   ]
  },
  {
   "cell_type": "code",
   "execution_count": 54,
   "id": "84743337",
   "metadata": {},
   "outputs": [
    {
     "data": {
      "text/plain": [
       "64"
      ]
     },
     "execution_count": 54,
     "metadata": {},
     "output_type": "execute_result"
    }
   ],
   "source": [
    "list5[2][1] #extract 64 from the third element sublist of list"
   ]
  },
  {
   "cell_type": "code",
   "execution_count": 55,
   "id": "5af72405",
   "metadata": {},
   "outputs": [],
   "source": [
    " list6=[2,3,4343,5,554,332,223,23,34,23,2323,232,23]"
   ]
  },
  {
   "cell_type": "code",
   "execution_count": 56,
   "id": "343fb90f",
   "metadata": {},
   "outputs": [
    {
     "data": {
      "text/plain": [
       "3"
      ]
     },
     "execution_count": 56,
     "metadata": {},
     "output_type": "execute_result"
    }
   ],
   "source": [
    "list6.count(23) #number of times 23 occured"
   ]
  },
  {
   "cell_type": "code",
   "execution_count": 57,
   "id": "e93bc2ea",
   "metadata": {},
   "outputs": [
    {
     "data": {
      "text/plain": [
       "['pradhan', 'sudh', True, 12.3, 21, [3737, 2323]]"
      ]
     },
     "execution_count": 57,
     "metadata": {},
     "output_type": "execute_result"
    }
   ],
   "source": [
    "list"
   ]
  },
  {
   "cell_type": "code",
   "execution_count": 58,
   "id": "385c51b5",
   "metadata": {},
   "outputs": [],
   "source": [
    "list.append(\"ineuron\")"
   ]
  },
  {
   "cell_type": "code",
   "execution_count": 59,
   "id": "afccddaa",
   "metadata": {},
   "outputs": [
    {
     "data": {
      "text/plain": [
       "['pradhan', 'sudh', True, 12.3, 21, [3737, 2323], 'ineuron']"
      ]
     },
     "execution_count": 59,
     "metadata": {},
     "output_type": "execute_result"
    }
   ],
   "source": [
    "list"
   ]
  },
  {
   "cell_type": "code",
   "execution_count": 60,
   "id": "79549a21",
   "metadata": {},
   "outputs": [],
   "source": [
    "list.append([2,4,\"rohan\"]) #appending a single element i.e a single list inside the list"
   ]
  },
  {
   "cell_type": "code",
   "execution_count": 61,
   "id": "667637db",
   "metadata": {},
   "outputs": [
    {
     "data": {
      "text/plain": [
       "['pradhan', 'sudh', True, 12.3, 21, [3737, 2323], 'ineuron', [2, 4, 'rohan']]"
      ]
     },
     "execution_count": 61,
     "metadata": {},
     "output_type": "execute_result"
    }
   ],
   "source": [
    "list"
   ]
  },
  {
   "cell_type": "code",
   "execution_count": 62,
   "id": "271b698f",
   "metadata": {},
   "outputs": [],
   "source": [
    "list.extend(\"sudh\")"
   ]
  },
  {
   "cell_type": "code",
   "execution_count": 63,
   "id": "7ba257cb",
   "metadata": {},
   "outputs": [
    {
     "data": {
      "text/plain": [
       "['pradhan',\n",
       " 'sudh',\n",
       " True,\n",
       " 12.3,\n",
       " 21,\n",
       " [3737, 2323],\n",
       " 'ineuron',\n",
       " [2, 4, 'rohan'],\n",
       " 's',\n",
       " 'u',\n",
       " 'd',\n",
       " 'h']"
      ]
     },
     "execution_count": 63,
     "metadata": {},
     "output_type": "execute_result"
    }
   ],
   "source": [
    "list"
   ]
  },
  {
   "cell_type": "code",
   "execution_count": 64,
   "id": "af09f4dc",
   "metadata": {},
   "outputs": [],
   "source": [
    "list4=[1,3,5]"
   ]
  },
  {
   "cell_type": "code",
   "execution_count": 65,
   "id": "c4b1c43c",
   "metadata": {},
   "outputs": [],
   "source": [
    "list4.append([4,6,7]) #append the data set as it is"
   ]
  },
  {
   "cell_type": "code",
   "execution_count": 66,
   "id": "cfb67cca",
   "metadata": {},
   "outputs": [
    {
     "data": {
      "text/plain": [
       "[1, 3, 5, [4, 6, 7]]"
      ]
     },
     "execution_count": 66,
     "metadata": {},
     "output_type": "execute_result"
    }
   ],
   "source": [
    "list4"
   ]
  },
  {
   "cell_type": "code",
   "execution_count": 67,
   "id": "c29ba588",
   "metadata": {},
   "outputs": [],
   "source": [
    "list4.append(\"rohan\")"
   ]
  },
  {
   "cell_type": "code",
   "execution_count": 68,
   "id": "32931e21",
   "metadata": {},
   "outputs": [
    {
     "data": {
      "text/plain": [
       "[1, 3, 5, [4, 6, 7], 'rohan']"
      ]
     },
     "execution_count": 68,
     "metadata": {},
     "output_type": "execute_result"
    }
   ],
   "source": [
    "list4"
   ]
  },
  {
   "cell_type": "code",
   "execution_count": 69,
   "id": "da66b751",
   "metadata": {},
   "outputs": [],
   "source": [
    "list4.extend([9,8,19]) #unlike append, it first unravels the entire dataset one by one, then add those data set one by one \n",
    "#as part of existing element"
   ]
  },
  {
   "cell_type": "code",
   "execution_count": 70,
   "id": "41b9959f",
   "metadata": {},
   "outputs": [
    {
     "data": {
      "text/plain": [
       "[1, 3, 5, [4, 6, 7], 'rohan', 9, 8, 19]"
      ]
     },
     "execution_count": 70,
     "metadata": {},
     "output_type": "execute_result"
    }
   ],
   "source": [
    "list4"
   ]
  },
  {
   "cell_type": "code",
   "execution_count": 71,
   "id": "c43f65b5",
   "metadata": {},
   "outputs": [
    {
     "data": {
      "text/plain": [
       "[1, 3, 5, [4, 6, 7], 'rohan', 9, 8, 19]"
      ]
     },
     "execution_count": 71,
     "metadata": {},
     "output_type": "execute_result"
    }
   ],
   "source": [
    "list4"
   ]
  },
  {
   "cell_type": "code",
   "execution_count": 72,
   "id": "27b7b367",
   "metadata": {},
   "outputs": [],
   "source": [
    "list4.append(\"rohan\")"
   ]
  },
  {
   "cell_type": "code",
   "execution_count": 73,
   "id": "48ca9692",
   "metadata": {},
   "outputs": [
    {
     "data": {
      "text/plain": [
       "[1, 3, 5, [4, 6, 7], 'rohan', 9, 8, 19, 'rohan']"
      ]
     },
     "execution_count": 73,
     "metadata": {},
     "output_type": "execute_result"
    }
   ],
   "source": [
    "list4\n"
   ]
  },
  {
   "cell_type": "code",
   "execution_count": 74,
   "id": "d72150d8",
   "metadata": {},
   "outputs": [],
   "source": [
    "list4.extend(\"pradhan\") #extend function unwrapped the data set one by one and added one by one to the list.\n"
   ]
  },
  {
   "cell_type": "code",
   "execution_count": 75,
   "id": "1d3af0dc",
   "metadata": {},
   "outputs": [
    {
     "data": {
      "text/plain": [
       "[1,\n",
       " 3,\n",
       " 5,\n",
       " [4, 6, 7],\n",
       " 'rohan',\n",
       " 9,\n",
       " 8,\n",
       " 19,\n",
       " 'rohan',\n",
       " 'p',\n",
       " 'r',\n",
       " 'a',\n",
       " 'd',\n",
       " 'h',\n",
       " 'a',\n",
       " 'n']"
      ]
     },
     "execution_count": 75,
     "metadata": {},
     "output_type": "execute_result"
    }
   ],
   "source": [
    "list4"
   ]
  },
  {
   "cell_type": "code",
   "execution_count": 76,
   "id": "b2fd3b92",
   "metadata": {},
   "outputs": [
    {
     "ename": "TypeError",
     "evalue": "'int' object is not iterable",
     "output_type": "error",
     "traceback": [
      "\u001b[1;31m---------------------------------------------------------------------------\u001b[0m",
      "\u001b[1;31mTypeError\u001b[0m                                 Traceback (most recent call last)",
      "Input \u001b[1;32mIn [76]\u001b[0m, in \u001b[0;36m<cell line: 1>\u001b[1;34m()\u001b[0m\n\u001b[1;32m----> 1\u001b[0m \u001b[43mlist4\u001b[49m\u001b[38;5;241;43m.\u001b[39;49m\u001b[43mextend\u001b[49m\u001b[43m(\u001b[49m\u001b[38;5;241;43m4\u001b[39;49m\u001b[43m)\u001b[49m\n",
      "\u001b[1;31mTypeError\u001b[0m: 'int' object is not iterable"
     ]
    }
   ],
   "source": [
    "list4.extend(4) #int object is not iterable,hence cannot be extended"
   ]
  },
  {
   "cell_type": "code",
   "execution_count": 77,
   "id": "aa554a63",
   "metadata": {},
   "outputs": [],
   "source": [
    "list4.extend([4]) # square bracket ko wholesome ek single element or dataset mana jaata hai\n",
    "#list object is iterbale,hence extendable"
   ]
  },
  {
   "cell_type": "code",
   "execution_count": 78,
   "id": "59062e66",
   "metadata": {},
   "outputs": [
    {
     "data": {
      "text/plain": [
       "[1,\n",
       " 3,\n",
       " 5,\n",
       " [4, 6, 7],\n",
       " 'rohan',\n",
       " 9,\n",
       " 8,\n",
       " 19,\n",
       " 'rohan',\n",
       " 'p',\n",
       " 'r',\n",
       " 'a',\n",
       " 'd',\n",
       " 'h',\n",
       " 'a',\n",
       " 'n',\n",
       " 4]"
      ]
     },
     "execution_count": 78,
     "metadata": {},
     "output_type": "execute_result"
    }
   ],
   "source": [
    "list4"
   ]
  },
  {
   "cell_type": "code",
   "execution_count": 79,
   "id": "983d50fd",
   "metadata": {},
   "outputs": [],
   "source": [
    "list4.extend(\"rohan\") #square bracket ko wholesome ek single element or dataset mana jaata hai\n",
    "#string is iterable\n",
    "#list is iterable"
   ]
  },
  {
   "cell_type": "code",
   "execution_count": 80,
   "id": "912fe4ec",
   "metadata": {},
   "outputs": [
    {
     "data": {
      "text/plain": [
       "[1,\n",
       " 3,\n",
       " 5,\n",
       " [4, 6, 7],\n",
       " 'rohan',\n",
       " 9,\n",
       " 8,\n",
       " 19,\n",
       " 'rohan',\n",
       " 'p',\n",
       " 'r',\n",
       " 'a',\n",
       " 'd',\n",
       " 'h',\n",
       " 'a',\n",
       " 'n',\n",
       " 4,\n",
       " 'r',\n",
       " 'o',\n",
       " 'h',\n",
       " 'a',\n",
       " 'n']"
      ]
     },
     "execution_count": 80,
     "metadata": {},
     "output_type": "execute_result"
    }
   ],
   "source": [
    "list4"
   ]
  },
  {
   "cell_type": "code",
   "execution_count": 81,
   "id": "79d7a408",
   "metadata": {},
   "outputs": [],
   "source": [
    "list4.extend([\"rohan\"]) #list is iterable,hence can extend"
   ]
  },
  {
   "cell_type": "code",
   "execution_count": 82,
   "id": "6d9b28eb",
   "metadata": {},
   "outputs": [
    {
     "data": {
      "text/plain": [
       "[1,\n",
       " 3,\n",
       " 5,\n",
       " [4, 6, 7],\n",
       " 'rohan',\n",
       " 9,\n",
       " 8,\n",
       " 19,\n",
       " 'rohan',\n",
       " 'p',\n",
       " 'r',\n",
       " 'a',\n",
       " 'd',\n",
       " 'h',\n",
       " 'a',\n",
       " 'n',\n",
       " 4,\n",
       " 'r',\n",
       " 'o',\n",
       " 'h',\n",
       " 'a',\n",
       " 'n',\n",
       " 'rohan']"
      ]
     },
     "execution_count": 82,
     "metadata": {},
     "output_type": "execute_result"
    }
   ],
   "source": [
    "list4\n"
   ]
  },
  {
   "cell_type": "code",
   "execution_count": 83,
   "id": "4c579ab0",
   "metadata": {},
   "outputs": [],
   "source": [
    "  list4.extend(\"sharma\") #string is iterable,hence can extend"
   ]
  },
  {
   "cell_type": "code",
   "execution_count": 84,
   "id": "bb1afea3",
   "metadata": {},
   "outputs": [
    {
     "data": {
      "text/plain": [
       "[1,\n",
       " 3,\n",
       " 5,\n",
       " [4, 6, 7],\n",
       " 'rohan',\n",
       " 9,\n",
       " 8,\n",
       " 19,\n",
       " 'rohan',\n",
       " 'p',\n",
       " 'r',\n",
       " 'a',\n",
       " 'd',\n",
       " 'h',\n",
       " 'a',\n",
       " 'n',\n",
       " 4,\n",
       " 'r',\n",
       " 'o',\n",
       " 'h',\n",
       " 'a',\n",
       " 'n',\n",
       " 'rohan',\n",
       " 's',\n",
       " 'h',\n",
       " 'a',\n",
       " 'r',\n",
       " 'm',\n",
       " 'a']"
      ]
     },
     "execution_count": 84,
     "metadata": {},
     "output_type": "execute_result"
    }
   ],
   "source": [
    "list4"
   ]
  },
  {
   "cell_type": "code",
   "execution_count": 85,
   "id": "6e7f466b",
   "metadata": {},
   "outputs": [],
   "source": [
    "list4.extend([\"amante\",\"vermante\"]) #list is iterable, hence can  extend.\n",
    "#iterable means it stores a dataset index wise\n",
    "#extend performs operation index-wise"
   ]
  },
  {
   "cell_type": "code",
   "execution_count": 86,
   "id": "52a3c5fe",
   "metadata": {
    "scrolled": true
   },
   "outputs": [
    {
     "data": {
      "text/plain": [
       "[1,\n",
       " 3,\n",
       " 5,\n",
       " [4, 6, 7],\n",
       " 'rohan',\n",
       " 9,\n",
       " 8,\n",
       " 19,\n",
       " 'rohan',\n",
       " 'p',\n",
       " 'r',\n",
       " 'a',\n",
       " 'd',\n",
       " 'h',\n",
       " 'a',\n",
       " 'n',\n",
       " 4,\n",
       " 'r',\n",
       " 'o',\n",
       " 'h',\n",
       " 'a',\n",
       " 'n',\n",
       " 'rohan',\n",
       " 's',\n",
       " 'h',\n",
       " 'a',\n",
       " 'r',\n",
       " 'm',\n",
       " 'a',\n",
       " 'amante',\n",
       " 'vermante']"
      ]
     },
     "execution_count": 86,
     "metadata": {},
     "output_type": "execute_result"
    }
   ],
   "source": [
    "list4"
   ]
  },
  {
   "cell_type": "code",
   "execution_count": 87,
   "id": "292b5123",
   "metadata": {},
   "outputs": [],
   "source": [
    "list7=[2,4,5,3,66,4324,5435,32,5,3,'sugh','roha','geography']"
   ]
  },
  {
   "cell_type": "code",
   "execution_count": 88,
   "id": "595a449b",
   "metadata": {},
   "outputs": [
    {
     "data": {
      "text/plain": [
       "[2, 4, 5, 3, 66, 4324, 5435, 32, 5, 3, 'sugh', 'roha', 'geography']"
      ]
     },
     "execution_count": 88,
     "metadata": {},
     "output_type": "execute_result"
    }
   ],
   "source": [
    "list7\n"
   ]
  },
  {
   "cell_type": "code",
   "execution_count": 89,
   "id": "dc5fedbe",
   "metadata": {},
   "outputs": [
    {
     "data": {
      "text/plain": [
       "1"
      ]
     },
     "execution_count": 89,
     "metadata": {},
     "output_type": "execute_result"
    }
   ],
   "source": [
    "list7.index(4) #tells that 4 is available at what(first occurrence only) index of the string."
   ]
  },
  {
   "cell_type": "code",
   "execution_count": 90,
   "id": "78e1ff31",
   "metadata": {},
   "outputs": [
    {
     "data": {
      "text/plain": [
       "4"
      ]
     },
     "execution_count": 90,
     "metadata": {},
     "output_type": "execute_result"
    }
   ],
   "source": [
    "list7.index(66)"
   ]
  },
  {
   "cell_type": "code",
   "execution_count": 91,
   "id": "ed38579d",
   "metadata": {},
   "outputs": [],
   "source": [
    "list=[1,4,64,36,6]"
   ]
  },
  {
   "cell_type": "code",
   "execution_count": 92,
   "id": "b5a8de61",
   "metadata": {},
   "outputs": [
    {
     "data": {
      "text/plain": [
       "[1, 4, 64, 36, 6]"
      ]
     },
     "execution_count": 92,
     "metadata": {},
     "output_type": "execute_result"
    }
   ],
   "source": [
    "list"
   ]
  },
  {
   "cell_type": "code",
   "execution_count": 93,
   "id": "60e5b463",
   "metadata": {},
   "outputs": [],
   "source": [
    "list.append(65)"
   ]
  },
  {
   "cell_type": "code",
   "execution_count": 94,
   "id": "1b216796",
   "metadata": {},
   "outputs": [
    {
     "data": {
      "text/plain": [
       "[1, 4, 64, 36, 6, 65]"
      ]
     },
     "execution_count": 94,
     "metadata": {},
     "output_type": "execute_result"
    }
   ],
   "source": [
    "list"
   ]
  },
  {
   "cell_type": "code",
   "execution_count": 95,
   "id": "85f51cec",
   "metadata": {},
   "outputs": [],
   "source": [
    "list.insert(1,\"rohan\")  #insert the element \"rohan\" at index no. 1 "
   ]
  },
  {
   "cell_type": "code",
   "execution_count": 96,
   "id": "8f832ca0",
   "metadata": {},
   "outputs": [
    {
     "data": {
      "text/plain": [
       "[1, 'rohan', 4, 64, 36, 6, 65]"
      ]
     },
     "execution_count": 96,
     "metadata": {},
     "output_type": "execute_result"
    }
   ],
   "source": [
    "list"
   ]
  },
  {
   "cell_type": "code",
   "execution_count": 97,
   "id": "37dd7f38",
   "metadata": {},
   "outputs": [],
   "source": [
    "list.insert(4,[9,99,66,33])"
   ]
  },
  {
   "cell_type": "code",
   "execution_count": 98,
   "id": "504e6431",
   "metadata": {},
   "outputs": [
    {
     "data": {
      "text/plain": [
       "[1, 'rohan', 4, 64, [9, 99, 66, 33], 36, 6, 65]"
      ]
     },
     "execution_count": 98,
     "metadata": {},
     "output_type": "execute_result"
    }
   ],
   "source": [
    "list"
   ]
  },
  {
   "cell_type": "code",
   "execution_count": 99,
   "id": "1dcfa780",
   "metadata": {},
   "outputs": [],
   "source": [
    "#LESSON:\n",
    "#append operator inserts data only at the end of the list\n",
    "#insert operator inserts the data wherever you want."
   ]
  },
  {
   "cell_type": "code",
   "execution_count": 100,
   "id": "babfee3e",
   "metadata": {},
   "outputs": [
    {
     "data": {
      "text/plain": [
       "[1, 'rohan', 4, 64, [9, 99, 66, 33], 36, 6, 65]"
      ]
     },
     "execution_count": 100,
     "metadata": {},
     "output_type": "execute_result"
    }
   ],
   "source": [
    " list"
   ]
  },
  {
   "cell_type": "code",
   "execution_count": 101,
   "id": "30d54eca",
   "metadata": {},
   "outputs": [
    {
     "data": {
      "text/plain": [
       "65"
      ]
     },
     "execution_count": 101,
     "metadata": {},
     "output_type": "execute_result"
    }
   ],
   "source": [
    "list.pop() #if index is not specified in the pop operation,then by default the last item is popped out of the list."
   ]
  },
  {
   "cell_type": "code",
   "execution_count": 102,
   "id": "7486cc28",
   "metadata": {},
   "outputs": [
    {
     "data": {
      "text/plain": [
       "[1, 'rohan', 4, 64, [9, 99, 66, 33], 36, 6]"
      ]
     },
     "execution_count": 102,
     "metadata": {},
     "output_type": "execute_result"
    }
   ],
   "source": [
    "list"
   ]
  },
  {
   "cell_type": "code",
   "execution_count": 103,
   "id": "9350d4a3",
   "metadata": {},
   "outputs": [
    {
     "data": {
      "text/plain": [
       "4"
      ]
     },
     "execution_count": 103,
     "metadata": {},
     "output_type": "execute_result"
    }
   ],
   "source": [
    "list.pop(2) #if index is specified, then that data is removed specificallly from that index"
   ]
  },
  {
   "cell_type": "code",
   "execution_count": 104,
   "id": "41b4b63c",
   "metadata": {},
   "outputs": [],
   "source": [
    "list.remove(\"rohan\")  #Remove first occurrence of value #here the dataset to be removed is specified, and  not the index"
   ]
  },
  {
   "cell_type": "code",
   "execution_count": 105,
   "id": "5047d23e",
   "metadata": {},
   "outputs": [
    {
     "data": {
      "text/plain": [
       "[1, 64, [9, 99, 66, 33], 36, 6]"
      ]
     },
     "execution_count": 105,
     "metadata": {},
     "output_type": "execute_result"
    }
   ],
   "source": [
    "list"
   ]
  },
  {
   "cell_type": "code",
   "execution_count": 106,
   "id": "a1ffd1c9",
   "metadata": {},
   "outputs": [],
   "source": [
    "list.remove(64)"
   ]
  },
  {
   "cell_type": "code",
   "execution_count": 107,
   "id": "60179d8e",
   "metadata": {},
   "outputs": [
    {
     "data": {
      "text/plain": [
       "[1, [9, 99, 66, 33], 36, 6]"
      ]
     },
     "execution_count": 107,
     "metadata": {},
     "output_type": "execute_result"
    }
   ],
   "source": [
    "list"
   ]
  },
  {
   "cell_type": "code",
   "execution_count": 108,
   "id": "4593cb27",
   "metadata": {},
   "outputs": [
    {
     "data": {
      "text/plain": [
       "36"
      ]
     },
     "execution_count": 108,
     "metadata": {},
     "output_type": "execute_result"
    }
   ],
   "source": [
    " list[2]"
   ]
  },
  {
   "cell_type": "code",
   "execution_count": 109,
   "id": "54908935",
   "metadata": {},
   "outputs": [],
   "source": [
    "list[3]=\"pradhan\"  #re-assignment of value in the list #item reassignment operation"
   ]
  },
  {
   "cell_type": "code",
   "execution_count": 110,
   "id": "81e753f0",
   "metadata": {},
   "outputs": [
    {
     "data": {
      "text/plain": [
       "[1, [9, 99, 66, 33], 36, 'pradhan']"
      ]
     },
     "execution_count": 110,
     "metadata": {},
     "output_type": "execute_result"
    }
   ],
   "source": [
    "list  #lesson- list elements are mutable"
   ]
  },
  {
   "cell_type": "code",
   "execution_count": 111,
   "id": "47e9d719",
   "metadata": {},
   "outputs": [],
   "source": [
    "s=\"iNeuron\""
   ]
  },
  {
   "cell_type": "code",
   "execution_count": 112,
   "id": "2dc2e58f",
   "metadata": {},
   "outputs": [
    {
     "data": {
      "text/plain": [
       "'e'"
      ]
     },
     "execution_count": 112,
     "metadata": {},
     "output_type": "execute_result"
    }
   ],
   "source": [
    "s[2]"
   ]
  },
  {
   "cell_type": "code",
   "execution_count": 113,
   "id": "9bb4db7a",
   "metadata": {},
   "outputs": [
    {
     "ename": "TypeError",
     "evalue": "'str' object does not support item assignment",
     "output_type": "error",
     "traceback": [
      "\u001b[1;31m---------------------------------------------------------------------------\u001b[0m",
      "\u001b[1;31mTypeError\u001b[0m                                 Traceback (most recent call last)",
      "Input \u001b[1;32mIn [113]\u001b[0m, in \u001b[0;36m<cell line: 1>\u001b[1;34m()\u001b[0m\n\u001b[1;32m----> 1\u001b[0m s[\u001b[38;5;241m3\u001b[39m]\u001b[38;5;241m=\u001b[39m \u001b[38;5;124m\"\u001b[39m\u001b[38;5;124mz\u001b[39m\u001b[38;5;124m\"\u001b[39m\n",
      "\u001b[1;31mTypeError\u001b[0m: 'str' object does not support item assignment"
     ]
    }
   ],
   "source": [
    "s[3]= \"z\""
   ]
  },
  {
   "cell_type": "code",
   "execution_count": 114,
   "id": "04210830",
   "metadata": {},
   "outputs": [],
   "source": [
    "#LESSON: string elements are immutable, therefore item reassignment operation cannot be done in between the iterables."
   ]
  },
  {
   "cell_type": "code",
   "execution_count": 115,
   "id": "8c59e3ea",
   "metadata": {},
   "outputs": [],
   "source": [
    "#lesson: List is a mutable entity"
   ]
  },
  {
   "cell_type": "code",
   "execution_count": 116,
   "id": "1971763e",
   "metadata": {},
   "outputs": [],
   "source": [
    "#LESSON: tuples are immutable"
   ]
  },
  {
   "cell_type": "code",
   "execution_count": 117,
   "id": "eba083b2",
   "metadata": {},
   "outputs": [],
   "source": [
    "#NOTE- tuples are kind of element which are  able to hold heterogenous datasets inside a single element,just like a LIST.\n",
    "#but unlike LIST, tuples are immutable i.e reassignment operation cannot be done inside the tuple iterables.\n",
    "#tuples are placed inside circular brackets\n",
    "#list is places inside square brackets.\n"
   ]
  },
  {
   "cell_type": "code",
   "execution_count": 118,
   "id": "ad0be385",
   "metadata": {},
   "outputs": [],
   "source": [
    "t=(4,5,6,33,57,3,\"True\")  #tuple creation by circular bracket, but for other operations on tuples , square brackets."
   ]
  },
  {
   "cell_type": "code",
   "execution_count": 119,
   "id": "9ad85640",
   "metadata": {},
   "outputs": [
    {
     "data": {
      "text/plain": [
       "tuple"
      ]
     },
     "execution_count": 119,
     "metadata": {},
     "output_type": "execute_result"
    }
   ],
   "source": [
    "type(t)"
   ]
  },
  {
   "cell_type": "code",
   "execution_count": 120,
   "id": "a1f13deb",
   "metadata": {},
   "outputs": [
    {
     "data": {
      "text/plain": [
       "4"
      ]
     },
     "execution_count": 120,
     "metadata": {},
     "output_type": "execute_result"
    }
   ],
   "source": [
    "t[0] #extraction of element from the tuple==similar to list and string"
   ]
  },
  {
   "cell_type": "code",
   "execution_count": 121,
   "id": "a7df1c22",
   "metadata": {},
   "outputs": [
    {
     "data": {
      "text/plain": [
       "(5, 6, 33)"
      ]
     },
     "execution_count": 121,
     "metadata": {},
     "output_type": "execute_result"
    }
   ],
   "source": [
    "t[1:4:1] #slicing operation"
   ]
  },
  {
   "cell_type": "code",
   "execution_count": 122,
   "id": "f509ce8b",
   "metadata": {},
   "outputs": [
    {
     "data": {
      "text/plain": [
       "'True'"
      ]
     },
     "execution_count": 122,
     "metadata": {},
     "output_type": "execute_result"
    }
   ],
   "source": [
    "t[-1]"
   ]
  },
  {
   "cell_type": "code",
   "execution_count": 123,
   "id": "1d6540aa",
   "metadata": {},
   "outputs": [
    {
     "data": {
      "text/plain": [
       "3"
      ]
     },
     "execution_count": 123,
     "metadata": {},
     "output_type": "execute_result"
    }
   ],
   "source": [
    "t[-2]"
   ]
  },
  {
   "cell_type": "code",
   "execution_count": 124,
   "id": "1ca9dd72",
   "metadata": {},
   "outputs": [
    {
     "data": {
      "text/plain": [
       "(4, 5, 6, 33, 57, 3, 'True')"
      ]
     },
     "execution_count": 124,
     "metadata": {},
     "output_type": "execute_result"
    }
   ],
   "source": [
    "t"
   ]
  },
  {
   "cell_type": "code",
   "execution_count": 125,
   "id": "16b7c0b6",
   "metadata": {},
   "outputs": [
    {
     "data": {
      "text/plain": [
       "(4, 6, 57)"
      ]
     },
     "execution_count": 125,
     "metadata": {},
     "output_type": "execute_result"
    }
   ],
   "source": [
    "t[0:6:2]"
   ]
  },
  {
   "cell_type": "code",
   "execution_count": 126,
   "id": "f1e09168",
   "metadata": {},
   "outputs": [
    {
     "data": {
      "text/plain": [
       "()"
      ]
     },
     "execution_count": 126,
     "metadata": {},
     "output_type": "execute_result"
    }
   ],
   "source": [
    "t[0:4:-1] #contradiction of direction of jump"
   ]
  },
  {
   "cell_type": "code",
   "execution_count": 127,
   "id": "9a64ca30",
   "metadata": {},
   "outputs": [
    {
     "data": {
      "text/plain": [
       "(4, 5, 6, 33, 57, 3, 'True')"
      ]
     },
     "execution_count": 127,
     "metadata": {},
     "output_type": "execute_result"
    }
   ],
   "source": [
    "t"
   ]
  },
  {
   "cell_type": "code",
   "execution_count": 128,
   "id": "db3c448c",
   "metadata": {},
   "outputs": [
    {
     "data": {
      "text/plain": [
       "3"
      ]
     },
     "execution_count": 128,
     "metadata": {},
     "output_type": "execute_result"
    }
   ],
   "source": [
    "t[5]"
   ]
  },
  {
   "cell_type": "code",
   "execution_count": 129,
   "id": "e296e46b",
   "metadata": {},
   "outputs": [
    {
     "ename": "TypeError",
     "evalue": "'tuple' object does not support item assignment",
     "output_type": "error",
     "traceback": [
      "\u001b[1;31m---------------------------------------------------------------------------\u001b[0m",
      "\u001b[1;31mTypeError\u001b[0m                                 Traceback (most recent call last)",
      "Input \u001b[1;32mIn [129]\u001b[0m, in \u001b[0;36m<cell line: 1>\u001b[1;34m()\u001b[0m\n\u001b[1;32m----> 1\u001b[0m t[\u001b[38;5;241m4\u001b[39m]\u001b[38;5;241m=\u001b[39m\u001b[38;5;124m\"\u001b[39m\u001b[38;5;124mrohan\u001b[39m\u001b[38;5;124m\"\u001b[39m\n",
      "\u001b[1;31mTypeError\u001b[0m: 'tuple' object does not support item assignment"
     ]
    }
   ],
   "source": [
    "t[4]=\"rohan\"  #LESSON:'tuple' object does not support item assignment"
   ]
  },
  {
   "cell_type": "code",
   "execution_count": 130,
   "id": "a006fb2f",
   "metadata": {},
   "outputs": [],
   "source": [
    "#LESSON: TUPLES ARE IMMUTABLE elements like string, i.e item reassignment operation is not applicable\n",
    "#e.g passwords are tuples.\n",
    "#concatenation operation does work in the immutable elements as well."
   ]
  },
  {
   "cell_type": "code",
   "execution_count": 131,
   "id": "9e06fb81",
   "metadata": {},
   "outputs": [
    {
     "data": {
      "text/plain": [
       "(4, 5, 6, 33, 57, 3, 'True')"
      ]
     },
     "execution_count": 131,
     "metadata": {},
     "output_type": "execute_result"
    }
   ],
   "source": [
    "t"
   ]
  },
  {
   "cell_type": "code",
   "execution_count": 132,
   "id": "322e9e1d",
   "metadata": {},
   "outputs": [],
   "source": [
    "t1=(2,4,9,44,3,77,42,35,\"ro\",\"prahd\")"
   ]
  },
  {
   "cell_type": "code",
   "execution_count": 133,
   "id": "b03f13ef",
   "metadata": {},
   "outputs": [
    {
     "data": {
      "text/plain": [
       "(4, 5, 6, 33, 57, 3, 'True', 2, 4, 9, 44, 3, 77, 42, 35, 'ro', 'prahd')"
      ]
     },
     "execution_count": 133,
     "metadata": {},
     "output_type": "execute_result"
    }
   ],
   "source": [
    "t+t1 #tuples can be concatenated, since this opertion does not interrupts the existing datasets in the tuples."
   ]
  },
  {
   "cell_type": "code",
   "execution_count": 134,
   "id": "ee4afde5",
   "metadata": {},
   "outputs": [],
   "source": [
    " t3=t+t1"
   ]
  },
  {
   "cell_type": "code",
   "execution_count": 135,
   "id": "37568c5c",
   "metadata": {},
   "outputs": [
    {
     "data": {
      "text/plain": [
       "(4, 5, 6, 33, 57, 3, 'True', 2, 4, 9, 44, 3, 77, 42, 35, 'ro', 'prahd')"
      ]
     },
     "execution_count": 135,
     "metadata": {},
     "output_type": "execute_result"
    }
   ],
   "source": [
    "t3"
   ]
  },
  {
   "cell_type": "code",
   "execution_count": 136,
   "id": "e656201f",
   "metadata": {},
   "outputs": [
    {
     "data": {
      "text/plain": [
       "1"
      ]
     },
     "execution_count": 136,
     "metadata": {},
     "output_type": "execute_result"
    }
   ],
   "source": [
    "t3.count(2) #count of occurrence of 2 in the tuple"
   ]
  },
  {
   "cell_type": "code",
   "execution_count": 137,
   "id": "039e614d",
   "metadata": {},
   "outputs": [
    {
     "data": {
      "text/plain": [
       "15"
      ]
     },
     "execution_count": 137,
     "metadata": {},
     "output_type": "execute_result"
    }
   ],
   "source": [
    "t3.index(\"ro\") #gives the index of the first occurence of the value"
   ]
  },
  {
   "cell_type": "code",
   "execution_count": 138,
   "id": "b351db15",
   "metadata": {},
   "outputs": [],
   "source": [
    "t6 = (2,4,62,\"rohan\",24,6,3345,554)"
   ]
  },
  {
   "cell_type": "code",
   "execution_count": 139,
   "id": "f8e436a3",
   "metadata": {},
   "outputs": [],
   "source": [
    "l=list\n"
   ]
  },
  {
   "cell_type": "code",
   "execution_count": 140,
   "id": "875fd714",
   "metadata": {},
   "outputs": [
    {
     "data": {
      "text/plain": [
       "[1, [9, 99, 66, 33], 36, 'pradhan']"
      ]
     },
     "execution_count": 140,
     "metadata": {},
     "output_type": "execute_result"
    }
   ],
   "source": [
    "l\n"
   ]
  },
  {
   "cell_type": "code",
   "execution_count": 141,
   "id": "0dc26f44",
   "metadata": {},
   "outputs": [
    {
     "data": {
      "text/plain": [
       "[1, [9, 99, 66, 33], 36, 'pradhan']"
      ]
     },
     "execution_count": 141,
     "metadata": {},
     "output_type": "execute_result"
    }
   ],
   "source": [
    "list"
   ]
  },
  {
   "cell_type": "code",
   "execution_count": 142,
   "id": "890f40ac",
   "metadata": {},
   "outputs": [],
   "source": [
    "list.clear()"
   ]
  },
  {
   "cell_type": "code",
   "execution_count": 143,
   "id": "99fdeaaf",
   "metadata": {},
   "outputs": [
    {
     "data": {
      "text/plain": [
       "[]"
      ]
     },
     "execution_count": 143,
     "metadata": {},
     "output_type": "execute_result"
    }
   ],
   "source": [
    "list"
   ]
  },
  {
   "cell_type": "code",
   "execution_count": 144,
   "id": "058e9bd9",
   "metadata": {},
   "outputs": [
    {
     "data": {
      "text/plain": [
       "(2, 4, 62, 'rohan', 24, 6, 3345, 554)"
      ]
     },
     "execution_count": 144,
     "metadata": {},
     "output_type": "execute_result"
    }
   ],
   "source": [
    "t6"
   ]
  },
  {
   "cell_type": "code",
   "execution_count": 145,
   "id": "3acfd0a5",
   "metadata": {},
   "outputs": [
    {
     "ename": "TypeError",
     "evalue": "'list' object is not callable",
     "output_type": "error",
     "traceback": [
      "\u001b[1;31m---------------------------------------------------------------------------\u001b[0m",
      "\u001b[1;31mTypeError\u001b[0m                                 Traceback (most recent call last)",
      "Input \u001b[1;32mIn [145]\u001b[0m, in \u001b[0;36m<cell line: 1>\u001b[1;34m()\u001b[0m\n\u001b[1;32m----> 1\u001b[0m \u001b[38;5;28;43mlist\u001b[39;49m\u001b[43m(\u001b[49m\u001b[43mt6\u001b[49m\u001b[43m)\u001b[49m\n",
      "\u001b[1;31mTypeError\u001b[0m: 'list' object is not callable"
     ]
    }
   ],
   "source": [
    "list(t6)"
   ]
  },
  {
   "cell_type": "code",
   "execution_count": 146,
   "id": "8a496b7b",
   "metadata": {},
   "outputs": [
    {
     "data": {
      "text/plain": [
       "\"(2, 4, 62, 'rohan', 24, 6, 3345, 554)\""
      ]
     },
     "execution_count": 146,
     "metadata": {},
     "output_type": "execute_result"
    }
   ],
   "source": [
    "str(t6)"
   ]
  },
  {
   "cell_type": "code",
   "execution_count": null,
   "id": "573a08cd",
   "metadata": {},
   "outputs": [],
   "source": []
  },
  {
   "cell_type": "code",
   "execution_count": null,
   "id": "2f1e13e0",
   "metadata": {},
   "outputs": [],
   "source": []
  },
  {
   "cell_type": "code",
   "execution_count": null,
   "id": "c3a90fd7",
   "metadata": {},
   "outputs": [],
   "source": []
  },
  {
   "cell_type": "code",
   "execution_count": null,
   "id": "f645ac46",
   "metadata": {},
   "outputs": [],
   "source": []
  },
  {
   "cell_type": "code",
   "execution_count": null,
   "id": "fd25d641",
   "metadata": {},
   "outputs": [],
   "source": []
  },
  {
   "cell_type": "code",
   "execution_count": null,
   "id": "79cba135",
   "metadata": {},
   "outputs": [],
   "source": []
  },
  {
   "cell_type": "code",
   "execution_count": null,
   "id": "4d427aab",
   "metadata": {},
   "outputs": [],
   "source": []
  },
  {
   "cell_type": "code",
   "execution_count": null,
   "id": "d9c44a99",
   "metadata": {},
   "outputs": [],
   "source": []
  },
  {
   "cell_type": "code",
   "execution_count": null,
   "id": "0f2c3846",
   "metadata": {},
   "outputs": [],
   "source": []
  },
  {
   "cell_type": "code",
   "execution_count": null,
   "id": "6f19f6b3",
   "metadata": {},
   "outputs": [],
   "source": []
  },
  {
   "cell_type": "code",
   "execution_count": null,
   "id": "f7b1a2a5",
   "metadata": {},
   "outputs": [],
   "source": []
  },
  {
   "cell_type": "code",
   "execution_count": null,
   "id": "3204ec9e",
   "metadata": {},
   "outputs": [],
   "source": []
  },
  {
   "cell_type": "code",
   "execution_count": null,
   "id": "8b0b4d9c",
   "metadata": {},
   "outputs": [],
   "source": []
  },
  {
   "cell_type": "code",
   "execution_count": null,
   "id": "41c4864a",
   "metadata": {},
   "outputs": [],
   "source": []
  },
  {
   "cell_type": "code",
   "execution_count": null,
   "id": "c18f1715",
   "metadata": {},
   "outputs": [],
   "source": []
  }
 ],
 "metadata": {
  "kernelspec": {
   "display_name": "Python 3 (ipykernel)",
   "language": "python",
   "name": "python3"
  },
  "language_info": {
   "codemirror_mode": {
    "name": "ipython",
    "version": 3
   },
   "file_extension": ".py",
   "mimetype": "text/x-python",
   "name": "python",
   "nbconvert_exporter": "python",
   "pygments_lexer": "ipython3",
   "version": "3.9.12"
  }
 },
 "nbformat": 4,
 "nbformat_minor": 5
}
