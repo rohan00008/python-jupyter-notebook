{
 "cells": [
  {
   "cell_type": "code",
   "execution_count": 1,
   "id": "36f53fe1",
   "metadata": {},
   "outputs": [],
   "source": [
    "l = [1,2,7,8,53,53,\"rohan\",8584,2.22]"
   ]
  },
  {
   "cell_type": "code",
   "execution_count": 2,
   "id": "36b9e9b6",
   "metadata": {},
   "outputs": [],
   "source": [
    "#challenge= \n",
    "#extract each and every data present inside the list one by one automatically\n",
    "#do operations on them\n",
    "#print\n",
    "\n",
    "#USE LOOP OPERATION"
   ]
  },
  {
   "cell_type": "code",
   "execution_count": 3,
   "id": "902b3177",
   "metadata": {},
   "outputs": [
    {
     "data": {
      "text/plain": [
       "1"
      ]
     },
     "execution_count": 3,
     "metadata": {},
     "output_type": "execute_result"
    }
   ],
   "source": [
    "l[0] #EXTRACTING THROUGH INDEXING\n"
   ]
  },
  {
   "cell_type": "code",
   "execution_count": 4,
   "id": "9592775d",
   "metadata": {},
   "outputs": [
    {
     "data": {
      "text/plain": [
       "[7, 8, 53, 53, 'rohan']"
      ]
     },
     "execution_count": 4,
     "metadata": {},
     "output_type": "execute_result"
    }
   ],
   "source": [
    "l[2:7] #SLICING OPERATION\n"
   ]
  },
  {
   "cell_type": "code",
   "execution_count": 5,
   "id": "b9d8797c",
   "metadata": {},
   "outputs": [
    {
     "name": "stdout",
     "output_type": "stream",
     "text": [
      "1\n",
      "2\n",
      "7\n",
      "8\n",
      "53\n",
      "53\n",
      "rohan\n",
      "8584\n",
      "2.22\n"
     ]
    }
   ],
   "source": [
    "for i in l: #LOOP #loop will not terminate until and unless i will reach the last element of the list.\n",
    "    print(i) # i takes value and print, then takes another value and print, and so on until the last element of the list\n",
    "             #we have created a local variable i for the for loop"
   ]
  },
  {
   "cell_type": "code",
   "execution_count": 6,
   "id": "a4e354bc",
   "metadata": {},
   "outputs": [
    {
     "name": "stdout",
     "output_type": "stream",
     "text": [
      "1\n",
      "2\n",
      "7\n",
      "8\n"
     ]
    }
   ],
   "source": [
    "for i in l[0:4]:\n",
    "    print(i)"
   ]
  },
  {
   "cell_type": "code",
   "execution_count": 7,
   "id": "d872f821",
   "metadata": {},
   "outputs": [
    {
     "name": "stdout",
     "output_type": "stream",
     "text": [
      "2.22\n",
      "8584\n",
      "rohan\n",
      "53\n",
      "53\n",
      "8\n",
      "7\n",
      "2\n",
      "1\n"
     ]
    }
   ],
   "source": [
    "for i in l[::-1]:\n",
    "    print(i)"
   ]
  },
  {
   "cell_type": "code",
   "execution_count": 8,
   "id": "d0e3f548",
   "metadata": {},
   "outputs": [],
   "source": [
    "l1=[3.343,2323,4,43,32]"
   ]
  },
  {
   "cell_type": "code",
   "execution_count": 9,
   "id": "2670f128",
   "metadata": {},
   "outputs": [
    {
     "name": "stdout",
     "output_type": "stream",
     "text": [
      "4.343\n",
      "2324\n",
      "5\n",
      "44\n",
      "33\n"
     ]
    }
   ],
   "source": [
    "for i in l1:\n",
    "    print(i+1)"
   ]
  },
  {
   "cell_type": "code",
   "execution_count": 11,
   "id": "a6c8e22b",
   "metadata": {},
   "outputs": [
    {
     "name": "stdout",
     "output_type": "stream",
     "text": [
      "2\n",
      "3\n",
      "8\n",
      "9\n",
      "54\n",
      "54\n"
     ]
    },
    {
     "ename": "TypeError",
     "evalue": "can only concatenate str (not \"int\") to str",
     "output_type": "error",
     "traceback": [
      "\u001b[1;31m---------------------------------------------------------------------------\u001b[0m",
      "\u001b[1;31mTypeError\u001b[0m                                 Traceback (most recent call last)",
      "Input \u001b[1;32mIn [11]\u001b[0m, in \u001b[0;36m<cell line: 1>\u001b[1;34m()\u001b[0m\n\u001b[0;32m      1\u001b[0m \u001b[38;5;28;01mfor\u001b[39;00m i \u001b[38;5;129;01min\u001b[39;00m l:\n\u001b[1;32m----> 2\u001b[0m     \u001b[38;5;28mprint\u001b[39m(\u001b[43mi\u001b[49m\u001b[38;5;241;43m+\u001b[39;49m\u001b[38;5;241;43m1\u001b[39;49m)\n",
      "\u001b[1;31mTypeError\u001b[0m: can only concatenate str (not \"int\") to str"
     ]
    }
   ],
   "source": [
    "for i in l:\n",
    "    print(i+1) #string cannot be concatenated with integer"
   ]
  },
  {
   "cell_type": "code",
   "execution_count": 12,
   "id": "191ca0ac",
   "metadata": {},
   "outputs": [
    {
     "data": {
      "text/plain": [
       "[1, 2, 7, 8, 53, 53, 'rohan', 8584, 2.22]"
      ]
     },
     "execution_count": 12,
     "metadata": {},
     "output_type": "execute_result"
    }
   ],
   "source": [
    "l\n"
   ]
  },
  {
   "cell_type": "code",
   "execution_count": 13,
   "id": "6b2c8056",
   "metadata": {},
   "outputs": [
    {
     "name": "stdout",
     "output_type": "stream",
     "text": [
      "2\n",
      "3\n",
      "8\n",
      "9\n",
      "54\n",
      "54\n",
      "rohan1\n",
      "8585\n",
      "3.22\n"
     ]
    }
   ],
   "source": [
    "for i in l:\n",
    "    if type(i)==int:\n",
    "        print(i+1)\n",
    "    elif type(i)==float:\n",
    "        print(i+1)\n",
    "    else:\n",
    "        print(i + str(1))"
   ]
  },
  {
   "cell_type": "code",
   "execution_count": 14,
   "id": "0721dc3a",
   "metadata": {},
   "outputs": [],
   "source": [
    "l1=[2,4,53,5,754,5,45,'rohan',0.222,'sudhanshu','rahul',298,\"mittal\",9.325235325]"
   ]
  },
  {
   "cell_type": "code",
   "execution_count": 15,
   "id": "f911ba24",
   "metadata": {},
   "outputs": [],
   "source": [
    "#challenge= create a list of integers only, strings only, float only"
   ]
  },
  {
   "cell_type": "code",
   "execution_count": 16,
   "id": "2eed7bbf",
   "metadata": {},
   "outputs": [
    {
     "name": "stdout",
     "output_type": "stream",
     "text": [
      "2\n",
      "4\n",
      "53\n",
      "5\n",
      "754\n",
      "5\n",
      "45\n",
      "298\n"
     ]
    }
   ],
   "source": [
    "for i in l1:\n",
    "    if type(i)==int:\n",
    "        print(i)\n",
    "    else:\n",
    "        pass\n",
    "    "
   ]
  },
  {
   "cell_type": "code",
   "execution_count": 17,
   "id": "39aa3e83",
   "metadata": {},
   "outputs": [
    {
     "data": {
      "text/plain": [
       "[2,\n",
       " 4,\n",
       " 53,\n",
       " 5,\n",
       " 754,\n",
       " 5,\n",
       " 45,\n",
       " 'rohan',\n",
       " 0.222,\n",
       " 'sudhanshu',\n",
       " 'rahul',\n",
       " 298,\n",
       " 'mittal',\n",
       " 9.325235325]"
      ]
     },
     "execution_count": 17,
     "metadata": {},
     "output_type": "execute_result"
    }
   ],
   "source": [
    "l1\n"
   ]
  },
  {
   "cell_type": "code",
   "execution_count": 22,
   "id": "c2b76823",
   "metadata": {},
   "outputs": [],
   "source": [
    "l2 = [] \n",
    "l3 = []\n",
    "l4 = []\n",
    "for i in l1:\n",
    "    if type(i)==int:\n",
    "        l2.append(i) #appending the integer elements of the list l1 to the list l2\n",
    "    elif type(i)==str:\n",
    "        l3.append(i) #appending the string elements to the list l3\n",
    "    elif type(i)==float:\n",
    "        l4.append(i) #appending the string elements to the list l4\n",
    "    "
   ]
  },
  {
   "cell_type": "code",
   "execution_count": 21,
   "id": "7c75bcb5",
   "metadata": {},
   "outputs": [
    {
     "data": {
      "text/plain": [
       "[2, 4, 53, 5, 754, 5, 45, 298]"
      ]
     },
     "execution_count": 21,
     "metadata": {},
     "output_type": "execute_result"
    }
   ],
   "source": [
    "l2"
   ]
  },
  {
   "cell_type": "code",
   "execution_count": 23,
   "id": "3b2283ea",
   "metadata": {},
   "outputs": [
    {
     "data": {
      "text/plain": [
       "['rohan', 'sudhanshu', 'rahul', 'mittal']"
      ]
     },
     "execution_count": 23,
     "metadata": {},
     "output_type": "execute_result"
    }
   ],
   "source": [
    "l3"
   ]
  },
  {
   "cell_type": "markdown",
   "id": "b539c3b4",
   "metadata": {},
   "source": [
    "l4"
   ]
  },
  {
   "cell_type": "code",
   "execution_count": 24,
   "id": "7d213d1b",
   "metadata": {},
   "outputs": [
    {
     "data": {
      "text/plain": [
       "[0.222, 9.325235325]"
      ]
     },
     "execution_count": 24,
     "metadata": {},
     "output_type": "execute_result"
    }
   ],
   "source": [
    "l4"
   ]
  },
  {
   "cell_type": "code",
   "execution_count": null,
   "id": "63f53213",
   "metadata": {},
   "outputs": [],
   "source": []
  }
 ],
 "metadata": {
  "kernelspec": {
   "display_name": "Python 3 (ipykernel)",
   "language": "python",
   "name": "python3"
  },
  "language_info": {
   "codemirror_mode": {
    "name": "ipython",
    "version": 3
   },
   "file_extension": ".py",
   "mimetype": "text/x-python",
   "name": "python",
   "nbconvert_exporter": "python",
   "pygments_lexer": "ipython3",
   "version": "3.9.12"
  }
 },
 "nbformat": 4,
 "nbformat_minor": 5
}
