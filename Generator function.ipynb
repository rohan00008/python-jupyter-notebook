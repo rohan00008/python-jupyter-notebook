{
 "cells": [
  {
   "cell_type": "code",
   "execution_count": 1,
   "id": "f202290e",
   "metadata": {},
   "outputs": [
    {
     "data": {
      "text/plain": [
       "range(0, 10)"
      ]
     },
     "execution_count": 1,
     "metadata": {},
     "output_type": "execute_result"
    }
   ],
   "source": [
    "range(10)"
   ]
  },
  {
   "cell_type": "code",
   "execution_count": 2,
   "id": "57f40d51",
   "metadata": {},
   "outputs": [
    {
     "data": {
      "text/plain": [
       "[0, 1, 2, 3, 4, 5, 6, 7, 8, 9]"
      ]
     },
     "execution_count": 2,
     "metadata": {},
     "output_type": "execute_result"
    }
   ],
   "source": [
    "list(range(10))"
   ]
  },
  {
   "cell_type": "code",
   "execution_count": 3,
   "id": "580a30b5",
   "metadata": {},
   "outputs": [],
   "source": [
    "def square(*n): #input is taken in the form of tuples\n",
    "    \"\"\"this function give the list of square values of the arguments entered\"\"\"\n",
    "    for i in n:\n",
    "        i=i**2\n",
    "        print(i)\n",
    "        "
   ]
  },
  {
   "cell_type": "code",
   "execution_count": 4,
   "id": "07fd4839",
   "metadata": {},
   "outputs": [
    {
     "name": "stdout",
     "output_type": "stream",
     "text": [
      "16\n",
      "25\n",
      "49\n",
      "64\n"
     ]
    }
   ],
   "source": [
    "square(4,5,7,8) #output in the form of none data type\n"
   ]
  },
  {
   "cell_type": "code",
   "execution_count": 5,
   "id": "5519898a",
   "metadata": {},
   "outputs": [],
   "source": [
    "def square(*n): #input is taken in the form of tuples\n",
    "    \"\"\"this function give the list of square values of the arguments entered\"\"\"\n",
    "    lsq=[]\n",
    "    for i in n:\n",
    "        i=i**2\n",
    "        lsq.append(i)\n",
    "    return lsq    \n",
    "        "
   ]
  },
  {
   "cell_type": "code",
   "execution_count": 6,
   "id": "7bb1ab36",
   "metadata": {},
   "outputs": [
    {
     "data": {
      "text/plain": [
       "[16, 25, 49, 64]"
      ]
     },
     "execution_count": 6,
     "metadata": {},
     "output_type": "execute_result"
    }
   ],
   "source": [
    "square(4,5,7,8) #output in the form of list collection"
   ]
  },
  {
   "cell_type": "code",
   "execution_count": 7,
   "id": "774233cd",
   "metadata": {},
   "outputs": [],
   "source": [
    "def square_fun(n):\n",
    "    x = [i*i for i in range(n)]\n",
    "    return x"
   ]
  },
  {
   "cell_type": "code",
   "execution_count": 8,
   "id": "63ea9fe1",
   "metadata": {},
   "outputs": [
    {
     "data": {
      "text/plain": [
       "[0, 1, 4, 9]"
      ]
     },
     "execution_count": 8,
     "metadata": {},
     "output_type": "execute_result"
    }
   ],
   "source": [
    "square_fun(4)"
   ]
  },
  {
   "cell_type": "code",
   "execution_count": 9,
   "id": "fde7fba5",
   "metadata": {},
   "outputs": [],
   "source": [
    "#generator function"
   ]
  },
  {
   "cell_type": "code",
   "execution_count": 10,
   "id": "9cd281ca",
   "metadata": {},
   "outputs": [
    {
     "data": {
      "text/plain": [
       "range(0, 6)"
      ]
     },
     "execution_count": 10,
     "metadata": {},
     "output_type": "execute_result"
    }
   ],
   "source": [
    "range(6) #range function basically behaves like a generator.\n",
    "#range function doesnot give an outcome unless and until we are not converting/returning it into list, tuple, \n",
    "#or iterate thru FOR loop   "
   ]
  },
  {
   "cell_type": "code",
   "execution_count": 11,
   "id": "7397c779",
   "metadata": {},
   "outputs": [
    {
     "data": {
      "text/plain": [
       "[0, 1, 2, 3, 4, 5]"
      ]
     },
     "execution_count": 11,
     "metadata": {},
     "output_type": "execute_result"
    }
   ],
   "source": [
    "list(range(6))"
   ]
  },
  {
   "cell_type": "code",
   "execution_count": 12,
   "id": "062db980",
   "metadata": {},
   "outputs": [],
   "source": [
    "def square_fun1(n): #this is a GENERATOR function for square values of n\n",
    "    x = [i*i for i in range(n)]\n",
    "    yield x #using yield and not return in case of generator function \n",
    "    #yield function yields a data in the form of object but does not return the output"
   ]
  },
  {
   "cell_type": "code",
   "execution_count": 13,
   "id": "7f08ea59",
   "metadata": {},
   "outputs": [
    {
     "data": {
      "text/plain": [
       "<generator object square_fun1 at 0x0000022C1CFDB430>"
      ]
     },
     "execution_count": 13,
     "metadata": {},
     "output_type": "execute_result"
    }
   ],
   "source": [
    "square_fun1(4) #this is the generator function, it returns an object but does not return an output"
   ]
  },
  {
   "cell_type": "code",
   "execution_count": 14,
   "id": "e5962839",
   "metadata": {},
   "outputs": [
    {
     "data": {
      "text/plain": [
       "generator"
      ]
     },
     "execution_count": 14,
     "metadata": {},
     "output_type": "execute_result"
    }
   ],
   "source": [
    "type(square_fun1(4)) #generator data type"
   ]
  },
  {
   "cell_type": "code",
   "execution_count": 15,
   "id": "2501df55",
   "metadata": {},
   "outputs": [
    {
     "data": {
      "text/plain": [
       "([0, 1, 4, 9],)"
      ]
     },
     "execution_count": 15,
     "metadata": {},
     "output_type": "execute_result"
    }
   ],
   "source": [
    "tuple(square_fun1(4)) #type casting of generator data type into tuple data type"
   ]
  },
  {
   "cell_type": "code",
   "execution_count": 16,
   "id": "8d826410",
   "metadata": {},
   "outputs": [
    {
     "data": {
      "text/plain": [
       "[[0, 1, 4, 9]]"
      ]
     },
     "execution_count": 16,
     "metadata": {},
     "output_type": "execute_result"
    }
   ],
   "source": [
    "list(square_fun1(4)) #type casting of generator data type into list data type"
   ]
  },
  {
   "cell_type": "code",
   "execution_count": 17,
   "id": "a26638ab",
   "metadata": {},
   "outputs": [
    {
     "name": "stdout",
     "output_type": "stream",
     "text": [
      "[0, 1, 4, 9]\n"
     ]
    }
   ],
   "source": [
    "for i in square_fun1(4): #getting the data from the generator function through FOR loop iteration\n",
    "    print(i)"
   ]
  },
  {
   "cell_type": "code",
   "execution_count": 18,
   "id": "28fd8da9",
   "metadata": {},
   "outputs": [
    {
     "name": "stdout",
     "output_type": "stream",
     "text": [
      "0\n",
      "1\n",
      "2\n",
      "3\n"
     ]
    }
   ],
   "source": [
    "for i in range(4): #getting the data from the generator function through FOR loop iteration\n",
    "    print(i)"
   ]
  },
  {
   "cell_type": "code",
   "execution_count": 19,
   "id": "7c1553d8",
   "metadata": {},
   "outputs": [],
   "source": [
    "#generator function= doesnot gives the dataset directly, but gives the data set at the call of it thru FOR loop iteration through its object or by type casting operations.\n",
    "#generator function=generate a dataset but doesnot return the dataset by itself(bcz it uses yield keyword during its genesis)"
   ]
  },
  {
   "cell_type": "code",
   "execution_count": 20,
   "id": "0ac5088b",
   "metadata": {},
   "outputs": [
    {
     "data": {
      "text/plain": [
       "[0, 1, 4, 9]"
      ]
     },
     "execution_count": 20,
     "metadata": {},
     "output_type": "execute_result"
    }
   ],
   "source": [
    "next(square_fun1(4)) #generator function is iterator"
   ]
  },
  {
   "cell_type": "code",
   "execution_count": 21,
   "id": "4684e309",
   "metadata": {},
   "outputs": [],
   "source": [
    "#next(range(4)) #range function is not iterator"
   ]
  },
  {
   "cell_type": "code",
   "execution_count": 22,
   "id": "145acfb8",
   "metadata": {},
   "outputs": [],
   "source": [
    "r = iter(range(4)) #range function is iterable and converted to iterator using iter function # r=iterator"
   ]
  },
  {
   "cell_type": "code",
   "execution_count": 23,
   "id": "01eec877",
   "metadata": {},
   "outputs": [
    {
     "data": {
      "text/plain": [
       "0"
      ]
     },
     "execution_count": 23,
     "metadata": {},
     "output_type": "execute_result"
    }
   ],
   "source": [
    "next(r) # next function applicable on iterator"
   ]
  },
  {
   "cell_type": "code",
   "execution_count": 24,
   "id": "988228e3",
   "metadata": {},
   "outputs": [
    {
     "data": {
      "text/plain": [
       "1"
      ]
     },
     "execution_count": 24,
     "metadata": {},
     "output_type": "execute_result"
    }
   ],
   "source": [
    "next(r) "
   ]
  },
  {
   "cell_type": "code",
   "execution_count": 25,
   "id": "2658b3bd",
   "metadata": {},
   "outputs": [
    {
     "data": {
      "text/plain": [
       "2"
      ]
     },
     "execution_count": 25,
     "metadata": {},
     "output_type": "execute_result"
    }
   ],
   "source": [
    "next(r) "
   ]
  },
  {
   "cell_type": "code",
   "execution_count": 26,
   "id": "48f201e0",
   "metadata": {},
   "outputs": [
    {
     "data": {
      "text/plain": [
       "3"
      ]
     },
     "execution_count": 26,
     "metadata": {},
     "output_type": "execute_result"
    }
   ],
   "source": [
    "next(r) "
   ]
  },
  {
   "cell_type": "code",
   "execution_count": 27,
   "id": "f733c2d3",
   "metadata": {},
   "outputs": [],
   "source": [
    "#generating a fibbonacci series\n",
    "#write a function which would be generating a fibbonacci series.\n",
    "#fibbonacci series=sequence of nunmbers where the next number is the summation of the previous two numbers."
   ]
  },
  {
   "cell_type": "code",
   "execution_count": 28,
   "id": "d19605a3",
   "metadata": {},
   "outputs": [],
   "source": [
    " def list_fibbo(n): #n=number of elements in the sequence\n",
    "        a=1\n",
    "        b=1\n",
    "        l=[]\n",
    "        for i in range(n):\n",
    "            l.append(a)\n",
    "            a,b=b, a+b\n",
    "        return l    "
   ]
  },
  {
   "cell_type": "code",
   "execution_count": 29,
   "id": "06c4da2c",
   "metadata": {},
   "outputs": [
    {
     "data": {
      "text/plain": [
       "[1, 1, 2, 3, 5, 8, 13, 21, 34, 55]"
      ]
     },
     "execution_count": 29,
     "metadata": {},
     "output_type": "execute_result"
    }
   ],
   "source": [
    "list_fibbo(10) #unless and until the whole list is prepared in the buffer memory, it will not give any output data."
   ]
  },
  {
   "cell_type": "code",
   "execution_count": 30,
   "id": "8eded796",
   "metadata": {},
   "outputs": [],
   "source": [
    " def gen_fibbo(n): #n=number of elements in the sequence\n",
    "        a=1\n",
    "        b=1\n",
    "        for i in range(n):\n",
    "            yield a #return cannot be used bcz it gives only one return value.\n",
    "            a,b=b, a+b\n",
    "        #this is the generator function for the fibbonacci series"
   ]
  },
  {
   "cell_type": "code",
   "execution_count": 31,
   "id": "a15e5081",
   "metadata": {},
   "outputs": [
    {
     "name": "stdout",
     "output_type": "stream",
     "text": [
      "1\n",
      "1\n",
      "2\n",
      "3\n",
      "5\n",
      "8\n",
      "13\n",
      "21\n",
      "34\n",
      "55\n"
     ]
    }
   ],
   "source": [
    "for i in gen_fibbo(10): #extracting data from the generator function\n",
    "    print(i)            #memory and resource utilisation is very less compared to earlier case{list_fibbo(10)}\n",
    "                        #it generate data one by one, and extract data.\n",
    "                        #it doesnot create an accumulated list before extracting data, \n",
    "                        #it generates and extracts data simulataneously\n",
    "                        #thus generator function utilize relatively less memory and resource for its execution"
   ]
  },
  {
   "cell_type": "code",
   "execution_count": null,
   "id": "b21b716e",
   "metadata": {},
   "outputs": [],
   "source": [
    " "
   ]
  }
 ],
 "metadata": {
  "kernelspec": {
   "display_name": "Python 3 (ipykernel)",
   "language": "python",
   "name": "python3"
  },
  "language_info": {
   "codemirror_mode": {
    "name": "ipython",
    "version": 3
   },
   "file_extension": ".py",
   "mimetype": "text/x-python",
   "name": "python",
   "nbconvert_exporter": "python",
   "pygments_lexer": "ipython3",
   "version": "3.9.12"
  }
 },
 "nbformat": 4,
 "nbformat_minor": 5
}
