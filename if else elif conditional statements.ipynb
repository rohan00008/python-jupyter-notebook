{
 "cells": [
  {
   "cell_type": "code",
   "execution_count": 1,
   "id": "6f7d8ffe",
   "metadata": {},
   "outputs": [
    {
     "name": "stdout",
     "output_type": "stream",
     "text": [
      "this is my first condition\n"
     ]
    }
   ],
   "source": [
    "a = 10\n",
    "if a == 10 : #==comparison operator #= is the assignment operator # : after if statement=called as indentation\n",
    "     print(\"this is my first condition\") #this execution will take place only if the if statement is right\n",
    "          "
   ]
  },
  {
   "cell_type": "code",
   "execution_count": 2,
   "id": "6d79f619",
   "metadata": {},
   "outputs": [],
   "source": [
    "b=12\n",
    "if b == 10:\n",
    "    print(\"yay i made it\") #this statement will not be executed bcz the if statement is not satisfied."
   ]
  },
  {
   "cell_type": "code",
   "execution_count": 4,
   "id": "9fcc8934",
   "metadata": {},
   "outputs": [
    {
     "ename": "IndentationError",
     "evalue": "expected an indented block (1802246187.py, line 4)",
     "output_type": "error",
     "traceback": [
      "\u001b[1;36m  Input \u001b[1;32mIn [4]\u001b[1;36m\u001b[0m\n\u001b[1;33m    \u001b[0m\n\u001b[1;37m    ^\u001b[0m\n\u001b[1;31mIndentationError\u001b[0m\u001b[1;31m:\u001b[0m expected an indented block\n"
     ]
    }
   ],
   "source": [
    "a=9\n",
    "if a>5:\n",
    "     #error since it expected an indented block\n",
    "    "
   ]
  },
  {
   "cell_type": "code",
   "execution_count": 5,
   "id": "6678c08a",
   "metadata": {},
   "outputs": [],
   "source": [
    "a=9\n",
    "if a>5:\n",
    "    pass #pass will behave as a indented block which will not do anything.\n",
    "\n"
   ]
  },
  {
   "cell_type": "code",
   "execution_count": 6,
   "id": "4dedf245",
   "metadata": {},
   "outputs": [
    {
     "name": "stdout",
     "output_type": "stream",
     "text": [
      "print this if condition is true\n"
     ]
    }
   ],
   "source": [
    "a=10\n",
    "if a>8:\n",
    "    print(\"print this if condition is true\")"
   ]
  },
  {
   "cell_type": "code",
   "execution_count": 7,
   "id": "13f4f8b8",
   "metadata": {},
   "outputs": [
    {
     "name": "stdout",
     "output_type": "stream",
     "text": [
      "my condition is false\n"
     ]
    }
   ],
   "source": [
    "a=10\n",
    "if a !=11:\n",
    "     print(\"my condition is false\")\n",
    "else :\n",
    "    print(\"print this\")"
   ]
  },
  {
   "cell_type": "code",
   "execution_count": 8,
   "id": "923a6cb3",
   "metadata": {},
   "outputs": [
    {
     "name": "stdout",
     "output_type": "stream",
     "text": [
      "print this\n"
     ]
    }
   ],
   "source": [
    "a=10\n",
    "if a ==11:\n",
    "     print(\"my condition is false\")\n",
    "else :\n",
    "    print(\"print this\")"
   ]
  },
  {
   "cell_type": "code",
   "execution_count": 9,
   "id": "29492a83",
   "metadata": {},
   "outputs": [],
   "source": [
    "#elif operator= to check multiple conditions in a sequential manner\n"
   ]
  },
  {
   "cell_type": "code",
   "execution_count": 10,
   "id": "421811c4",
   "metadata": {},
   "outputs": [
    {
     "name": "stdout",
     "output_type": "stream",
     "text": [
      "if all the blocks will fail then do this\n"
     ]
    }
   ],
   "source": [
    "a = 10\n",
    "if a == 12:\n",
    "    print(\"here we are trying to compare 10 with 12\")\n",
    "elif a == 11:\n",
    "    print(\"we are trying to compare 10 with 11\")\n",
    "else:\n",
    "    print(\"if all the blocks will fail then do this\")"
   ]
  },
  {
   "cell_type": "code",
   "execution_count": 11,
   "id": "aaa9267b",
   "metadata": {},
   "outputs": [
    {
     "name": "stdout",
     "output_type": "stream",
     "text": [
      "we are trying to compare 10 with 11\n"
     ]
    }
   ],
   "source": [
    "a = 10\n",
    "if a == 12:\n",
    "    print(\"here we are trying to compare 10 with 12\")\n",
    "elif a == 10:\n",
    "    print(\"we are trying to compare 10 with 11\")\n",
    "else:\n",
    "    print(\"if all the blocks will fail then do this\")"
   ]
  },
  {
   "cell_type": "code",
   "execution_count": 12,
   "id": "f33f5d5e",
   "metadata": {},
   "outputs": [],
   "source": [
    "#indentation is required in python"
   ]
  },
  {
   "cell_type": "code",
   "execution_count": 13,
   "id": "61b2befa",
   "metadata": {},
   "outputs": [
    {
     "name": "stdout",
     "output_type": "stream",
     "text": [
      "i will be able to buy a jacket\n"
     ]
    }
   ],
   "source": [
    "price = 500\n",
    "\n",
    "if price > 500:\n",
    "    print(\"i wont be able to buy a jacket\")\n",
    "elif price <= 500:\n",
    "    print(\"i will be able to buy a jacket\")"
   ]
  },
  {
   "cell_type": "code",
   "execution_count": 14,
   "id": "f6ffbc96",
   "metadata": {},
   "outputs": [
    {
     "ename": "SyntaxError",
     "evalue": "invalid syntax (571339513.py, line 7)",
     "output_type": "error",
     "traceback": [
      "\u001b[1;36m  Input \u001b[1;32mIn [14]\u001b[1;36m\u001b[0m\n\u001b[1;33m    else price == 500: # else operator me koi condition allowed nhi hai, thts why error aaya\u001b[0m\n\u001b[1;37m         ^\u001b[0m\n\u001b[1;31mSyntaxError\u001b[0m\u001b[1;31m:\u001b[0m invalid syntax\n"
     ]
    }
   ],
   "source": [
    "price = 500\n",
    "\n",
    "if price > 500:\n",
    "    print(\"i wont be able to buy a jacket\")\n",
    "elif price <= 500:\n",
    "    print(\"i will be able to buy a jacket\")\n",
    "else price == 500: # else operator me koi condition allowed nhi hai, thts why error aaya\n",
    "    print(\"i dont know\")"
   ]
  },
  {
   "cell_type": "code",
   "execution_count": 15,
   "id": "6eaa0ff0",
   "metadata": {},
   "outputs": [
    {
     "name": "stdout",
     "output_type": "stream",
     "text": [
      "i will be able to buy a jacket\n"
     ]
    }
   ],
   "source": [
    "price = 500\n",
    "\n",
    "if price > 500:\n",
    "    print(\"i wont be able to buy a jacket\")\n",
    "elif price <= 500:\n",
    "    print(\"i will be able to buy a jacket\") #the statement terminates upon satisfaction of the first condition \n",
    "elif price == 500:\n",
    "    print(\"i dont know\") "
   ]
  },
  {
   "cell_type": "code",
   "execution_count": 16,
   "id": "d496d855",
   "metadata": {},
   "outputs": [
    {
     "name": "stdout",
     "output_type": "stream",
     "text": [
      "i dont know\n"
     ]
    }
   ],
   "source": [
    "price = 500\n",
    "\n",
    "if price > 500:\n",
    "    print(\"i wont be able to buy a jacket\")\n",
    "elif price < 500:\n",
    "    print(\"i will be able to buy a jacket\")\n",
    "elif price == 500:\n",
    "    print(\"i dont know\")\n",
    "else:\n",
    "    print(\"random number\")\n",
    "    "
   ]
  },
  {
   "cell_type": "code",
   "execution_count": 17,
   "id": "f2c4ae16",
   "metadata": {},
   "outputs": [
    {
     "data": {
      "text/plain": [
       "False"
      ]
     },
     "execution_count": 17,
     "metadata": {},
     "output_type": "execute_result"
    }
   ],
   "source": [
    "price>500\n"
   ]
  },
  {
   "cell_type": "code",
   "execution_count": 18,
   "id": "33b63fbe",
   "metadata": {},
   "outputs": [
    {
     "data": {
      "text/plain": [
       "False"
      ]
     },
     "execution_count": 18,
     "metadata": {},
     "output_type": "execute_result"
    }
   ],
   "source": [
    "price<500"
   ]
  },
  {
   "cell_type": "code",
   "execution_count": 19,
   "id": "d404b83c",
   "metadata": {},
   "outputs": [
    {
     "data": {
      "text/plain": [
       "True"
      ]
     },
     "execution_count": 19,
     "metadata": {},
     "output_type": "execute_result"
    }
   ],
   "source": [
    "price==500"
   ]
  },
  {
   "cell_type": "code",
   "execution_count": 20,
   "id": "75f7f2d3",
   "metadata": {},
   "outputs": [
    {
     "data": {
      "text/plain": [
       "True"
      ]
     },
     "execution_count": 20,
     "metadata": {},
     "output_type": "execute_result"
    }
   ],
   "source": [
    "l = [1,2,4,6,3,24,5,53,32,246]\n",
    "\n",
    "2 in l"
   ]
  },
  {
   "cell_type": "code",
   "execution_count": 21,
   "id": "7fe8916b",
   "metadata": {},
   "outputs": [
    {
     "name": "stdout",
     "output_type": "stream",
     "text": [
      "try to perform a task\n"
     ]
    }
   ],
   "source": [
    "if 2 in l:\n",
    "    print(\"try to perform a task\")\n",
    "else:\n",
    "    print(\"do not perform this task\")"
   ]
  },
  {
   "cell_type": "code",
   "execution_count": 22,
   "id": "2800be9d",
   "metadata": {},
   "outputs": [
    {
     "name": "stdout",
     "output_type": "stream",
     "text": [
      "do not perform this task\n"
     ]
    }
   ],
   "source": [
    "if 60 in l:\n",
    "    print(\"try to perform a task\")\n",
    "else:\n",
    "    print(\"do not perform this task\")"
   ]
  },
  {
   "cell_type": "code",
   "execution_count": 23,
   "id": "fa14ff36",
   "metadata": {},
   "outputs": [
    {
     "name": "stdout",
     "output_type": "stream",
     "text": [
      "watch stranger things\n"
     ]
    }
   ],
   "source": [
    "if 1 in l:\n",
    "    print(\"watch stranger things\") #statement terminates upon satisfaction of the first condition which it encounters.\n",
    "elif 2 in l:\n",
    "    print(\"watch big bang theory\")\n",
    "elif 4 in l:\n",
    "    print(\"watch documentary\")"
   ]
  },
  {
   "cell_type": "code",
   "execution_count": 24,
   "id": "bb9e133a",
   "metadata": {},
   "outputs": [
    {
     "name": "stdout",
     "output_type": "stream",
     "text": [
      "watch big bang theory\n"
     ]
    }
   ],
   "source": [
    "if 10 in l:\n",
    "    print(\"watch stranger things\") \n",
    "elif 2 in l:\n",
    "    print(\"watch big bang theory\")#statement terminates upon satisfaction of the first condition which it encounters.\n",
    "elif 4 in l:\n",
    "    print(\"watch documentary\")"
   ]
  },
  {
   "cell_type": "code",
   "execution_count": 25,
   "id": "4b8b6393",
   "metadata": {},
   "outputs": [
    {
     "name": "stdout",
     "output_type": "stream",
     "text": [
      "watch big bang theory\n",
      "watch friends\n"
     ]
    }
   ],
   "source": [
    "if 10 in l:\n",
    "    print(\"watch stranger things\") \n",
    "elif 2 in l:\n",
    "    print(\"watch big bang theory\")#else statement terminates upon satisfaction of the first condition which it encounters.\n",
    "elif 4 in l:\n",
    "    print(\"watch documentary\")\n",
    "\n",
    "if  24 in l: # this is completely different block\n",
    "    print(\"watch friends\") #kernel checks every if statement"
   ]
  },
  {
   "cell_type": "code",
   "execution_count": 26,
   "id": "7628f1ec",
   "metadata": {},
   "outputs": [],
   "source": [
    "#lesson: kernel checks every if statement,\n",
    "# kernel terminates in elif statement upon satisfaction of the very first statement and doesnot check further elif statements"
   ]
  },
  {
   "cell_type": "code",
   "execution_count": 27,
   "id": "03cc6610",
   "metadata": {},
   "outputs": [],
   "source": [
    "a = 400\n"
   ]
  },
  {
   "cell_type": "code",
   "execution_count": 28,
   "id": "434773da",
   "metadata": {},
   "outputs": [
    {
     "name": "stdout",
     "output_type": "stream",
     "text": [
      "\n"
     ]
    }
   ],
   "source": [
    "b= input() #input is an inbuilt function which takes value from the user"
   ]
  },
  {
   "cell_type": "code",
   "execution_count": 29,
   "id": "8e1679c2",
   "metadata": {},
   "outputs": [
    {
     "data": {
      "text/plain": [
       "str"
      ]
     },
     "execution_count": 29,
     "metadata": {},
     "output_type": "execute_result"
    }
   ],
   "source": [
    "type(b)  #NOTE: by default, input is taken as a string irrespective of the data type feeded into the input."
   ]
  },
  {
   "cell_type": "code",
   "execution_count": 30,
   "id": "67600d47",
   "metadata": {},
   "outputs": [
    {
     "data": {
      "text/plain": [
       "''"
      ]
     },
     "execution_count": 30,
     "metadata": {},
     "output_type": "execute_result"
    }
   ],
   "source": [
    "b #string format"
   ]
  },
  {
   "cell_type": "code",
   "execution_count": 31,
   "id": "ee3cab54",
   "metadata": {},
   "outputs": [
    {
     "ename": "ValueError",
     "evalue": "invalid literal for int() with base 10: ''",
     "output_type": "error",
     "traceback": [
      "\u001b[1;31m---------------------------------------------------------------------------\u001b[0m",
      "\u001b[1;31mValueError\u001b[0m                                Traceback (most recent call last)",
      "Input \u001b[1;32mIn [31]\u001b[0m, in \u001b[0;36m<cell line: 1>\u001b[1;34m()\u001b[0m\n\u001b[1;32m----> 1\u001b[0m b\u001b[38;5;241m=\u001b[39m\u001b[38;5;28;43mint\u001b[39;49m\u001b[43m(\u001b[49m\u001b[43mb\u001b[49m\u001b[43m)\u001b[49m\n",
      "\u001b[1;31mValueError\u001b[0m: invalid literal for int() with base 10: ''"
     ]
    }
   ],
   "source": [
    "b=int(b) #type casting the input into int format"
   ]
  },
  {
   "cell_type": "code",
   "execution_count": null,
   "id": "dda5bcd4",
   "metadata": {},
   "outputs": [],
   "source": [
    "b"
   ]
  },
  {
   "cell_type": "code",
   "execution_count": 32,
   "id": "bf729dea",
   "metadata": {},
   "outputs": [
    {
     "data": {
      "text/plain": [
       "str"
      ]
     },
     "execution_count": 32,
     "metadata": {},
     "output_type": "execute_result"
    }
   ],
   "source": [
    "type(b)"
   ]
  },
  {
   "cell_type": "code",
   "execution_count": 39,
   "id": "c3ad0253",
   "metadata": {},
   "outputs": [
    {
     "name": "stdout",
     "output_type": "stream",
     "text": [
      "399\n",
      "i will be able to buy something\n",
      "i will be able to buy a jacket\n"
     ]
    }
   ],
   "source": [
    "price = int(input()) #type casting is done in the input stage only\n",
    "if price<500:\n",
    "    print(\"i will be able to buy something\")\n",
    "    if price<400: #NESTED IF STATEMENT\n",
    "        print(\"i will be able to buy a jacket\")\n",
    "    elif price<300:\n",
    "        print(\"i will be able to buy a shirt\")\n",
    "    else:\n",
    "        print(\"i wont be able to buy anything\")\n",
    "        \n",
    "else:\n",
    "    print(\"i wont be able to buy anything with this price tag\")\n",
    "    \n",
    "    "
   ]
  },
  {
   "cell_type": "code",
   "execution_count": 40,
   "id": "f0a398b9",
   "metadata": {},
   "outputs": [
    {
     "name": "stdout",
     "output_type": "stream",
     "text": [
      "600\n",
      "i wont be able to buy anything with this price tag\n",
      "lets try something else\n"
     ]
    }
   ],
   "source": [
    "price = int(input()) #type casting is done in the input stage only\n",
    "if price<500:\n",
    "    print(\"i will be able to buy something\")\n",
    "    if price<400: #NESTED IF STATEMENT\n",
    "        print(\"i will be able to buy a jacket\")\n",
    "    elif price<300:\n",
    "        print(\"i will be able to buy a shirt\")\n",
    "    else:\n",
    "        print(\"i wont be able to buy anything\")\n",
    "        \n",
    "else:\n",
    "    print(\"i wont be able to buy anything with this price tag\")\n",
    "    if price>500:\n",
    "        print(\"lets try something else\")\n",
    "        "
   ]
  },
  {
   "cell_type": "code",
   "execution_count": 57,
   "id": "4ddb90cd",
   "metadata": {},
   "outputs": [
    {
     "name": "stdout",
     "output_type": "stream",
     "text": [
      "enter your marks333\n",
      " you have not qualified GRE\n",
      "you have qualified TOFFEL\n",
      "try something else\n"
     ]
    }
   ],
   "source": [
    "marks = int(input(\"enter your marks\"))\n",
    "if marks > 600:\n",
    "    print(\"you have qualified GRE\")\n",
    "else:\n",
    "    print(\" you have not qualified GRE\")\n",
    "    if marks<500:\n",
    "        print(\"you have qualified TOFFEL\")\n",
    "    if marks<400:\n",
    "        print(\"try something else\")\n",
    "        \n",
    "        "
   ]
  },
  {
   "cell_type": "code",
   "execution_count": 56,
   "id": "72d30a57",
   "metadata": {},
   "outputs": [
    {
     "name": "stdout",
     "output_type": "stream",
     "text": [
      "enter your marks301\n",
      "you have not qualified GRE\n",
      "try something else\n"
     ]
    }
   ],
   "source": [
    "marks = int(input(\"enter your marks\"))\n",
    "if marks > 600:\n",
    "    print(\"you have qualified GRE\")\n",
    "else:\n",
    "    print(\"you have not qualified GRE\")\n",
    "    if 400<marks<500: #WE CAN WRITE RANGES AS WELL\n",
    "        print(\"you have qualified TOFFEL\")\n",
    "    if marks<400:\n",
    "        print(\"try something else\")"
   ]
  },
  {
   "cell_type": "code",
   "execution_count": 59,
   "id": "215f0b7a",
   "metadata": {},
   "outputs": [
    {
     "name": "stdout",
     "output_type": "stream",
     "text": [
      "enter a floating point number 2\n",
      "entered value is a positive number\n"
     ]
    }
   ],
   "source": [
    "val = float(input(\"enter a floating point number \"))\n",
    "if val>=0:\n",
    "    if val==0:\n",
    "        print(\"entered value is zero\")\n",
    "    else:\n",
    "        print(\"entered value is a positive number\")\n",
    "else:\n",
    "    print(\"entered number is a negative number \")\n",
    "    \n",
    "    \n"
   ]
  },
  {
   "cell_type": "code",
   "execution_count": 60,
   "id": "127fd389",
   "metadata": {},
   "outputs": [
    {
     "name": "stdout",
     "output_type": "stream",
     "text": [
      "try to do something\n"
     ]
    }
   ],
   "source": [
    "a = 10\n",
    "if a<10 or a ==10 : #OR operator =to check multple conditions \n",
    "    print(\"try to do something\")"
   ]
  },
  {
   "cell_type": "code",
   "execution_count": 62,
   "id": "8b6c1408",
   "metadata": {},
   "outputs": [
    {
     "name": "stdout",
     "output_type": "stream",
     "text": [
      "do not do anything\n"
     ]
    }
   ],
   "source": [
    "a = 10\n",
    "if a<10 or a >10 : #OR operator =to check multple conditions \n",
    "    print(\"try to do something\")\n",
    "else:\n",
    "    print(\"do not do anything\")\n",
    "    "
   ]
  },
  {
   "cell_type": "code",
   "execution_count": 63,
   "id": "3e706d3f",
   "metadata": {},
   "outputs": [
    {
     "name": "stdout",
     "output_type": "stream",
     "text": [
      "try to do something\n"
     ]
    }
   ],
   "source": [
    "a = 9\n",
    "if a<10 and a ==9 : #AND operator =to check multple conditions \n",
    "    print(\"try to do something\")\n",
    "else:\n",
    "    print(\"skip this class\")"
   ]
  },
  {
   "cell_type": "code",
   "execution_count": 66,
   "id": "de3036dd",
   "metadata": {},
   "outputs": [
    {
     "name": "stdout",
     "output_type": "stream",
     "text": [
      "we need to work hard\n"
     ]
    }
   ],
   "source": [
    "a = 10\n",
    "b = 12\n",
    "c = 19\n",
    "d = 24\n",
    "if a==9 and b==12 and c==19 and d==24:\n",
    "    print(\"lets do something\")\n",
    "else:\n",
    "    print(\"we need to work hard\")"
   ]
  },
  {
   "cell_type": "code",
   "execution_count": 67,
   "id": "b3b2e5fe",
   "metadata": {},
   "outputs": [
    {
     "name": "stdout",
     "output_type": "stream",
     "text": [
      "lets do something\n"
     ]
    }
   ],
   "source": [
    "a = 10\n",
    "b = 12\n",
    "c = 19\n",
    "d = 24\n",
    "if a==9 or b==12 and c==19 and d==24:\n",
    "    print(\"lets do something\")\n",
    "else:\n",
    "    print(\"we need to work hard\")"
   ]
  },
  {
   "cell_type": "code",
   "execution_count": 68,
   "id": "9a8880ef",
   "metadata": {},
   "outputs": [],
   "source": [
    "d={\"key1\":\"value\",\"key2\":\"rohan\",\"key3\":\"scalar\"}"
   ]
  },
  {
   "cell_type": "code",
   "execution_count": 69,
   "id": "7fb94f7f",
   "metadata": {},
   "outputs": [
    {
     "data": {
      "text/plain": [
       "'value'"
      ]
     },
     "execution_count": 69,
     "metadata": {},
     "output_type": "execute_result"
    }
   ],
   "source": [
    "d[\"key1\"]\n"
   ]
  },
  {
   "cell_type": "code",
   "execution_count": 72,
   "id": "4bca5948",
   "metadata": {},
   "outputs": [
    {
     "name": "stdout",
     "output_type": "stream",
     "text": [
      "all the values are verified\n",
      "dict_values(['value', 'rohan', 'scalar'])\n"
     ]
    }
   ],
   "source": [
    "if d[\"key1\"]==\"value\" and d[\"key2\"]==\"rohan\" and d[\"key3\"]==\"scalar\":\n",
    "    print(\"all the values are verified\")\n",
    "    print(d.values())"
   ]
  },
  {
   "cell_type": "code",
   "execution_count": 73,
   "id": "d0c9ebf7",
   "metadata": {},
   "outputs": [
    {
     "name": "stdout",
     "output_type": "stream",
     "text": [
      "values are incorrect\n"
     ]
    }
   ],
   "source": [
    "if d[\"key1\"]==\"value\" and d[\"key2\"]==\"rohan\" and d[\"key3\"]==\"sCalar\":\n",
    "    print(\"all the values are verified\")\n",
    "    print(d.values())\n",
    "else:\n",
    "    print(\"values are incorrect\")"
   ]
  },
  {
   "cell_type": "code",
   "execution_count": null,
   "id": "26b01592",
   "metadata": {},
   "outputs": [],
   "source": []
  }
 ],
 "metadata": {
  "kernelspec": {
   "display_name": "Python 3 (ipykernel)",
   "language": "python",
   "name": "python3"
  },
  "language_info": {
   "codemirror_mode": {
    "name": "ipython",
    "version": 3
   },
   "file_extension": ".py",
   "mimetype": "text/x-python",
   "name": "python",
   "nbconvert_exporter": "python",
   "pygments_lexer": "ipython3",
   "version": "3.9.12"
  }
 },
 "nbformat": 4,
 "nbformat_minor": 5
}
