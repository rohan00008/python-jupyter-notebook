{
 "cells": [
  {
   "cell_type": "code",
   "execution_count": 2,
   "id": "05d59d57",
   "metadata": {},
   "outputs": [
    {
     "ename": "ZeroDivisionError",
     "evalue": "division by zero",
     "output_type": "error",
     "traceback": [
      "\u001b[1;31m---------------------------------------------------------------------------\u001b[0m",
      "\u001b[1;31mZeroDivisionError\u001b[0m                         Traceback (most recent call last)",
      "Input \u001b[1;32mIn [2]\u001b[0m, in \u001b[0;36m<cell line: 2>\u001b[1;34m()\u001b[0m\n\u001b[0;32m      1\u001b[0m a\u001b[38;5;241m=\u001b[39m\u001b[38;5;241m10\u001b[39m\n\u001b[1;32m----> 2\u001b[0m \u001b[43ma\u001b[49m\u001b[38;5;241;43m/\u001b[39;49m\u001b[38;5;241;43m0\u001b[39;49m\n",
      "\u001b[1;31mZeroDivisionError\u001b[0m: division by zero"
     ]
    }
   ],
   "source": [
    "a=10\n",
    "a/0"
   ]
  },
  {
   "cell_type": "code",
   "execution_count": 3,
   "id": "83565e3a",
   "metadata": {},
   "outputs": [],
   "source": [
    "#how to handle this code in real time?\n",
    "# answer is through EXCEPTION HANDLING\n",
    "#it is a convention that we have to write each n avery line of a code inside a exception handling.\n",
    "#exception handling prevents breaking of the flow of the code, instead the exception is shown as the output in the terminal or console\n",
    "#mandatory to use in suspicious code in the try block\n",
    "#try-except-finally-else blocks used in exception handling framework\n",
    "#nesting to any extent is possible"
   ]
  },
  {
   "cell_type": "code",
   "execution_count": 4,
   "id": "9e58bcf9",
   "metadata": {},
   "outputs": [
    {
     "ename": "FileNotFoundError",
     "evalue": "[Errno 2] No such file or directory: 'sudh345'",
     "output_type": "error",
     "traceback": [
      "\u001b[1;31m---------------------------------------------------------------------------\u001b[0m",
      "\u001b[1;31mFileNotFoundError\u001b[0m                         Traceback (most recent call last)",
      "Input \u001b[1;32mIn [4]\u001b[0m, in \u001b[0;36m<cell line: 1>\u001b[1;34m()\u001b[0m\n\u001b[1;32m----> 1\u001b[0m f\u001b[38;5;241m=\u001b[39m \u001b[38;5;28;43mopen\u001b[39;49m\u001b[43m(\u001b[49m\u001b[38;5;124;43m\"\u001b[39;49m\u001b[38;5;124;43msudh345\u001b[39;49m\u001b[38;5;124;43m\"\u001b[39;49m\u001b[43m,\u001b[49m\u001b[38;5;124;43m\"\u001b[39;49m\u001b[38;5;124;43mr\u001b[39;49m\u001b[38;5;124;43m\"\u001b[39;49m\u001b[43m)\u001b[49m \n\u001b[0;32m      2\u001b[0m \u001b[38;5;28mprint\u001b[39m(\u001b[38;5;124m\"\u001b[39m\u001b[38;5;124mthis is my code to handle exception \u001b[39m\u001b[38;5;124m\"\u001b[39m)\n",
      "\u001b[1;31mFileNotFoundError\u001b[0m: [Errno 2] No such file or directory: 'sudh345'"
     ]
    }
   ],
   "source": [
    "f= open(\"sudh345\",\"r\") \n",
    "print(\"this is my code to handle exception \")"
   ]
  },
  {
   "cell_type": "code",
   "execution_count": 5,
   "id": "383222e1",
   "metadata": {},
   "outputs": [
    {
     "name": "stdout",
     "output_type": "stream",
     "text": [
      "division by zero\n",
      "this will be my final code after handling an exception\n"
     ]
    }
   ],
   "source": [
    "try:  #suspicious type of code should always be executed in the TRY block\n",
    "    a=10\n",
    "    print(a/0)\n",
    "except Exception as e: #here e=exception= division by zero  #handler for exceptions in the try block #Exception=superclass;e=main class\n",
    "    print(e)\n",
    "    print(\"this will be my final code after handling an exception\")\n",
    "    \n",
    "    "
   ]
  },
  {
   "cell_type": "code",
   "execution_count": 6,
   "id": "3639db83",
   "metadata": {},
   "outputs": [
    {
     "name": "stdout",
     "output_type": "stream",
     "text": [
      "1.0\n"
     ]
    }
   ],
   "source": [
    " try:  #suspicious type of code should always be executed in the TRY block\n",
    "    a=10\n",
    "    print(a/10)\n",
    "except Exception as e: #here e=exception= division by zero  #handler for exceptions in the try block\n",
    "    print(e)\n",
    "    print(\"this will be my final code after handling an exception\")\n",
    "    \n",
    "    "
   ]
  },
  {
   "cell_type": "code",
   "execution_count": 7,
   "id": "4563cd31",
   "metadata": {},
   "outputs": [
    {
     "name": "stdout",
     "output_type": "stream",
     "text": [
      "[Errno 2] No such file or directory: 'sudhanshu323243.txt'\n"
     ]
    }
   ],
   "source": [
    "try:\n",
    "    f= open(\"sudhanshu323243.txt\", \"r\")\n",
    "    \n",
    "except Exception as e:\n",
    "    print(e)\n",
    "    "
   ]
  },
  {
   "cell_type": "code",
   "execution_count": 8,
   "id": "44836656",
   "metadata": {},
   "outputs": [
    {
     "ename": "FileNotFoundError",
     "evalue": "[Errno 2] No such file or directory: 'sudh.txt'",
     "output_type": "error",
     "traceback": [
      "\u001b[1;31m---------------------------------------------------------------------------\u001b[0m",
      "\u001b[1;31mFileNotFoundError\u001b[0m                         Traceback (most recent call last)",
      "Input \u001b[1;32mIn [8]\u001b[0m, in \u001b[0;36m<cell line: 1>\u001b[1;34m()\u001b[0m\n\u001b[1;32m----> 1\u001b[0m f\u001b[38;5;241m=\u001b[39m\u001b[38;5;28;43mopen\u001b[39;49m\u001b[43m(\u001b[49m\u001b[38;5;124;43m\"\u001b[39;49m\u001b[38;5;124;43msudh.txt\u001b[39;49m\u001b[38;5;124;43m\"\u001b[39;49m\u001b[43m,\u001b[49m\u001b[43m \u001b[49m\u001b[38;5;124;43m\"\u001b[39;49m\u001b[38;5;124;43mr\u001b[39;49m\u001b[38;5;124;43m\"\u001b[39;49m\u001b[43m)\u001b[49m\n\u001b[0;32m      2\u001b[0m f\u001b[38;5;241m.\u001b[39mwrite(\u001b[38;5;124m\"\u001b[39m\u001b[38;5;124mthis is my suspicious code\u001b[39m\u001b[38;5;124m\"\u001b[39m)\n",
      "\u001b[1;31mFileNotFoundError\u001b[0m: [Errno 2] No such file or directory: 'sudh.txt'"
     ]
    }
   ],
   "source": [
    "f=open(\"sudh.txt\", \"r\")\n",
    "f.write(\"this is my suspicious code\")"
   ]
  },
  {
   "cell_type": "code",
   "execution_count": 9,
   "id": "31d584a9",
   "metadata": {},
   "outputs": [
    {
     "name": "stdout",
     "output_type": "stream",
     "text": [
      "[Errno 2] No such file or directory: 'sudh.txt'\n",
      "this is not my suspicious set of the code\n"
     ]
    }
   ],
   "source": [
    "try:\n",
    "    f=open(\"sudh.txt\", \"r\")\n",
    "    f.write(\"this is my suspicious code\") \n",
    "except Exception as e:\n",
    "    print(e)\n",
    "    print(\"this is not my suspicious set of the code\")"
   ]
  },
  {
   "cell_type": "code",
   "execution_count": 10,
   "id": "e232c56b",
   "metadata": {},
   "outputs": [
    {
     "name": "stdout",
     "output_type": "stream",
     "text": [
      "[Errno 2] No such file or directory: 'sudh.txt'\n",
      "this is not my suspicious set of the code\n",
      "this block will be executed anytime\n"
     ]
    }
   ],
   "source": [
    "try:\n",
    "    f=open(\"sudh.txt\", \"r\")\n",
    "    f.write(\"this is my suspicious code\") \n",
    "except Exception as e:\n",
    "    print(e)\n",
    "    print(\"this is not my suspicious set of the code\")\n",
    "    \n",
    "finally: #it will be executed universally/across all scenarios \n",
    "    #for e.g useful to close database connectivity so that it will not impact other users\n",
    "    print(\"this block will be executed anytime\")\n",
    "    "
   ]
  },
  {
   "cell_type": "code",
   "execution_count": 11,
   "id": "55d2c7e8",
   "metadata": {},
   "outputs": [
    {
     "name": "stdout",
     "output_type": "stream",
     "text": [
      "please enter an integer\n"
     ]
    },
    {
     "ename": "ValueError",
     "evalue": "invalid literal for int() with base 10: ''",
     "output_type": "error",
     "traceback": [
      "\u001b[1;31m---------------------------------------------------------------------------\u001b[0m",
      "\u001b[1;31mValueError\u001b[0m                                Traceback (most recent call last)",
      "Input \u001b[1;32mIn [11]\u001b[0m, in \u001b[0;36m<cell line: 1>\u001b[1;34m()\u001b[0m\n\u001b[1;32m----> 1\u001b[0m val\u001b[38;5;241m=\u001b[39m\u001b[38;5;28;43mint\u001b[39;49m\u001b[43m(\u001b[49m\u001b[38;5;28;43minput\u001b[39;49m\u001b[43m(\u001b[49m\u001b[38;5;124;43m\"\u001b[39;49m\u001b[38;5;124;43mplease enter an integer\u001b[39;49m\u001b[38;5;124;43m\"\u001b[39;49m\u001b[43m)\u001b[49m\u001b[43m)\u001b[49m\n",
      "\u001b[1;31mValueError\u001b[0m: invalid literal for int() with base 10: ''"
     ]
    }
   ],
   "source": [
    "val=int(input(\"please enter an integer\")) #error bcz typecasting to strings into integer is not possible"
   ]
  },
  {
   "cell_type": "code",
   "execution_count": 12,
   "id": "44dcd070",
   "metadata": {},
   "outputs": [],
   "source": [
    "def askint():\n",
    "    try:\n",
    "        val=int(input(\"please enter an integer\"))\n",
    "    except:\n",
    "        print(\"no you have not entered an integer\")\n",
    "        try:\n",
    "            val=int(input(\"please enter an integer\"))\n",
    "        except:\n",
    "            print(\"you have not entered an integer once again\")\n",
    "    finally:\n",
    "        print(\"finally will be executed anyhow\")\n",
    "        "
   ]
  },
  {
   "cell_type": "code",
   "execution_count": 13,
   "id": "2b417713",
   "metadata": {},
   "outputs": [
    {
     "name": "stdout",
     "output_type": "stream",
     "text": [
      "please enter an integerhhjh\n",
      "no you have not entered an integer\n",
      "please enter an integer\n",
      "you have not entered an integer once again\n",
      "finally will be executed anyhow\n"
     ]
    }
   ],
   "source": [
    "askint()"
   ]
  },
  {
   "cell_type": "code",
   "execution_count": 16,
   "id": "ccdb8cac",
   "metadata": {},
   "outputs": [],
   "source": [
    "def askint1():\n",
    "    while True: #universal condition\n",
    "        try:\n",
    "            val=int(input(\"please try to input an integer\")) #if this statement throws an exception, the control will flow to except statement , bypassing the break statement\n",
    "            break \n",
    "        except:\n",
    "            print(\"looks like you have not entered an integer\")\n",
    "            continue    #it gives control to the loop condition,which is universal condition\n",
    "                        #not necessary to use continue here, bcz WHILE loop will keep on executing since the condition given is universally true\n",
    "            \n",
    "        "
   ]
  },
  {
   "cell_type": "code",
   "execution_count": 17,
   "id": "6584d04e",
   "metadata": {},
   "outputs": [
    {
     "name": "stdout",
     "output_type": "stream",
     "text": [
      "please try to input an integeruhrfjhfj\n",
      "looks like you have not entered an integer\n",
      "please try to input an integer5\n"
     ]
    }
   ],
   "source": [
    "askint1()\n"
   ]
  },
  {
   "cell_type": "code",
   "execution_count": null,
   "id": "8bd1bab9",
   "metadata": {},
   "outputs": [],
   "source": []
  }
 ],
 "metadata": {
  "kernelspec": {
   "display_name": "Python 3 (ipykernel)",
   "language": "python",
   "name": "python3"
  },
  "language_info": {
   "codemirror_mode": {
    "name": "ipython",
    "version": 3
   },
   "file_extension": ".py",
   "mimetype": "text/x-python",
   "name": "python",
   "nbconvert_exporter": "python",
   "pygments_lexer": "ipython3",
   "version": "3.9.12"
  }
 },
 "nbformat": 4,
 "nbformat_minor": 5
}
