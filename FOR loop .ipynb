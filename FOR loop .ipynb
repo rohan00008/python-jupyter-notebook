{
 "cells": [
  {
   "cell_type": "code",
   "execution_count": 1,
   "id": "36f53fe1",
   "metadata": {},
   "outputs": [],
   "source": [
    "l = [1,2,7,8,53,53,\"rohan\",8584,2.22]"
   ]
  },
  {
   "cell_type": "code",
   "execution_count": 2,
   "id": "36b9e9b6",
   "metadata": {},
   "outputs": [],
   "source": [
    "#challenge= \n",
    "#extract each and every data present inside the list one by one automatically\n",
    "#do operations on them\n",
    "#print\n",
    "\n",
    "#USE LOOP OPERATION"
   ]
  },
  {
   "cell_type": "code",
   "execution_count": 3,
   "id": "902b3177",
   "metadata": {},
   "outputs": [
    {
     "data": {
      "text/plain": [
       "1"
      ]
     },
     "execution_count": 3,
     "metadata": {},
     "output_type": "execute_result"
    }
   ],
   "source": [
    "l[0] #EXTRACTING THROUGH INDEXING\n"
   ]
  },
  {
   "cell_type": "code",
   "execution_count": 4,
   "id": "9592775d",
   "metadata": {},
   "outputs": [
    {
     "data": {
      "text/plain": [
       "[7, 8, 53, 53, 'rohan']"
      ]
     },
     "execution_count": 4,
     "metadata": {},
     "output_type": "execute_result"
    }
   ],
   "source": [
    "l[2:7] #SLICING OPERATION\n"
   ]
  },
  {
   "cell_type": "code",
   "execution_count": 5,
   "id": "b9d8797c",
   "metadata": {},
   "outputs": [
    {
     "name": "stdout",
     "output_type": "stream",
     "text": [
      "1\n",
      "2\n",
      "7\n",
      "8\n",
      "53\n",
      "53\n",
      "rohan\n",
      "8584\n",
      "2.22\n"
     ]
    }
   ],
   "source": [
    "for i in l: #LOOP #loop will not terminate until and unless i will reach the last element of the list.\n",
    "    print(i) # i takes value and print, then takes another value and print, and so on until the last element of the list\n",
    "             #we have created a local variable i for the for loop\n",
    "            #extracting elements through FOR loop\n",
    "            #list holds each character in the form of indices, therefore i can be iterated through it."
   ]
  },
  {
   "cell_type": "code",
   "execution_count": 6,
   "id": "a4e354bc",
   "metadata": {},
   "outputs": [
    {
     "name": "stdout",
     "output_type": "stream",
     "text": [
      "1\n",
      "2\n",
      "7\n",
      "8\n"
     ]
    }
   ],
   "source": [
    "for i in l[0:4]:\n",
    "    print(i)"
   ]
  },
  {
   "cell_type": "code",
   "execution_count": 7,
   "id": "d872f821",
   "metadata": {},
   "outputs": [
    {
     "name": "stdout",
     "output_type": "stream",
     "text": [
      "2.22\n",
      "8584\n",
      "rohan\n",
      "53\n",
      "53\n",
      "8\n",
      "7\n",
      "2\n",
      "1\n"
     ]
    }
   ],
   "source": [
    "for i in l[::-1]:\n",
    "    print(i)"
   ]
  },
  {
   "cell_type": "code",
   "execution_count": 8,
   "id": "d0e3f548",
   "metadata": {},
   "outputs": [],
   "source": [
    "l1=[3.343,2323,4,43,32]"
   ]
  },
  {
   "cell_type": "code",
   "execution_count": 9,
   "id": "2670f128",
   "metadata": {},
   "outputs": [
    {
     "name": "stdout",
     "output_type": "stream",
     "text": [
      "4.343\n",
      "2324\n",
      "5\n",
      "44\n",
      "33\n"
     ]
    }
   ],
   "source": [
    "for i in l1:\n",
    "    print(i+1)"
   ]
  },
  {
   "cell_type": "code",
   "execution_count": 11,
   "id": "a6c8e22b",
   "metadata": {},
   "outputs": [
    {
     "name": "stdout",
     "output_type": "stream",
     "text": [
      "2\n",
      "3\n",
      "8\n",
      "9\n",
      "54\n",
      "54\n"
     ]
    },
    {
     "ename": "TypeError",
     "evalue": "can only concatenate str (not \"int\") to str",
     "output_type": "error",
     "traceback": [
      "\u001b[1;31m---------------------------------------------------------------------------\u001b[0m",
      "\u001b[1;31mTypeError\u001b[0m                                 Traceback (most recent call last)",
      "Input \u001b[1;32mIn [11]\u001b[0m, in \u001b[0;36m<cell line: 1>\u001b[1;34m()\u001b[0m\n\u001b[0;32m      1\u001b[0m \u001b[38;5;28;01mfor\u001b[39;00m i \u001b[38;5;129;01min\u001b[39;00m l:\n\u001b[1;32m----> 2\u001b[0m     \u001b[38;5;28mprint\u001b[39m(\u001b[43mi\u001b[49m\u001b[38;5;241;43m+\u001b[39;49m\u001b[38;5;241;43m1\u001b[39;49m)\n",
      "\u001b[1;31mTypeError\u001b[0m: can only concatenate str (not \"int\") to str"
     ]
    }
   ],
   "source": [
    "for i in l:\n",
    "    print(i+1) #string cannot be concatenated with integer"
   ]
  },
  {
   "cell_type": "code",
   "execution_count": 12,
   "id": "191ca0ac",
   "metadata": {},
   "outputs": [
    {
     "data": {
      "text/plain": [
       "[1, 2, 7, 8, 53, 53, 'rohan', 8584, 2.22]"
      ]
     },
     "execution_count": 12,
     "metadata": {},
     "output_type": "execute_result"
    }
   ],
   "source": [
    "l\n"
   ]
  },
  {
   "cell_type": "code",
   "execution_count": 13,
   "id": "6b2c8056",
   "metadata": {},
   "outputs": [
    {
     "name": "stdout",
     "output_type": "stream",
     "text": [
      "2\n",
      "3\n",
      "8\n",
      "9\n",
      "54\n",
      "54\n",
      "rohan1\n",
      "8585\n",
      "3.22\n"
     ]
    }
   ],
   "source": [
    "for i in l:\n",
    "    if type(i)==int:\n",
    "        print(i+1)\n",
    "    elif type(i)==float:\n",
    "        print(i+1)\n",
    "    else:\n",
    "        print(i + str(1))"
   ]
  },
  {
   "cell_type": "code",
   "execution_count": 14,
   "id": "0721dc3a",
   "metadata": {},
   "outputs": [],
   "source": [
    "l1=[2,4,53,5,754,5,45,'rohan',0.222,'sudhanshu','rahul',298,\"mittal\",9.325235325]"
   ]
  },
  {
   "cell_type": "code",
   "execution_count": 15,
   "id": "f911ba24",
   "metadata": {},
   "outputs": [],
   "source": [
    "#challenge= create a list of integers only, strings only, float only"
   ]
  },
  {
   "cell_type": "code",
   "execution_count": 16,
   "id": "2eed7bbf",
   "metadata": {},
   "outputs": [
    {
     "name": "stdout",
     "output_type": "stream",
     "text": [
      "2\n",
      "4\n",
      "53\n",
      "5\n",
      "754\n",
      "5\n",
      "45\n",
      "298\n"
     ]
    }
   ],
   "source": [
    "for i in l1:\n",
    "    if type(i)==int:\n",
    "        print(i)\n",
    "    else:\n",
    "        pass\n",
    "    "
   ]
  },
  {
   "cell_type": "code",
   "execution_count": 17,
   "id": "39aa3e83",
   "metadata": {},
   "outputs": [
    {
     "data": {
      "text/plain": [
       "[2,\n",
       " 4,\n",
       " 53,\n",
       " 5,\n",
       " 754,\n",
       " 5,\n",
       " 45,\n",
       " 'rohan',\n",
       " 0.222,\n",
       " 'sudhanshu',\n",
       " 'rahul',\n",
       " 298,\n",
       " 'mittal',\n",
       " 9.325235325]"
      ]
     },
     "execution_count": 17,
     "metadata": {},
     "output_type": "execute_result"
    }
   ],
   "source": [
    "l1\n"
   ]
  },
  {
   "cell_type": "code",
   "execution_count": 18,
   "id": "c2b76823",
   "metadata": {},
   "outputs": [],
   "source": [
    "l2 = [] \n",
    "l3 = []\n",
    "l4 = []\n",
    "for i in l1:\n",
    "    if type(i)==int:\n",
    "        l2.append(i) #appending the integer elements of the list l1 to the list l2\n",
    "    elif type(i)==str:\n",
    "        l3.append(i) #appending the string elements to the list l3\n",
    "    elif type(i)==float:\n",
    "        l4.append(i) #appending the string elements to the list l4\n",
    "    "
   ]
  },
  {
   "cell_type": "code",
   "execution_count": 19,
   "id": "7c75bcb5",
   "metadata": {},
   "outputs": [
    {
     "data": {
      "text/plain": [
       "[2, 4, 53, 5, 754, 5, 45, 298]"
      ]
     },
     "execution_count": 19,
     "metadata": {},
     "output_type": "execute_result"
    }
   ],
   "source": [
    "l2"
   ]
  },
  {
   "cell_type": "code",
   "execution_count": 20,
   "id": "3b2283ea",
   "metadata": {},
   "outputs": [
    {
     "data": {
      "text/plain": [
       "['rohan', 'sudhanshu', 'rahul', 'mittal']"
      ]
     },
     "execution_count": 20,
     "metadata": {},
     "output_type": "execute_result"
    }
   ],
   "source": [
    "l3"
   ]
  },
  {
   "cell_type": "markdown",
   "id": "b539c3b4",
   "metadata": {},
   "source": [
    "l4"
   ]
  },
  {
   "cell_type": "code",
   "execution_count": 21,
   "id": "7d213d1b",
   "metadata": {},
   "outputs": [
    {
     "data": {
      "text/plain": [
       "[0.222, 9.325235325]"
      ]
     },
     "execution_count": 21,
     "metadata": {},
     "output_type": "execute_result"
    }
   ],
   "source": [
    "l4"
   ]
  },
  {
   "cell_type": "code",
   "execution_count": 22,
   "id": "63f53213",
   "metadata": {},
   "outputs": [
    {
     "name": "stdout",
     "output_type": "stream",
     "text": [
      "r\n",
      "o\n",
      "h\n",
      "a\n",
      "n\n"
     ]
    }
   ],
   "source": [
    "s = \"rohan\" # strings holds each character in the form of indices, therefore i can be iterated through it.\n",
    "for i in s: # i is a local variable\n",
    "    print(i)"
   ]
  },
  {
   "cell_type": "code",
   "execution_count": 23,
   "id": "5686c734",
   "metadata": {},
   "outputs": [
    {
     "data": {
      "text/plain": [
       "[1, 2, 7, 8, 53, 53, 'rohan', 8584, 2.22]"
      ]
     },
     "execution_count": 23,
     "metadata": {},
     "output_type": "execute_result"
    }
   ],
   "source": [
    "l"
   ]
  },
  {
   "cell_type": "code",
   "execution_count": 24,
   "id": "95365075",
   "metadata": {},
   "outputs": [
    {
     "name": "stdout",
     "output_type": "stream",
     "text": [
      "1\n",
      "2\n",
      "7\n",
      "8\n",
      "53\n",
      "53\n",
      "rohan\n",
      "8584\n",
      "2.22\n",
      "if for loop is going to complete itself,it will execute else\n"
     ]
    }
   ],
   "source": [
    "for i in l:\n",
    "    print(i)\n",
    "    \n",
    "else:  # this statement will be executed only after the exhaution of the above FOR loop\n",
    "    print(\"if for loop is going to complete itself,it will execute else\")"
   ]
  },
  {
   "cell_type": "code",
   "execution_count": 25,
   "id": "7e3178eb",
   "metadata": {},
   "outputs": [
    {
     "data": {
      "text/plain": [
       "[1, 2, 7, 8, 53, 53, 'rohan', 8584, 2.22]"
      ]
     },
     "execution_count": 25,
     "metadata": {},
     "output_type": "execute_result"
    }
   ],
   "source": [
    "l"
   ]
  },
  {
   "cell_type": "code",
   "execution_count": 26,
   "id": "957a9293",
   "metadata": {},
   "outputs": [
    {
     "name": "stdout",
     "output_type": "stream",
     "text": [
      "this will execute only if FOR loop is going to complete itself without break in between \n",
      "this will execute only if FOR loop is going to complete itself without break in between \n",
      "this will execute only if FOR loop is going to complete itself without break in between \n"
     ]
    }
   ],
   "source": [
    "for i in l:\n",
    "    if i==8:\n",
    "        break #it breaks the FOR loop\n",
    "        print(i) #INDENTATION IS NOT PROPERLY DONE #INDENTED INSIDE IF STATEMENT \n",
    "    else :   #this will execute only when IF statement is wrong\n",
    "        print(\"this will execute only if FOR loop is going to complete itself without break in between \")"
   ]
  },
  {
   "cell_type": "code",
   "execution_count": 27,
   "id": "8e7e72b1",
   "metadata": {},
   "outputs": [
    {
     "name": "stdout",
     "output_type": "stream",
     "text": [
      "this will execute only if FOR loop is going to complete itself without break in between \n",
      "this will execute only if FOR loop is going to complete itself without break in between \n"
     ]
    }
   ],
   "source": [
    "for i in l:\n",
    "    if i==7:\n",
    "        break #it breaks the FOR loop\n",
    "        print(i) #INDENTED INSIDE 'IF' STATEMENT\n",
    "    else :   #this will execute only when ''if'' STATEMENT IS FALSE #INDENTED INSIDE ''FOR'' LOOP\n",
    "        print(\"this will execute only if FOR loop is going to complete itself without break in between \")"
   ]
  },
  {
   "cell_type": "code",
   "execution_count": 28,
   "id": "ba787550",
   "metadata": {},
   "outputs": [
    {
     "name": "stdout",
     "output_type": "stream",
     "text": [
      "1\n",
      "2\n",
      "7\n"
     ]
    }
   ],
   "source": [
    "for i in l:\n",
    "    if i==8:\n",
    "        break #it breaks the FOR loop  in between ,thus FOR loop breaks without its completion. \n",
    "    print(i) #INDENTED INSIDE 'FOR' LOOP\n",
    "else :   #this will execute only if FOR loop is going to complete itself without break in between  \n",
    "         #this is part of FOR loop,and will be executed after the exhaustion of the iteration of i in l\n",
    "    print(\"this will execute only if FOR loop is going to complete itself without break in between \")"
   ]
  },
  {
   "cell_type": "code",
   "execution_count": 29,
   "id": "b31bbc3a",
   "metadata": {},
   "outputs": [],
   "source": [
    "#LESSON=observe the above three cases and see the importance of indentation"
   ]
  },
  {
   "cell_type": "code",
   "execution_count": 30,
   "id": "8e5ee6b2",
   "metadata": {},
   "outputs": [
    {
     "name": "stdout",
     "output_type": "stream",
     "text": [
      "r\n",
      "o\n",
      "h\n",
      "a\n",
      "n\n",
      "p\n",
      "r\n",
      "a\n",
      "d\n",
      "h\n",
      "a\n",
      "n\n"
     ]
    }
   ],
   "source": [
    "s = \"rohanpradhanscaler\"\n",
    "for i in s:\n",
    "    if i== \"s\":\n",
    "        break #it breaks the FOR loop in between,before it completes its iterations\n",
    "    print(i)\n",
    "else: # for 'i' is not in 's' i.e after the exhaustion of iteration of i in the string, then ELSE\n",
    "      #when i has no iteration left, then else statement is executed\n",
    "        #else is part of the FOR loop, and is the terminal stage of FOR loop\n",
    "    print(\"print string\")"
   ]
  },
  {
   "cell_type": "code",
   "execution_count": 31,
   "id": "74096699",
   "metadata": {},
   "outputs": [
    {
     "name": "stdout",
     "output_type": "stream",
     "text": [
      "r\n",
      "o\n",
      "h\n",
      "a\n",
      "n\n",
      "p\n",
      "r\n",
      "a\n",
      "d\n",
      "h\n",
      "a\n",
      "n\n",
      "s\n",
      "c\n",
      "a\n",
      "l\n",
      "e\n",
      "r\n",
      "print string rohanpradhanscaler\n"
     ]
    }
   ],
   "source": [
    "s = \"rohanpradhanscaler\"\n",
    "for i in s:\n",
    "    if i== \"z\":\n",
    "        break #it breaks the FOR loop in between,before it completes its iterations\n",
    "    print(i)\n",
    "else: # for 'i' is not in 's' i.e after the exhaustion of iteration of i in the string, then ELSE\n",
    "      #when i has no iteration left, then else statement is executed\n",
    "        #else is part of the FOR loop, and is the terminal stage of FOR loop\n",
    "    print(\"print string\",s)"
   ]
  },
  {
   "cell_type": "code",
   "execution_count": 32,
   "id": "774ed4c8",
   "metadata": {},
   "outputs": [],
   "source": [
    "t=(4,5,43,66,4564,35,73,4) "
   ]
  },
  {
   "cell_type": "code",
   "execution_count": 33,
   "id": "49c9b132",
   "metadata": {},
   "outputs": [],
   "source": [
    "#RECALL:\n",
    "#tuples are immutable i.e re-assignment operation cannot be done on its elements\n",
    "#lists are mutable i.e re-assignment operation can be done on its elements\n",
    "#strings are immutable i.e re-assignment operation cannot be done on its elements"
   ]
  },
  {
   "cell_type": "code",
   "execution_count": 34,
   "id": "2686507d",
   "metadata": {},
   "outputs": [
    {
     "data": {
      "text/plain": [
       "(4, 5, 43, 66, 4564, 35, 73, 4)"
      ]
     },
     "execution_count": 34,
     "metadata": {},
     "output_type": "execute_result"
    }
   ],
   "source": [
    "t"
   ]
  },
  {
   "cell_type": "code",
   "execution_count": 35,
   "id": "fc115921",
   "metadata": {},
   "outputs": [
    {
     "name": "stdout",
     "output_type": "stream",
     "text": [
      "4\n",
      "5\n",
      "43\n",
      "66\n",
      "4564\n",
      "35\n",
      "73\n",
      "4\n"
     ]
    }
   ],
   "source": [
    "for i in t:\n",
    "    print(i) #extracting dataset from tuple one by one"
   ]
  },
  {
   "cell_type": "code",
   "execution_count": 36,
   "id": "7d3c8951",
   "metadata": {},
   "outputs": [],
   "source": [
    "s={3,542534,4,4,4,4,345,\"roh\"}  #set\n"
   ]
  },
  {
   "cell_type": "code",
   "execution_count": 37,
   "id": "4e2d5484",
   "metadata": {},
   "outputs": [
    {
     "data": {
      "text/plain": [
       "{3, 345, 4, 542534, 'roh'}"
      ]
     },
     "execution_count": 37,
     "metadata": {},
     "output_type": "execute_result"
    }
   ],
   "source": [
    "s"
   ]
  },
  {
   "cell_type": "code",
   "execution_count": 38,
   "id": "4274a129",
   "metadata": {},
   "outputs": [
    {
     "name": "stdout",
     "output_type": "stream",
     "text": [
      "3\n",
      "4\n",
      "roh\n",
      "542534\n",
      "345\n"
     ]
    }
   ],
   "source": [
    "for i in s:\n",
    "    print(i) #extracting dataset from set one by one"
   ]
  },
  {
   "cell_type": "code",
   "execution_count": 39,
   "id": "9180044c",
   "metadata": {},
   "outputs": [],
   "source": [
    "d={\"key1\":\"amazon\",\"country\":\"united states\",\"toll free no.\":12345}  #dict"
   ]
  },
  {
   "cell_type": "code",
   "execution_count": 40,
   "id": "6ff6b677",
   "metadata": {},
   "outputs": [
    {
     "name": "stdout",
     "output_type": "stream",
     "text": [
      "key1\n",
      "country\n",
      "toll free no.\n"
     ]
    }
   ],
   "source": [
    "for i in d: #d takes the key,by default \n",
    "    print(i)"
   ]
  },
  {
   "cell_type": "code",
   "execution_count": 41,
   "id": "ed2582ea",
   "metadata": {},
   "outputs": [
    {
     "name": "stdout",
     "output_type": "stream",
     "text": [
      "amazon\n",
      "united states\n",
      "12345\n"
     ]
    }
   ],
   "source": [
    "for i in d.values(): #iterated value\n",
    "    print(i)  #printed value"
   ]
  },
  {
   "cell_type": "code",
   "execution_count": 42,
   "id": "5fd8eb87",
   "metadata": {},
   "outputs": [
    {
     "data": {
      "text/plain": [
       "'amazon'"
      ]
     },
     "execution_count": 42,
     "metadata": {},
     "output_type": "execute_result"
    }
   ],
   "source": [
    "d[\"key1\"]"
   ]
  },
  {
   "cell_type": "code",
   "execution_count": 43,
   "id": "c31223ad",
   "metadata": {},
   "outputs": [
    {
     "name": "stdout",
     "output_type": "stream",
     "text": [
      "amazon\n",
      "united states\n",
      "12345\n"
     ]
    }
   ],
   "source": [
    "for i in d: #iterated key\n",
    "    print(d[i]) #printed value of the respective iterated key"
   ]
  },
  {
   "cell_type": "code",
   "execution_count": 44,
   "id": "ece9e112",
   "metadata": {},
   "outputs": [],
   "source": [
    "#NOTE: FOR loop can be iterated through all collections i.e list, string,set, tuples, dict,etc"
   ]
  },
  {
   "cell_type": "code",
   "execution_count": 45,
   "id": "b9642c8d",
   "metadata": {},
   "outputs": [
    {
     "name": "stdout",
     "output_type": "stream",
     "text": [
      "amazon key1\n",
      "united states country\n",
      "12345 toll free no.\n"
     ]
    }
   ],
   "source": [
    "for i in d: #iterated key\n",
    "    print(d[i],i) #printed value and its respective key"
   ]
  },
  {
   "cell_type": "code",
   "execution_count": 46,
   "id": "b5c1f8fc",
   "metadata": {},
   "outputs": [],
   "source": [
    "#NESTED 'FOR' LOOP"
   ]
  },
  {
   "cell_type": "code",
   "execution_count": 47,
   "id": "16929af9",
   "metadata": {},
   "outputs": [],
   "source": [
    "#RANGE FUNCTION"
   ]
  },
  {
   "cell_type": "code",
   "execution_count": 48,
   "id": "b177817a",
   "metadata": {},
   "outputs": [
    {
     "data": {
      "text/plain": [
       "range(0, 9)"
      ]
     },
     "execution_count": 48,
     "metadata": {},
     "output_type": "execute_result"
    }
   ],
   "source": [
    " range(9) #function  #generator of dataset #generate dataset excluding upper bound value"
   ]
  },
  {
   "cell_type": "code",
   "execution_count": 49,
   "id": "461525b6",
   "metadata": {},
   "outputs": [
    {
     "data": {
      "text/plain": [
       "[0, 1, 2, 3, 4, 5, 6, 7, 8]"
      ]
     },
     "execution_count": 49,
     "metadata": {},
     "output_type": "execute_result"
    }
   ],
   "source": [
    "list(range(9))"
   ]
  },
  {
   "cell_type": "code",
   "execution_count": 50,
   "id": "008f1a5f",
   "metadata": {},
   "outputs": [
    {
     "data": {
      "text/plain": [
       "range(0, 9)"
      ]
     },
     "execution_count": 50,
     "metadata": {},
     "output_type": "execute_result"
    }
   ],
   "source": [
    "range(9) #function #by default 0 as lower bound and 1 as the jump factor"
   ]
  },
  {
   "cell_type": "code",
   "execution_count": 51,
   "id": "2d9d6c70",
   "metadata": {},
   "outputs": [
    {
     "name": "stdout",
     "output_type": "stream",
     "text": [
      "0\n",
      "1\n",
      "2\n",
      "3\n",
      "4\n",
      "5\n",
      "6\n",
      "7\n",
      "8\n"
     ]
    }
   ],
   "source": [
    "for i in range(9):\n",
    "    print(i)"
   ]
  },
  {
   "cell_type": "code",
   "execution_count": 52,
   "id": "2c925a49",
   "metadata": {},
   "outputs": [
    {
     "data": {
      "text/plain": [
       "range(0, 9, 2)"
      ]
     },
     "execution_count": 52,
     "metadata": {},
     "output_type": "execute_result"
    }
   ],
   "source": [
    "range(0,9,2) #function #lower bound, upper bound, jump factor"
   ]
  },
  {
   "cell_type": "code",
   "execution_count": 53,
   "id": "4a24dc19",
   "metadata": {},
   "outputs": [
    {
     "data": {
      "text/plain": [
       "[0, 2, 4, 6, 8]"
      ]
     },
     "execution_count": 53,
     "metadata": {},
     "output_type": "execute_result"
    }
   ],
   "source": [
    "list(range(0,9,2))"
   ]
  },
  {
   "cell_type": "code",
   "execution_count": 54,
   "id": "6c4e5b70",
   "metadata": {},
   "outputs": [
    {
     "data": {
      "text/plain": [
       "[]"
      ]
     },
     "execution_count": 54,
     "metadata": {},
     "output_type": "execute_result"
    }
   ],
   "source": [
    "list(range(0,9,-1)) #conflict of direction, therefore blank"
   ]
  },
  {
   "cell_type": "code",
   "execution_count": 55,
   "id": "77d960a5",
   "metadata": {},
   "outputs": [
    {
     "data": {
      "text/plain": [
       "[0, 2, 4, 6, 8]"
      ]
     },
     "execution_count": 55,
     "metadata": {},
     "output_type": "execute_result"
    }
   ],
   "source": [
    "list(range(0,9,2)) #even numbers "
   ]
  },
  {
   "cell_type": "code",
   "execution_count": 56,
   "id": "682d6f48",
   "metadata": {},
   "outputs": [
    {
     "name": "stdout",
     "output_type": "stream",
     "text": [
      "0\n",
      "2\n",
      "4\n",
      "6\n",
      "8\n"
     ]
    }
   ],
   "source": [
    "for i in range(0,9,2): #even numbers\n",
    "    print(i)"
   ]
  },
  {
   "cell_type": "code",
   "execution_count": 57,
   "id": "3d261f6e",
   "metadata": {},
   "outputs": [
    {
     "name": "stdout",
     "output_type": "stream",
     "text": [
      "1\n",
      "3\n",
      "5\n",
      "7\n"
     ]
    }
   ],
   "source": [
    "for i in range(1,9,2): #odd numbers\n",
    "    print(i)"
   ]
  },
  {
   "cell_type": "code",
   "execution_count": 58,
   "id": "bf800d13",
   "metadata": {},
   "outputs": [],
   "source": [
    "#NESTED FOR LOOP"
   ]
  },
  {
   "cell_type": "code",
   "execution_count": 59,
   "id": "e65f093d",
   "metadata": {},
   "outputs": [
    {
     "name": "stdout",
     "output_type": "stream",
     "text": [
      "rohan \n",
      "\n",
      "rohan rohan \n",
      "\n",
      "rohan rohan rohan \n",
      "\n",
      "rohan rohan rohan rohan \n",
      "\n"
     ]
    }
   ],
   "source": [
    "n=4 #number of rows\n",
    "for i in range(n): #this loop writes the verticals \n",
    "    for j in range(0,i+1): #this loop writes the horizontals in the respective vertical element\n",
    "        print(\"rohan\",end=\" \")\n",
    "    print(\"\\n\")  #\\n = changing the line"
   ]
  },
  {
   "cell_type": "code",
   "execution_count": 60,
   "id": "c07efb19",
   "metadata": {},
   "outputs": [],
   "source": [
    "#LESSON= since the output asked is two-dimensional pattern, therefore nested 'for' loop required\n",
    "#one FOR loop for columns and other nested FOR loop for rows\n",
    "#THUS WE CAN INFER THAT TWO DIMENSIONAL pattern OUTPUTS REQUIRES NESTED 'FOR' LOOP"
   ]
  },
  {
   "cell_type": "code",
   "execution_count": 61,
   "id": "037d7660",
   "metadata": {},
   "outputs": [
    {
     "name": "stdout",
     "output_type": "stream",
     "text": [
      "          sudh \n",
      "     sudh sudh sudh \n",
      "sudh sudh sudh sudh sudh \n"
     ]
    }
   ],
   "source": [
    "n=3 #number of rows\n",
    "for i in range(n):\n",
    "    for j in range(i,n-1):\n",
    "        print(\" \"* len(\"sudh\"),end=\" \")\n",
    "    for j in range(i+1):\n",
    "        print(\"sudh\",end=\" \")\n",
    "    for j in range(i):\n",
    "        print(\"sudh\",end=\" \")\n",
    "    print()    "
   ]
  },
  {
   "cell_type": "code",
   "execution_count": 62,
   "id": "a40bf764",
   "metadata": {},
   "outputs": [
    {
     "name": "stdout",
     "output_type": "stream",
     "text": [
      "          sudh \n",
      "     sudh sudh sudh \n",
      "sudh sudh sudh sudh sudh \n"
     ]
    }
   ],
   "source": [
    "n=3 #number of rows\n",
    "for i in range(n):\n",
    "    for j in range(i,n-1):\n",
    "        print(\" \"* len(\"sudh\"),end=\" \")\n",
    "    for j in range(i+1):\n",
    "        print(\"sudh\",end=\" \")\n",
    "    for j in range(i):\n",
    "        print(\"sudh\",end=\" \")      \n",
    "        \n",
    "    print() \n"
   ]
  },
  {
   "cell_type": "code",
   "execution_count": 63,
   "id": "22ff872a",
   "metadata": {},
   "outputs": [],
   "source": [
    "t=(2,324,42,12,44,22,6,976,54,35,667,344)"
   ]
  },
  {
   "cell_type": "code",
   "execution_count": 64,
   "id": "b83417a0",
   "metadata": {},
   "outputs": [],
   "source": [
    "#challenge= print element of the tuple and its index"
   ]
  },
  {
   "cell_type": "code",
   "execution_count": 65,
   "id": "404b95ae",
   "metadata": {},
   "outputs": [
    {
     "name": "stdout",
     "output_type": "stream",
     "text": [
      "0 2\n",
      "1 324\n",
      "2 42\n",
      "3 12\n",
      "4 44\n",
      "5 22\n",
      "6 6\n",
      "7 976\n",
      "8 54\n",
      "9 35\n",
      "10 667\n",
      "11 344\n"
     ]
    }
   ],
   "source": [
    "for i in range(len(t)):\n",
    "    print(i,t[i])\n",
    "     "
   ]
  },
  {
   "cell_type": "code",
   "execution_count": 66,
   "id": "6fa689c4",
   "metadata": {},
   "outputs": [],
   "source": [
    "s = \"ineuron\""
   ]
  },
  {
   "cell_type": "code",
   "execution_count": 67,
   "id": "eaa8cc2a",
   "metadata": {},
   "outputs": [
    {
     "name": "stdout",
     "output_type": "stream",
     "text": [
      "0 i\n",
      "1 n\n",
      "2 e\n",
      "3 u\n",
      "4 r\n",
      "5 o\n",
      "6 n\n"
     ]
    }
   ],
   "source": [
    "for i in  range(len(s)): #sabse pehle length, fir range, fir 'for' iteration\n",
    "    print(i,s[i])"
   ]
  },
  {
   "cell_type": "code",
   "execution_count": 68,
   "id": "4d19a22d",
   "metadata": {},
   "outputs": [
    {
     "name": "stdout",
     "output_type": "stream",
     "text": [
      "6\n",
      "5\n",
      "4\n",
      "3\n",
      "2\n",
      "1\n",
      "0\n"
     ]
    }
   ],
   "source": [
    "for i in range(len(s)-1,-1,-1): # index zero is missed out if the upper bound is 0 \n",
    "    print(i)"
   ]
  },
  {
   "cell_type": "code",
   "execution_count": 69,
   "id": "f590ab2c",
   "metadata": {},
   "outputs": [
    {
     "name": "stdout",
     "output_type": "stream",
     "text": [
      "6 n\n",
      "5 o\n",
      "4 r\n",
      "3 u\n",
      "2 e\n",
      "1 n\n",
      "0 i\n"
     ]
    }
   ],
   "source": [
    "for i in range(len(s)-1,-1,-1):\n",
    "    print(i,s[i])"
   ]
  },
  {
   "cell_type": "code",
   "execution_count": null,
   "id": "9b81961c",
   "metadata": {},
   "outputs": [],
   "source": []
  },
  {
   "cell_type": "code",
   "execution_count": 70,
   "id": "9a94a382",
   "metadata": {},
   "outputs": [
    {
     "data": {
      "text/plain": [
       "{'key1': 'amazon', 'country': 'united states', 'toll free no.': 12345}"
      ]
     },
     "execution_count": 70,
     "metadata": {},
     "output_type": "execute_result"
    }
   ],
   "source": [
    "d\n"
   ]
  },
  {
   "cell_type": "code",
   "execution_count": 71,
   "id": "f07772d5",
   "metadata": {},
   "outputs": [],
   "source": [
    "#challenge: print all the elements of dictionary in the tuple"
   ]
  },
  {
   "cell_type": "code",
   "execution_count": 72,
   "id": "1a063a27",
   "metadata": {},
   "outputs": [
    {
     "data": {
      "text/plain": [
       "dict_items([('key1', 'amazon'), ('country', 'united states'), ('toll free no.', 12345)])"
      ]
     },
     "execution_count": 72,
     "metadata": {},
     "output_type": "execute_result"
    }
   ],
   "source": [
    "d.items()"
   ]
  },
  {
   "cell_type": "code",
   "execution_count": 73,
   "id": "ff7e045b",
   "metadata": {},
   "outputs": [
    {
     "name": "stdout",
     "output_type": "stream",
     "text": [
      "('key1', 'amazon')\n",
      "('country', 'united states')\n",
      "('toll free no.', 12345)\n"
     ]
    }
   ],
   "source": [
    "for i in d.items():\n",
    "    print(i)"
   ]
  },
  {
   "cell_type": "code",
   "execution_count": 74,
   "id": "8b62e4b1",
   "metadata": {},
   "outputs": [
    {
     "name": "stdout",
     "output_type": "stream",
     "text": [
      "('key1', 'amazon') <class 'tuple'> <class 'str'>\n",
      "('country', 'united states') <class 'tuple'> <class 'str'>\n",
      "('toll free no.', 12345) <class 'tuple'> <class 'int'>\n"
     ]
    }
   ],
   "source": [
    "for i in d.items():\n",
    "    print(i,type(i),type(i[1]))"
   ]
  },
  {
   "cell_type": "code",
   "execution_count": 75,
   "id": "23905698",
   "metadata": {},
   "outputs": [],
   "source": [
    "l=[\"sudh\",\"kumar\",9968684858,\"sudhanshu@ineuron.ai\",463747,2391239]"
   ]
  },
  {
   "cell_type": "code",
   "execution_count": 76,
   "id": "fffa7401",
   "metadata": {},
   "outputs": [],
   "source": [
    "#challenge=extract only numbers and create a separate list"
   ]
  },
  {
   "cell_type": "code",
   "execution_count": 77,
   "id": "42c5914a",
   "metadata": {},
   "outputs": [
    {
     "name": "stdout",
     "output_type": "stream",
     "text": [
      "[9968684858, 463747, 2391239]\n"
     ]
    }
   ],
   "source": [
    "l1=[] #blank list\n",
    "for i in l:\n",
    "    if type(i) == int:\n",
    "        l1.append(i)\n",
    "        \n",
    "print(l1)        "
   ]
  },
  {
   "cell_type": "code",
   "execution_count": 78,
   "id": "c437ed93",
   "metadata": {},
   "outputs": [
    {
     "data": {
      "text/plain": [
       "['sudh', 'kumar', 9968684858, 'sudhanshu@ineuron.ai', 463747, 2391239]"
      ]
     },
     "execution_count": 78,
     "metadata": {},
     "output_type": "execute_result"
    }
   ],
   "source": [
    "l"
   ]
  },
  {
   "cell_type": "code",
   "execution_count": 79,
   "id": "459dacf7",
   "metadata": {},
   "outputs": [],
   "source": [
    "d={1:2324,\"name\":\"sudh\",\"email_id\":\"sudhanshu@ineuron.ai\",234:\"ehdbhedb\",\"23\":\"wedewdwe\",3776:\"342342\"}"
   ]
  },
  {
   "cell_type": "code",
   "execution_count": 80,
   "id": "8b2c8170",
   "metadata": {},
   "outputs": [],
   "source": [
    "#challenge=extract all key-value pairs where key is int"
   ]
  },
  {
   "cell_type": "code",
   "execution_count": 81,
   "id": "821ff99a",
   "metadata": {},
   "outputs": [
    {
     "name": "stdout",
     "output_type": "stream",
     "text": [
      "1 dict_values([2324, 'sudh', 'sudhanshu@ineuron.ai', 'ehdbhedb', 'wedewdwe', '342342'])\n",
      "234 dict_values([2324, 'sudh', 'sudhanshu@ineuron.ai', 'ehdbhedb', 'wedewdwe', '342342'])\n",
      "3776 dict_values([2324, 'sudh', 'sudhanshu@ineuron.ai', 'ehdbhedb', 'wedewdwe', '342342'])\n"
     ]
    }
   ],
   "source": [
    "for i in d:\n",
    "    if type(i)==int:\n",
    "        print(i,d.values())\n",
    "           "
   ]
  },
  {
   "cell_type": "code",
   "execution_count": 82,
   "id": "5c076be2",
   "metadata": {},
   "outputs": [
    {
     "name": "stdout",
     "output_type": "stream",
     "text": [
      "1 : 2324\n",
      "234 : ehdbhedb\n",
      "3776 : 342342\n"
     ]
    }
   ],
   "source": [
    "for i in d:\n",
    "    if type(i)==int:\n",
    "        print(i,\":\",d[i])"
   ]
  },
  {
   "cell_type": "code",
   "execution_count": 83,
   "id": "c6a03873",
   "metadata": {},
   "outputs": [],
   "source": [
    "s1=\"aaaabbccd\"\n"
   ]
  },
  {
   "cell_type": "code",
   "execution_count": 84,
   "id": "9dd5c4b2",
   "metadata": {},
   "outputs": [],
   "source": [
    "#challenge:\n",
    "#number of occurences of unique characters "
   ]
  },
  {
   "cell_type": "code",
   "execution_count": 85,
   "id": "5106c0ee",
   "metadata": {},
   "outputs": [
    {
     "data": {
      "text/plain": [
       "{'a', 'b', 'c', 'd'}"
      ]
     },
     "execution_count": 85,
     "metadata": {},
     "output_type": "execute_result"
    }
   ],
   "source": [
    "set(s1) #finding the unique element in the string s1 "
   ]
  },
  {
   "cell_type": "code",
   "execution_count": 86,
   "id": "305f0716",
   "metadata": {},
   "outputs": [
    {
     "name": "stdout",
     "output_type": "stream",
     "text": [
      "a : 4\n",
      "d : 1\n",
      "b : 2\n",
      "c : 2\n"
     ]
    }
   ],
   "source": [
    "for i in set(s1):\n",
    "    print(i,\":\",s1.count(i))"
   ]
  },
  {
   "cell_type": "code",
   "execution_count": 87,
   "id": "bd23adcd",
   "metadata": {},
   "outputs": [],
   "source": [
    "i10 = 273628362198487234783847\n"
   ]
  },
  {
   "cell_type": "code",
   "execution_count": 88,
   "id": "830c73f7",
   "metadata": {},
   "outputs": [],
   "source": [
    "#challenge=extract individual integers\n",
    "#note= integer objects are not iterable"
   ]
  },
  {
   "cell_type": "code",
   "execution_count": 89,
   "id": "55a02428",
   "metadata": {},
   "outputs": [
    {
     "data": {
      "text/plain": [
       "273628362198487234783847"
      ]
     },
     "execution_count": 89,
     "metadata": {},
     "output_type": "execute_result"
    }
   ],
   "source": [
    "i10\n",
    "\n",
    "    "
   ]
  },
  {
   "cell_type": "code",
   "execution_count": 90,
   "id": "fd81608a",
   "metadata": {},
   "outputs": [
    {
     "name": "stdout",
     "output_type": "stream",
     "text": [
      "2 <class 'str'>\n",
      "7 <class 'str'>\n",
      "3 <class 'str'>\n",
      "6 <class 'str'>\n",
      "2 <class 'str'>\n",
      "8 <class 'str'>\n",
      "3 <class 'str'>\n",
      "6 <class 'str'>\n",
      "2 <class 'str'>\n",
      "1 <class 'str'>\n",
      "9 <class 'str'>\n",
      "8 <class 'str'>\n",
      "4 <class 'str'>\n",
      "8 <class 'str'>\n",
      "7 <class 'str'>\n",
      "2 <class 'str'>\n",
      "3 <class 'str'>\n",
      "4 <class 'str'>\n",
      "7 <class 'str'>\n",
      "8 <class 'str'>\n",
      "3 <class 'str'>\n",
      "8 <class 'str'>\n",
      "4 <class 'str'>\n",
      "7 <class 'str'>\n"
     ]
    }
   ],
   "source": [
    "for j in str(i10): #performing typecasting operation\n",
    "    print(int(j), type(j))"
   ]
  },
  {
   "cell_type": "code",
   "execution_count": 91,
   "id": "44282154",
   "metadata": {},
   "outputs": [
    {
     "name": "stdout",
     "output_type": "stream",
     "text": [
      "2 <class 'str'>\n",
      "7 <class 'str'>\n",
      "3 <class 'str'>\n",
      "6 <class 'str'>\n",
      "2 <class 'str'>\n",
      "8 <class 'str'>\n",
      "3 <class 'str'>\n",
      "6 <class 'str'>\n",
      "2 <class 'str'>\n",
      "1 <class 'str'>\n",
      "9 <class 'str'>\n",
      "8 <class 'str'>\n",
      "4 <class 'str'>\n",
      "8 <class 'str'>\n",
      "7 <class 'str'>\n",
      "2 <class 'str'>\n",
      "3 <class 'str'>\n",
      "4 <class 'str'>\n",
      "7 <class 'str'>\n",
      "8 <class 'str'>\n",
      "3 <class 'str'>\n",
      "8 <class 'str'>\n",
      "4 <class 'str'>\n",
      "7 <class 'str'>\n"
     ]
    }
   ],
   "source": [
    "for j in str(i10): #performing typecasting operation\n",
    "    print((j), type(j))"
   ]
  },
  {
   "cell_type": "code",
   "execution_count": 92,
   "id": "9cc3e1ee",
   "metadata": {},
   "outputs": [
    {
     "data": {
      "text/plain": [
       "'273628362198487234783847'"
      ]
     },
     "execution_count": 92,
     "metadata": {},
     "output_type": "execute_result"
    }
   ],
   "source": [
    "str(i10)"
   ]
  },
  {
   "cell_type": "code",
   "execution_count": 93,
   "id": "f85deee2",
   "metadata": {},
   "outputs": [],
   "source": [
    "t= (\"sud3h\",\"kum3ar\",[3,54,35,63,64],(3,5,35,6),{\"key1\":\"sudh\",\"key2\":\"kumar\"})"
   ]
  },
  {
   "cell_type": "code",
   "execution_count": 94,
   "id": "7ede10fe",
   "metadata": {},
   "outputs": [],
   "source": [
    "#challenge: extract 3\n",
    "#note=tuples,dictionary are iterable"
   ]
  },
  {
   "cell_type": "code",
   "execution_count": 95,
   "id": "ce69afce",
   "metadata": {},
   "outputs": [
    {
     "name": "stdout",
     "output_type": "stream",
     "text": [
      "3\n",
      "3\n",
      "3\n",
      "3\n"
     ]
    }
   ],
   "source": [
    "for i in t:\n",
    "    if type(i)==str:\n",
    "        for j in i:\n",
    "            if j==\"3\": #3 is a string in this case, and not an integer\n",
    "                print(j)\n",
    "    if type(i)==list:\n",
    "        for j in i:\n",
    "            if j==3:\n",
    "                print(j)\n",
    "    if type(i)==tuple:\n",
    "        for j in i:\n",
    "            if j==3:\n",
    "                print(j)\n",
    "    if type(i)==dict:\n",
    "        for j in i:\n",
    "            if j==\"3\":\n",
    "                print(j)\n",
    "        for j in i.values():\n",
    "            if j==\"3\":\n",
    "                print(j)\n"
   ]
  },
  {
   "cell_type": "code",
   "execution_count": 96,
   "id": "06295a19",
   "metadata": {},
   "outputs": [
    {
     "data": {
      "text/plain": [
       "('sud3h',\n",
       " 'kum3ar',\n",
       " [3, 54, 35, 63, 64],\n",
       " (3, 5, 35, 6),\n",
       " {'key1': 'sudh', 'key2': 'kumar'})"
      ]
     },
     "execution_count": 96,
     "metadata": {},
     "output_type": "execute_result"
    }
   ],
   "source": [
    "t"
   ]
  },
  {
   "cell_type": "code",
   "execution_count": 97,
   "id": "8c628175",
   "metadata": {},
   "outputs": [
    {
     "name": "stdout",
     "output_type": "stream",
     "text": [
      "3\n",
      "3\n"
     ]
    }
   ],
   "source": [
    "for i in t:\n",
    "    if type(i) == list or type(i) == tuple:\n",
    "        for j in i:\n",
    "            if j==3:\n",
    "                print(j)"
   ]
  },
  {
   "cell_type": "code",
   "execution_count": 98,
   "id": "25d3950b",
   "metadata": {},
   "outputs": [],
   "source": [
    "t2= (\"sud3h\",\"kum3ar\",[3,54,35,63,64],(3,5,35,6),{3:\"sudh\",\"key2\":\"3\"})"
   ]
  },
  {
   "cell_type": "code",
   "execution_count": 99,
   "id": "57712db6",
   "metadata": {},
   "outputs": [
    {
     "name": "stdout",
     "output_type": "stream",
     "text": [
      "3\n",
      "3\n",
      "3\n",
      "3\n",
      "3\n",
      "3\n"
     ]
    }
   ],
   "source": [
    "for i in t2:\n",
    "    if type(i)==str:\n",
    "        for j in i:\n",
    "            if j==\"3\": #3 is a string in this case, and not an integer\n",
    "                print(j)\n",
    "    if type(i)==list:\n",
    "        for j in i:\n",
    "            if j==3:\n",
    "                print(j)\n",
    "    if type(i)==tuple:\n",
    "        for j in i:\n",
    "            if j==3:\n",
    "                print(j)\n",
    "    if type(i)==dict:\n",
    "        for j in i:\n",
    "            if j==3:\n",
    "                print(j)\n",
    "        for j in i.values():\n",
    "            if j==\"3\":\n",
    "                print(j)               \n",
    "             \n",
    "               \n",
    "    \n"
   ]
  },
  {
   "cell_type": "code",
   "execution_count": 100,
   "id": "5f5271ba",
   "metadata": {},
   "outputs": [],
   "source": [
    "t3= (\"sud3h\",\"kum3ar\",[3,54,35,63,64],(3,5,35,6),{3:3,\"key2\":\"kumar\"})\n",
    "                "
   ]
  },
  {
   "cell_type": "code",
   "execution_count": 101,
   "id": "8440982f",
   "metadata": {},
   "outputs": [
    {
     "name": "stdout",
     "output_type": "stream",
     "text": [
      "3\n",
      "3\n",
      "3\n",
      "3\n"
     ]
    }
   ],
   "source": [
    "for i in t3:\n",
    "    if type(i)==list or type(i)==tuple:\n",
    "        for j in i:\n",
    "            if j==3:\n",
    "                print(j)\n",
    "    if type(i)==dict:\n",
    "        for k,v in i.items(): #k, v read the tuple inside the dictionary at once in during the for loop\n",
    "            if k==3 or v==3:\n",
    "                print(k)\n",
    "                print(v)         \n",
    "    "
   ]
  },
  {
   "cell_type": "code",
   "execution_count": 102,
   "id": "84ba5525",
   "metadata": {},
   "outputs": [],
   "source": [
    "#note= all the below three statements are same=three types of variable declaration"
   ]
  },
  {
   "cell_type": "code",
   "execution_count": 103,
   "id": "3d7094cb",
   "metadata": {},
   "outputs": [],
   "source": [
    "a= 10\n",
    "b=20\n",
    "c=30"
   ]
  },
  {
   "cell_type": "code",
   "execution_count": 104,
   "id": "3ff8558c",
   "metadata": {},
   "outputs": [],
   "source": [
    "a,b,c=10,20,30"
   ]
  },
  {
   "cell_type": "code",
   "execution_count": 105,
   "id": "a7dbe863",
   "metadata": {},
   "outputs": [],
   "source": [
    "a,b,c=(10,20,30) #tuples are also used to declare value"
   ]
  },
  {
   "cell_type": "code",
   "execution_count": 106,
   "id": "c9638e36",
   "metadata": {},
   "outputs": [],
   "source": [
    "d10={4:5,\"key1\":\"rohan\",\"key2\":\"pradhan\"}"
   ]
  },
  {
   "cell_type": "code",
   "execution_count": 107,
   "id": "bd98077f",
   "metadata": {},
   "outputs": [
    {
     "data": {
      "text/plain": [
       "dict_items([(4, 5), ('key1', 'rohan'), ('key2', 'pradhan')])"
      ]
     },
     "execution_count": 107,
     "metadata": {},
     "output_type": "execute_result"
    }
   ],
   "source": [
    "d10.items()"
   ]
  },
  {
   "cell_type": "code",
   "execution_count": 108,
   "id": "daf27682",
   "metadata": {},
   "outputs": [
    {
     "name": "stdout",
     "output_type": "stream",
     "text": [
      "4 5\n",
      "key1 rohan\n",
      "key2 pradhan\n"
     ]
    }
   ],
   "source": [
    "for i,j in d10.items(): #i,j =variable declaration in tuple form #for loop ek sath ek tuple ko read karega in this case\n",
    "    print(i,j)"
   ]
  },
  {
   "cell_type": "code",
   "execution_count": 109,
   "id": "b7a9c923",
   "metadata": {},
   "outputs": [
    {
     "name": "stdout",
     "output_type": "stream",
     "text": [
      "ineuron \n",
      "\n",
      "ineuron ineuron \n",
      "\n",
      "ineuron ineuron ineuron \n",
      "\n",
      "ineuron ineuron ineuron ineuron \n",
      "\n"
     ]
    }
   ],
   "source": [
    "n1=4\n",
    "for i in range(n1):\n",
    "    for j in range(0,i+1):\n",
    "        print(\"ineuron\",end=\" \")\n",
    "    print(\"\\n\")  #changing the line      \n",
    "    \n",
    "    "
   ]
  },
  {
   "cell_type": "code",
   "execution_count": 110,
   "id": "c79dce18",
   "metadata": {},
   "outputs": [
    {
     "name": "stdout",
     "output_type": "stream",
     "text": [
      "ineuron        \n",
      "ineuron       ineuron        \n",
      "ineuron       ineuron       ineuron                  ineuron  \n",
      "ineuron       ineuron       ineuron       ineuron                  ineuron            ineuron  \n",
      "ineuron       ineuron       ineuron       ineuron       ineuron                  ineuron            ineuron            ineuron  \n"
     ]
    }
   ],
   "source": [
    "for i in range(5):\n",
    "    for j in range(0):\n",
    "        print(\" \"*10,\"ineuron\",end=\" \")\n",
    "    for j in range(0,i+1):\n",
    "        print(\"ineuron\",\" \"*5,end=\" \")\n",
    "    for j in range(0,i-1):\n",
    "        print(\" \"*10,\"ineuron\",end=\" \")\n",
    "    print(\" \")    \n",
    "      "
   ]
  },
  {
   "cell_type": "code",
   "execution_count": 111,
   "id": "28158a60",
   "metadata": {},
   "outputs": [],
   "source": [
    "l30=[[1,2,3,4],(2,3,4,5,6),(3,4,5,6,7),{23,45,5,6546,74,464,4,5,6,7},\n",
    "     {\"k1\":\"sudh\",\"k2\":\"ineuron\",\"k3\":\"kumar\",3:6,7:8},[\"ineuron\",\"data science\"]]"
   ]
  },
  {
   "cell_type": "code",
   "execution_count": 112,
   "id": "b1a05c6b",
   "metadata": {},
   "outputs": [],
   "source": [
    "#challenge=extract all the list entity\n",
    "#extract all dictionary entities\n",
    "#extract tuples entities\n",
    "#extract all the numerical data, it may be a part of dict key and values\n",
    "#try to give summation of all the numeric data\n",
    "#try to filter out all the odd values out of all numeric data which is a part of a list\n",
    "#try to extract ineuron of this data\n",
    "#try to find out number of occurence of alll the data\n",
    "#try to find out number of keys    in dict element\n",
    "#try to filter out all the string data\n",
    "#try to find out alphanumeric in data\n",
    "#try to find out multiplication of all the numeric value in the individual collection inside dataset\n",
    "#try to unwrap all the collection inside collection and create a flat list"
   ]
  },
  {
   "cell_type": "code",
   "execution_count": 113,
   "id": "fc218295",
   "metadata": {},
   "outputs": [
    {
     "name": "stdout",
     "output_type": "stream",
     "text": [
      "1\n",
      "2\n",
      "3\n",
      "4\n",
      "ineuron\n",
      "data science\n"
     ]
    }
   ],
   "source": [
    "for i in l30:\n",
    "    if type(i)==list:\n",
    "        for j in i:\n",
    "            print(j) #extracting all the list entities"
   ]
  },
  {
   "cell_type": "code",
   "execution_count": 114,
   "id": "e0e2fb03",
   "metadata": {},
   "outputs": [
    {
     "name": "stdout",
     "output_type": "stream",
     "text": [
      "k1\n",
      "k2\n",
      "k3\n",
      "3\n",
      "7\n",
      "sudh\n",
      "ineuron\n",
      "kumar\n",
      "6\n",
      "8\n"
     ]
    }
   ],
   "source": [
    "for i in l30:\n",
    "    if type(i)==dict:\n",
    "        for j in i:\n",
    "            print(j) #extracting all the keys of the dict\n",
    "        for k in i.values():\n",
    "            print(k) #extracting all the values of the dict"
   ]
  },
  {
   "cell_type": "code",
   "execution_count": 115,
   "id": "2e109615",
   "metadata": {},
   "outputs": [
    {
     "name": "stdout",
     "output_type": "stream",
     "text": [
      "2\n",
      "3\n",
      "4\n",
      "5\n",
      "6\n",
      "3\n",
      "4\n",
      "5\n",
      "6\n",
      "7\n"
     ]
    }
   ],
   "source": [
    "for i in l30:\n",
    "    if type(i)==tuple:\n",
    "        for j in i:\n",
    "            print(j) #extracting all the tuple entities"
   ]
  },
  {
   "cell_type": "code",
   "execution_count": 116,
   "id": "1a0cd2cd",
   "metadata": {},
   "outputs": [],
   "source": [
    "l30=[[1,2,3,4],(2,3,4,5,6),(3,4,5,6,7),{23,45,5,6546,74,464,4,5,6,7},\n",
    "     {\"k1\":\"sudh\",\"k2\":\"ineuron\",\"k3\":\"kumar\",3:6,7:8},[\"ineuron\",\"data science\"]]"
   ]
  },
  {
   "cell_type": "code",
   "execution_count": 117,
   "id": "ab37bdf1",
   "metadata": {},
   "outputs": [
    {
     "name": "stdout",
     "output_type": "stream",
     "text": [
      "1\n",
      "2\n",
      "3\n",
      "4\n",
      "2\n",
      "3\n",
      "4\n",
      "5\n",
      "6\n",
      "3\n",
      "4\n",
      "5\n",
      "6\n",
      "7\n",
      "4\n",
      "5\n",
      "6\n",
      "7\n",
      "74\n",
      "45\n",
      "464\n",
      "6546\n",
      "23\n",
      "3\n",
      "7\n",
      "6\n",
      "8\n"
     ]
    }
   ],
   "source": [
    "#extract all the numerical data, it may be a part of dict key and values\n",
    "for i in l30:\n",
    "    for j in i:\n",
    "        if type(j)==int:\n",
    "            print(j)\n",
    "    if type(i)==dict:\n",
    "        for j in i.values():\n",
    "            if type(j)==int:\n",
    "                print(j)\n",
    "            \n",
    "            \n",
    "            \n",
    "    "
   ]
  },
  {
   "cell_type": "code",
   "execution_count": 118,
   "id": "bcbcdd90",
   "metadata": {},
   "outputs": [],
   "source": [
    "l30=[[1,2,3,4],(2,3,4,5,6),(3,4,5,6,7),{23,45,5,6546,74,464,4,5,6,7},\n",
    "     {\"k1\":\"sudh\",\"k2\":\"ineuron\",\"k3\":\"kumar\",3:6,7:8},[\"ineuron\",\"data science\"]]"
   ]
  },
  {
   "cell_type": "code",
   "execution_count": 119,
   "id": "b07f2e33",
   "metadata": {},
   "outputs": [],
   "source": [
    "#try to give summation of all the numeric data"
   ]
  },
  {
   "cell_type": "code",
   "execution_count": 127,
   "id": "87e3de8b",
   "metadata": {},
   "outputs": [
    {
     "data": {
      "text/plain": [
       "[1,\n",
       " 2,\n",
       " 3,\n",
       " 4,\n",
       " 2,\n",
       " 3,\n",
       " 4,\n",
       " 5,\n",
       " 6,\n",
       " 3,\n",
       " 4,\n",
       " 5,\n",
       " 6,\n",
       " 7,\n",
       " 4,\n",
       " 5,\n",
       " 6,\n",
       " 7,\n",
       " 74,\n",
       " 45,\n",
       " 464,\n",
       " 6546,\n",
       " 23,\n",
       " 3,\n",
       " 7,\n",
       " 6,\n",
       " 8]"
      ]
     },
     "execution_count": 127,
     "metadata": {},
     "output_type": "execute_result"
    }
   ],
   "source": [
    "l31=[]\n",
    "for i in l30:\n",
    "    for j in i:\n",
    "        if type(j)==int:\n",
    "            l31.append(j)\n",
    "    if type(i)==dict:\n",
    "        for j in i.values():\n",
    "            if type(j)==int:\n",
    "                l31.append(j)\n",
    "l31              "
   ]
  },
  {
   "cell_type": "code",
   "execution_count": 135,
   "id": "5ae13517",
   "metadata": {},
   "outputs": [],
   "source": [
    "b=sum(l31)"
   ]
  },
  {
   "cell_type": "code",
   "execution_count": 136,
   "id": "8ea6de17",
   "metadata": {},
   "outputs": [
    {
     "data": {
      "text/plain": [
       "7253"
      ]
     },
     "execution_count": 136,
     "metadata": {},
     "output_type": "execute_result"
    }
   ],
   "source": [
    "b"
   ]
  },
  {
   "cell_type": "code",
   "execution_count": 137,
   "id": "7d8cce57",
   "metadata": {},
   "outputs": [
    {
     "data": {
      "text/plain": [
       "7253"
      ]
     },
     "execution_count": 137,
     "metadata": {},
     "output_type": "execute_result"
    }
   ],
   "source": [
    "sum(i for i in l31)"
   ]
  },
  {
   "cell_type": "code",
   "execution_count": 139,
   "id": "bff6ac6e",
   "metadata": {},
   "outputs": [
    {
     "data": {
      "text/plain": [
       "[[1, 2, 3, 4],\n",
       " (2, 3, 4, 5, 6),\n",
       " (3, 4, 5, 6, 7),\n",
       " {4, 5, 6, 7, 23, 45, 74, 464, 6546},\n",
       " {'k1': 'sudh', 'k2': 'ineuron', 'k3': 'kumar', 3: 6, 7: 8},\n",
       " ['ineuron', 'data science']]"
      ]
     },
     "execution_count": 139,
     "metadata": {},
     "output_type": "execute_result"
    }
   ],
   "source": [
    "l30"
   ]
  },
  {
   "cell_type": "code",
   "execution_count": null,
   "id": "eba179c0",
   "metadata": {},
   "outputs": [],
   "source": [
    "#try to filter out all the odd values out of all numeric data which is a part of a list"
   ]
  },
  {
   "cell_type": "code",
   "execution_count": 150,
   "id": "ba9e3200",
   "metadata": {},
   "outputs": [
    {
     "name": "stdout",
     "output_type": "stream",
     "text": [
      "1\n",
      "3\n"
     ]
    }
   ],
   "source": [
    "for i in l30:\n",
    "    if type(i)==list:\n",
    "        for j in i:\n",
    "            if type(j)==int:\n",
    "                if j%2 != 0:\n",
    "                    print(j)"
   ]
  },
  {
   "cell_type": "code",
   "execution_count": null,
   "id": "dedf10bd",
   "metadata": {},
   "outputs": [],
   "source": []
  },
  {
   "cell_type": "code",
   "execution_count": null,
   "id": "df276e5b",
   "metadata": {},
   "outputs": [],
   "source": []
  },
  {
   "cell_type": "code",
   "execution_count": null,
   "id": "b8910b34",
   "metadata": {},
   "outputs": [],
   "source": []
  },
  {
   "cell_type": "code",
   "execution_count": null,
   "id": "becbbac2",
   "metadata": {},
   "outputs": [],
   "source": []
  },
  {
   "cell_type": "code",
   "execution_count": null,
   "id": "263dfd30",
   "metadata": {},
   "outputs": [],
   "source": []
  }
 ],
 "metadata": {
  "kernelspec": {
   "display_name": "Python 3 (ipykernel)",
   "language": "python",
   "name": "python3"
  },
  "language_info": {
   "codemirror_mode": {
    "name": "ipython",
    "version": 3
   },
   "file_extension": ".py",
   "mimetype": "text/x-python",
   "name": "python",
   "nbconvert_exporter": "python",
   "pygments_lexer": "ipython3",
   "version": "3.9.12"
  }
 },
 "nbformat": 4,
 "nbformat_minor": 5
}
