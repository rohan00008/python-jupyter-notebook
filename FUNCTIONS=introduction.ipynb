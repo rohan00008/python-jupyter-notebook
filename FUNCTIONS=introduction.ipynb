{
 "cells": [
  {
   "cell_type": "code",
   "execution_count": 1,
   "id": "7cd5a796",
   "metadata": {},
   "outputs": [],
   "source": [
    "#examples of inbuilt functions:\n",
    "#len()\n",
    "#range()\n",
    "#print()\n",
    "#keys()\n",
    "#values()\n",
    "#items()\n",
    "#append\n",
    "#pop\n",
    "#insert\n",
    "#extend\n",
    "#etc"
   ]
  },
  {
   "cell_type": "code",
   "execution_count": 2,
   "id": "bacdcd51",
   "metadata": {},
   "outputs": [],
   "source": [
    "#it is possible to create functions by ourselves and make them available to use by others \n",
    "#i.e making them public for others to install or use\n"
   ]
  },
  {
   "cell_type": "code",
   "execution_count": 3,
   "id": "ee13d112",
   "metadata": {},
   "outputs": [],
   "source": [
    "def test():  #definition of the function i.e i have choosen the name of the function(to be made by me) as test()\n",
    "    print(\"this is my first function\") #function created #print statement gives none data type to the function #this indented block is the body of the function\n",
    "    "
   ]
  },
  {
   "cell_type": "code",
   "execution_count": 4,
   "id": "928aa763",
   "metadata": {},
   "outputs": [
    {
     "name": "stdout",
     "output_type": "stream",
     "text": [
      "this is my first function\n"
     ]
    }
   ],
   "source": [
    "test() #calling out the function created by me"
   ]
  },
  {
   "cell_type": "code",
   "execution_count": 5,
   "id": "6bc3daff",
   "metadata": {},
   "outputs": [
    {
     "name": "stdout",
     "output_type": "stream",
     "text": [
      "this is my first function\n"
     ]
    },
    {
     "data": {
      "text/plain": [
       "NoneType"
      ]
     },
     "execution_count": 5,
     "metadata": {},
     "output_type": "execute_result"
    }
   ],
   "source": [
    "type(test())"
   ]
  },
  {
   "cell_type": "code",
   "execution_count": 6,
   "id": "d5811600",
   "metadata": {},
   "outputs": [],
   "source": [
    "#test()+\"rohan\" #concatenation not possible bcz none type cannot be concatenated with string type \n",
    "\n"
   ]
  },
  {
   "cell_type": "code",
   "execution_count": 7,
   "id": "7d5f23aa",
   "metadata": {},
   "outputs": [],
   "source": [
    " def test1(): #creating another function named test1()\n",
    "        return(\"this is my first function\" ) #return statement gives the data type as it is, unlike print which gives none type dataset"
   ]
  },
  {
   "cell_type": "code",
   "execution_count": 8,
   "id": "b62eae12",
   "metadata": {},
   "outputs": [
    {
     "data": {
      "text/plain": [
       "'this is my first function'"
      ]
     },
     "execution_count": 8,
     "metadata": {},
     "output_type": "execute_result"
    }
   ],
   "source": [
    "test1()"
   ]
  },
  {
   "cell_type": "code",
   "execution_count": 9,
   "id": "093dfbfb",
   "metadata": {},
   "outputs": [
    {
     "data": {
      "text/plain": [
       "str"
      ]
     },
     "execution_count": 9,
     "metadata": {},
     "output_type": "execute_result"
    }
   ],
   "source": [
    "type(test1()) #data type"
   ]
  },
  {
   "cell_type": "code",
   "execution_count": 10,
   "id": "ae1af189",
   "metadata": {},
   "outputs": [
    {
     "data": {
      "text/plain": [
       "'this is my first function rohan'"
      ]
     },
     "execution_count": 10,
     "metadata": {},
     "output_type": "execute_result"
    }
   ],
   "source": [
    "test1()+\" rohan\" #concatenation possible"
   ]
  },
  {
   "cell_type": "code",
   "execution_count": 11,
   "id": "e18ba155",
   "metadata": {},
   "outputs": [],
   "source": [
    "def test2(): # defining function\n",
    "    return(\"hello i am learning to create a function\") #body of the function"
   ]
  },
  {
   "cell_type": "code",
   "execution_count": 12,
   "id": "c545da0f",
   "metadata": {},
   "outputs": [
    {
     "data": {
      "text/plain": [
       "'hello i am learning to create a function'"
      ]
     },
     "execution_count": 12,
     "metadata": {},
     "output_type": "execute_result"
    }
   ],
   "source": [
    "test2() #calling out the function"
   ]
  },
  {
   "cell_type": "code",
   "execution_count": 13,
   "id": "4f370d2f",
   "metadata": {},
   "outputs": [],
   "source": [
    "def test3():\n",
    "    return 1,3,4,[1,2,3,4,54,23,4]"
   ]
  },
  {
   "cell_type": "code",
   "execution_count": 14,
   "id": "ec6270c5",
   "metadata": {},
   "outputs": [
    {
     "data": {
      "text/plain": [
       "(1, 3, 4, [1, 2, 3, 4, 54, 23, 4])"
      ]
     },
     "execution_count": 14,
     "metadata": {},
     "output_type": "execute_result"
    }
   ],
   "source": [
    "test3() #multiple items are returned as tuples"
   ]
  },
  {
   "cell_type": "code",
   "execution_count": 15,
   "id": "c8e189e2",
   "metadata": {},
   "outputs": [],
   "source": [
    "a=test3()\n"
   ]
  },
  {
   "cell_type": "code",
   "execution_count": 16,
   "id": "035e5f4c",
   "metadata": {},
   "outputs": [
    {
     "data": {
      "text/plain": [
       "(1, 3, 4, [1, 2, 3, 4, 54, 23, 4])"
      ]
     },
     "execution_count": 16,
     "metadata": {},
     "output_type": "execute_result"
    }
   ],
   "source": [
    "a"
   ]
  },
  {
   "cell_type": "code",
   "execution_count": 17,
   "id": "f5de14f0",
   "metadata": {},
   "outputs": [],
   "source": [
    "a,b,c,d = test3() #parallel assignment of values in tuple   "
   ]
  },
  {
   "cell_type": "code",
   "execution_count": 18,
   "id": "87138b7e",
   "metadata": {},
   "outputs": [
    {
     "data": {
      "text/plain": [
       "1"
      ]
     },
     "execution_count": 18,
     "metadata": {},
     "output_type": "execute_result"
    }
   ],
   "source": [
    "a"
   ]
  },
  {
   "cell_type": "code",
   "execution_count": 19,
   "id": "b2b05e82",
   "metadata": {},
   "outputs": [
    {
     "data": {
      "text/plain": [
       "3"
      ]
     },
     "execution_count": 19,
     "metadata": {},
     "output_type": "execute_result"
    }
   ],
   "source": [
    "b"
   ]
  },
  {
   "cell_type": "code",
   "execution_count": 20,
   "id": "32642923",
   "metadata": {},
   "outputs": [
    {
     "data": {
      "text/plain": [
       "4"
      ]
     },
     "execution_count": 20,
     "metadata": {},
     "output_type": "execute_result"
    }
   ],
   "source": [
    "c"
   ]
  },
  {
   "cell_type": "code",
   "execution_count": 21,
   "id": "66d3158e",
   "metadata": {},
   "outputs": [
    {
     "data": {
      "text/plain": [
       "[1, 2, 3, 4, 54, 23, 4]"
      ]
     },
     "execution_count": 21,
     "metadata": {},
     "output_type": "execute_result"
    }
   ],
   "source": [
    "d"
   ]
  },
  {
   "cell_type": "code",
   "execution_count": 22,
   "id": "4ebe8ee2",
   "metadata": {},
   "outputs": [],
   "source": [
    "def test4(): #naming the function\n",
    "    a=4*5  #body of the function started from here\n",
    "    b=6*4\n",
    "    return a,b"
   ]
  },
  {
   "cell_type": "code",
   "execution_count": 23,
   "id": "cafd670f",
   "metadata": {},
   "outputs": [
    {
     "data": {
      "text/plain": [
       "(20, 24)"
      ]
     },
     "execution_count": 23,
     "metadata": {},
     "output_type": "execute_result"
    }
   ],
   "source": [
    "test4() #output of function is returned as a tuple"
   ]
  },
  {
   "cell_type": "code",
   "execution_count": 24,
   "id": "f2e403ac",
   "metadata": {},
   "outputs": [],
   "source": [
    "g=test4()"
   ]
  },
  {
   "cell_type": "code",
   "execution_count": 25,
   "id": "eafcdc66",
   "metadata": {},
   "outputs": [
    {
     "data": {
      "text/plain": [
       "(20, 24)"
      ]
     },
     "execution_count": 25,
     "metadata": {},
     "output_type": "execute_result"
    }
   ],
   "source": [
    "g"
   ]
  },
  {
   "cell_type": "code",
   "execution_count": 26,
   "id": "ab239507",
   "metadata": {},
   "outputs": [],
   "source": [
    "x,y=test4()"
   ]
  },
  {
   "cell_type": "code",
   "execution_count": 27,
   "id": "d9398c22",
   "metadata": {},
   "outputs": [
    {
     "data": {
      "text/plain": [
       "20"
      ]
     },
     "execution_count": 27,
     "metadata": {},
     "output_type": "execute_result"
    }
   ],
   "source": [
    "x"
   ]
  },
  {
   "cell_type": "code",
   "execution_count": 28,
   "id": "9b7e5f95",
   "metadata": {},
   "outputs": [
    {
     "data": {
      "text/plain": [
       "24"
      ]
     },
     "execution_count": 28,
     "metadata": {},
     "output_type": "execute_result"
    }
   ],
   "source": [
    "y"
   ]
  },
  {
   "cell_type": "code",
   "execution_count": 29,
   "id": "18ff1d85",
   "metadata": {},
   "outputs": [],
   "source": [
    "_ , m = test4() "
   ]
  },
  {
   "cell_type": "code",
   "execution_count": 30,
   "id": "cc50d823",
   "metadata": {},
   "outputs": [
    {
     "data": {
      "text/plain": [
       "24"
      ]
     },
     "execution_count": 30,
     "metadata": {},
     "output_type": "execute_result"
    }
   ],
   "source": [
    "m"
   ]
  },
  {
   "cell_type": "code",
   "execution_count": 31,
   "id": "41ab5f73",
   "metadata": {},
   "outputs": [
    {
     "data": {
      "text/plain": [
       "20"
      ]
     },
     "execution_count": 31,
     "metadata": {},
     "output_type": "execute_result"
    }
   ],
   "source": [
    "_ #underscore is called as the placeholder"
   ]
  },
  {
   "cell_type": "code",
   "execution_count": 32,
   "id": "95e59c46",
   "metadata": {},
   "outputs": [
    {
     "data": {
      "text/plain": [
       "(1, 3, 4, [1, 2, 3, 4, 54, 23, 4])"
      ]
     },
     "execution_count": 32,
     "metadata": {},
     "output_type": "execute_result"
    }
   ],
   "source": [
    "test3()"
   ]
  },
  {
   "cell_type": "code",
   "execution_count": 33,
   "id": "4cd0f62a",
   "metadata": {},
   "outputs": [],
   "source": [
    "#if i have to extract only the fourth item, then i can give mere placeholders assignment to rest of the items\n",
    "_,_,_,w=test3()"
   ]
  },
  {
   "cell_type": "code",
   "execution_count": 34,
   "id": "4da20c06",
   "metadata": {},
   "outputs": [
    {
     "data": {
      "text/plain": [
       "[1, 2, 3, 4, 54, 23, 4]"
      ]
     },
     "execution_count": 34,
     "metadata": {},
     "output_type": "execute_result"
    }
   ],
   "source": [
    "w"
   ]
  },
  {
   "cell_type": "code",
   "execution_count": 35,
   "id": "627829c2",
   "metadata": {},
   "outputs": [],
   "source": [
    "#the purpose of function is that it facilitates re-usability of the existing code + facilitates modularity of the code "
   ]
  },
  {
   "cell_type": "code",
   "execution_count": 36,
   "id": "8de53abf",
   "metadata": {},
   "outputs": [],
   "source": [
    "def pattern():\n",
    "    n=4 \n",
    "    for i in range(n):\n",
    "        for j in range(0,i+1):\n",
    "            print(\"rohan\",end=\" \")\n",
    "        print(\"\\n\")"
   ]
  },
  {
   "cell_type": "code",
   "execution_count": 37,
   "id": "27f7f29b",
   "metadata": {},
   "outputs": [
    {
     "name": "stdout",
     "output_type": "stream",
     "text": [
      "rohan \n",
      "\n",
      "rohan rohan \n",
      "\n",
      "rohan rohan rohan \n",
      "\n",
      "rohan rohan rohan rohan \n",
      "\n"
     ]
    }
   ],
   "source": [
    "pattern()"
   ]
  },
  {
   "cell_type": "code",
   "execution_count": 38,
   "id": "c936e84d",
   "metadata": {},
   "outputs": [],
   "source": [
    "def test6():\n",
    "    a=1\n",
    "    b=10\n",
    "    while a <=b:\n",
    "        print(a)\n",
    "        a=a+2\n",
    "    else:\n",
    "        print(\"print this else block\")"
   ]
  },
  {
   "cell_type": "code",
   "execution_count": 39,
   "id": "613aa880",
   "metadata": {},
   "outputs": [
    {
     "name": "stdout",
     "output_type": "stream",
     "text": [
      "1\n",
      "3\n",
      "5\n",
      "7\n",
      "9\n",
      "print this else block\n"
     ]
    }
   ],
   "source": [
    "test6()"
   ]
  },
  {
   "cell_type": "code",
   "execution_count": 40,
   "id": "7ee1a6c3",
   "metadata": {},
   "outputs": [],
   "source": [
    "def test6(a,b): #faciliating netry of values of a and b by the user\n",
    "    while a <=b:\n",
    "        print(a) #print statement will give none data type\n",
    "        a=a+2\n",
    "    else:\n",
    "        print(\"print this else block\") #but print statement will give none data type"
   ]
  },
  {
   "cell_type": "code",
   "execution_count": 41,
   "id": "a7fce593",
   "metadata": {},
   "outputs": [
    {
     "name": "stdout",
     "output_type": "stream",
     "text": [
      "1\n",
      "3\n",
      "5\n",
      "7\n",
      "9\n",
      "print this else block\n"
     ]
    }
   ],
   "source": [
    "test6(1,10) #passing the value when we are calling out the function"
   ]
  },
  {
   "cell_type": "code",
   "execution_count": 42,
   "id": "fd887ff3",
   "metadata": {},
   "outputs": [
    {
     "name": "stdout",
     "output_type": "stream",
     "text": [
      "3\n",
      "5\n",
      "7\n",
      "9\n",
      "11\n",
      "13\n",
      "15\n",
      "17\n",
      "19\n",
      "21\n",
      "23\n",
      "25\n",
      "27\n",
      "print this else block\n"
     ]
    }
   ],
   "source": [
    "test6(3,28)"
   ]
  },
  {
   "cell_type": "code",
   "execution_count": 43,
   "id": "12eee061",
   "metadata": {},
   "outputs": [],
   "source": [
    "#print statement in the above codes will give none data types\n",
    "# we cannot replace print statement with return statement since return statement returns only one value and stops\n",
    "#i.e return statement is not a substitute of the print statement"
   ]
  },
  {
   "cell_type": "code",
   "execution_count": 44,
   "id": "d378125b",
   "metadata": {},
   "outputs": [],
   "source": [
    "#another way to prevent none data type as the output"
   ]
  },
  {
   "cell_type": "code",
   "execution_count": 45,
   "id": "d88c5d6f",
   "metadata": {},
   "outputs": [],
   "source": [
    "def test7(a,b):\n",
    "    l=[]\n",
    "    while a <= b:\n",
    "        #print(a)\n",
    "        l.append(a)\n",
    "        a=a+2\n",
    "    else:\n",
    "        print(\"print this else block\")\n",
    "    return l    #return statement returns only one value and then closes #also, it returns the existing data type unlike print which gives none data type"
   ]
  },
  {
   "cell_type": "code",
   "execution_count": 46,
   "id": "b04a0a06",
   "metadata": {},
   "outputs": [
    {
     "name": "stdout",
     "output_type": "stream",
     "text": [
      "print this else block\n"
     ]
    },
    {
     "data": {
      "text/plain": [
       "[3, 5, 7, 9, 11, 13, 15, 17, 19, 21, 23, 25, 27]"
      ]
     },
     "execution_count": 46,
     "metadata": {},
     "output_type": "execute_result"
    }
   ],
   "source": [
    "test7(3,28)"
   ]
  },
  {
   "cell_type": "code",
   "execution_count": 47,
   "id": "2086f0a8",
   "metadata": {},
   "outputs": [],
   "source": [
    "l=[4,2,3,53,634,64,99,95,3,432,[3,5,6,3,66,4344,34],\"rohan\"]"
   ]
  },
  {
   "cell_type": "code",
   "execution_count": 48,
   "id": "dbda3d76",
   "metadata": {},
   "outputs": [],
   "source": [
    "#challenge = extract all the integers"
   ]
  },
  {
   "cell_type": "code",
   "execution_count": 49,
   "id": "07d77a60",
   "metadata": {},
   "outputs": [],
   "source": [
    "#function = inductive methodology, generalisations, natural laws"
   ]
  },
  {
   "cell_type": "code",
   "execution_count": 50,
   "id": "e1b66993",
   "metadata": {},
   "outputs": [],
   "source": [
    "l1=[]  #coding using applying logic\n",
    "for i in l:\n",
    "    if type(i)==int:\n",
    "        l1.append(i)"
   ]
  },
  {
   "cell_type": "code",
   "execution_count": 51,
   "id": "4d26de8f",
   "metadata": {},
   "outputs": [
    {
     "data": {
      "text/plain": [
       "[4, 2, 3, 53, 634, 64, 99, 95, 3, 432]"
      ]
     },
     "execution_count": 51,
     "metadata": {},
     "output_type": "execute_result"
    }
   ],
   "source": [
    "l1"
   ]
  },
  {
   "cell_type": "code",
   "execution_count": 52,
   "id": "8e623730",
   "metadata": {},
   "outputs": [],
   "source": [
    "#function approach to above challenge"
   ]
  },
  {
   "cell_type": "code",
   "execution_count": 53,
   "id": "43cbf40b",
   "metadata": {},
   "outputs": [],
   "source": [
    "def test8(l1): #passing the argument to make the function generic to user input \n",
    "    l2=[]\n",
    "    for i in l1:\n",
    "        if type(i)==int:\n",
    "            l2.append(i)\n",
    "    return l2        "
   ]
  },
  {
   "cell_type": "code",
   "execution_count": 55,
   "id": "f22fbbdd",
   "metadata": {},
   "outputs": [
    {
     "data": {
      "text/plain": [
       "[4, 2, 3, 53, 634, 64, 99, 95, 3, 432]"
      ]
     },
     "execution_count": 55,
     "metadata": {},
     "output_type": "execute_result"
    }
   ],
   "source": [
    "test8(l1) #function approach to the above challenge"
   ]
  },
  {
   "cell_type": "code",
   "execution_count": 56,
   "id": "6d011c09",
   "metadata": {},
   "outputs": [],
   "source": [
    "l5=[353,656,3,65,865,4,6,\"rohan\",(5,7,8)] "
   ]
  },
  {
   "cell_type": "code",
   "execution_count": 57,
   "id": "40f75fbc",
   "metadata": {},
   "outputs": [],
   "source": [
    "#challenge= extract integers using the function test8 already created"
   ]
  },
  {
   "cell_type": "code",
   "execution_count": 63,
   "id": "8e1f5efe",
   "metadata": {},
   "outputs": [
    {
     "data": {
      "text/plain": [
       "[353, 656, 3, 65, 865, 4, 6]"
      ]
     },
     "execution_count": 63,
     "metadata": {},
     "output_type": "execute_result"
    }
   ],
   "source": [
    "test8(l5) #calling out test8 with l5 as input"
   ]
  },
  {
   "cell_type": "code",
   "execution_count": 65,
   "id": "d4434208",
   "metadata": {},
   "outputs": [
    {
     "name": "stdout",
     "output_type": "stream",
     "text": [
      "-2\n",
      "-4\n"
     ]
    }
   ],
   "source": [
    "t=(3,4,5,6,67,7,87)\n",
    "a = -1\n",
    "while a >=  -len(t):\n",
    "        if t[a]==6 or t[a]==7:\n",
    "            print(a)\n",
    "        a=a-1"
   ]
  },
  {
   "cell_type": "code",
   "execution_count": 67,
   "id": "90209fc5",
   "metadata": {},
   "outputs": [],
   "source": [
    "def test9(t):\n",
    "    a = -1\n",
    "    while a >=  -len(t):\n",
    "        if t[a]==6 or t[a]==7:\n",
    "            print(a)\n",
    "        a=a-1\n",
    "    \n",
    "    "
   ]
  },
  {
   "cell_type": "code",
   "execution_count": 69,
   "id": "9ae74439",
   "metadata": {},
   "outputs": [
    {
     "name": "stdout",
     "output_type": "stream",
     "text": [
      "-2\n",
      "-4\n"
     ]
    }
   ],
   "source": [
    "test9(t)"
   ]
  },
  {
   "cell_type": "code",
   "execution_count": 70,
   "id": "941c4680",
   "metadata": {},
   "outputs": [],
   "source": [
    "t1=(6,7,4,6,7,7,76,6,7,76,6)\n"
   ]
  },
  {
   "cell_type": "code",
   "execution_count": 71,
   "id": "25d5f130",
   "metadata": {},
   "outputs": [
    {
     "name": "stdout",
     "output_type": "stream",
     "text": [
      "-1\n",
      "-3\n",
      "-4\n",
      "-6\n",
      "-7\n",
      "-8\n",
      "-10\n",
      "-11\n"
     ]
    }
   ],
   "source": [
    "test9(t1)"
   ]
  },
  {
   "cell_type": "code",
   "execution_count": null,
   "id": "36741b81",
   "metadata": {},
   "outputs": [],
   "source": []
  }
 ],
 "metadata": {
  "kernelspec": {
   "display_name": "Python 3 (ipykernel)",
   "language": "python",
   "name": "python3"
  },
  "language_info": {
   "codemirror_mode": {
    "name": "ipython",
    "version": 3
   },
   "file_extension": ".py",
   "mimetype": "text/x-python",
   "name": "python",
   "nbconvert_exporter": "python",
   "pygments_lexer": "ipython3",
   "version": "3.9.12"
  }
 },
 "nbformat": 4,
 "nbformat_minor": 5
}
