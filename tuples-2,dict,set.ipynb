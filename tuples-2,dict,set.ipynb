{
 "cells": [
  {
   "cell_type": "code",
   "execution_count": 1,
   "id": "6d26a6ed",
   "metadata": {},
   "outputs": [],
   "source": [
    "t1=(2,4,6,2,66,33,86,\"rohan\",34,\"ram\",323) #tuple"
   ]
  },
  {
   "cell_type": "code",
   "execution_count": 2,
   "id": "f1cff095",
   "metadata": {},
   "outputs": [
    {
     "data": {
      "text/plain": [
       "[2, 4, 6, 2, 66, 33, 86, 'rohan', 34, 'ram', 323]"
      ]
     },
     "execution_count": 2,
     "metadata": {},
     "output_type": "execute_result"
    }
   ],
   "source": [
    "list(t1)  #type conversion of tuple into list-see square brackets"
   ]
  },
  {
   "cell_type": "code",
   "execution_count": 3,
   "id": "cd05a388",
   "metadata": {},
   "outputs": [
    {
     "data": {
      "text/plain": [
       "\"(2, 4, 6, 2, 66, 33, 86, 'rohan', 34, 'ram', 323)\""
      ]
     },
     "execution_count": 3,
     "metadata": {},
     "output_type": "execute_result"
    }
   ],
   "source": [
    "str(t1) #type conversion of tuple into string"
   ]
  },
  {
   "cell_type": "code",
   "execution_count": 4,
   "id": "62b490ec",
   "metadata": {},
   "outputs": [],
   "source": [
    "t2=str(t1)"
   ]
  },
  {
   "cell_type": "code",
   "execution_count": 5,
   "id": "0ab0d6b6",
   "metadata": {},
   "outputs": [
    {
     "data": {
      "text/plain": [
       "\"(2, 4, 6, 2, 66, 33, 86, 'rohan', 34, 'ram', 323)\""
      ]
     },
     "execution_count": 5,
     "metadata": {},
     "output_type": "execute_result"
    }
   ],
   "source": [
    "t2"
   ]
  },
  {
   "cell_type": "code",
   "execution_count": 6,
   "id": "b21e9a80",
   "metadata": {},
   "outputs": [
    {
     "data": {
      "text/plain": [
       "('(',\n",
       " '2',\n",
       " ',',\n",
       " ' ',\n",
       " '4',\n",
       " ',',\n",
       " ' ',\n",
       " '6',\n",
       " ',',\n",
       " ' ',\n",
       " '2',\n",
       " ',',\n",
       " ' ',\n",
       " '6',\n",
       " '6',\n",
       " ',',\n",
       " ' ',\n",
       " '3',\n",
       " '3',\n",
       " ',',\n",
       " ' ',\n",
       " '8',\n",
       " '6',\n",
       " ',',\n",
       " ' ',\n",
       " \"'\",\n",
       " 'r',\n",
       " 'o',\n",
       " 'h',\n",
       " 'a',\n",
       " 'n',\n",
       " \"'\",\n",
       " ',',\n",
       " ' ',\n",
       " '3',\n",
       " '4',\n",
       " ',',\n",
       " ' ',\n",
       " \"'\",\n",
       " 'r',\n",
       " 'a',\n",
       " 'm',\n",
       " \"'\",\n",
       " ',',\n",
       " ' ',\n",
       " '3',\n",
       " '2',\n",
       " '3',\n",
       " ')')"
      ]
     },
     "execution_count": 6,
     "metadata": {},
     "output_type": "execute_result"
    }
   ],
   "source": [
    "tuple(t2) #type conversion of string into tuple, but it will end up loosing its meaning"
   ]
  },
  {
   "cell_type": "code",
   "execution_count": 7,
   "id": "9b15d7da",
   "metadata": {},
   "outputs": [],
   "source": [
    "#real time use of tuple= storing a password"
   ]
  },
  {
   "cell_type": "code",
   "execution_count": 8,
   "id": "1bb2f847",
   "metadata": {},
   "outputs": [],
   "source": [
    "d={} #dictionary in curly brackets"
   ]
  },
  {
   "cell_type": "code",
   "execution_count": 9,
   "id": "719829a5",
   "metadata": {},
   "outputs": [
    {
     "data": {
      "text/plain": [
       "dict"
      ]
     },
     "execution_count": 9,
     "metadata": {},
     "output_type": "execute_result"
    }
   ],
   "source": [
    "type(d)"
   ]
  },
  {
   "cell_type": "code",
   "execution_count": 10,
   "id": "312dfaf9",
   "metadata": {},
   "outputs": [],
   "source": [
    "d1={1} #set #set in also curly brackets"
   ]
  },
  {
   "cell_type": "code",
   "execution_count": 11,
   "id": "c5f03b11",
   "metadata": {},
   "outputs": [
    {
     "data": {
      "text/plain": [
       "set"
      ]
     },
     "execution_count": 11,
     "metadata": {},
     "output_type": "execute_result"
    }
   ],
   "source": [
    "type(d1)"
   ]
  },
  {
   "cell_type": "code",
   "execution_count": 12,
   "id": "a936835b",
   "metadata": {},
   "outputs": [],
   "source": [
    "#dictionary= key-value pair;if not in pairs, then it is treates as set"
   ]
  },
  {
   "cell_type": "code",
   "execution_count": 13,
   "id": "c886bf44",
   "metadata": {},
   "outputs": [],
   "source": [
    "d2={\"key1\":\"value\",234:\"xyz\",\"name\":\"rohan\",\"no\":462846}"
   ]
  },
  {
   "cell_type": "code",
   "execution_count": 14,
   "id": "6ebef7c8",
   "metadata": {},
   "outputs": [
    {
     "data": {
      "text/plain": [
       "dict"
      ]
     },
     "execution_count": 14,
     "metadata": {},
     "output_type": "execute_result"
    }
   ],
   "source": [
    "type(d2)"
   ]
  },
  {
   "cell_type": "code",
   "execution_count": 15,
   "id": "a5e5827d",
   "metadata": {},
   "outputs": [],
   "source": [
    "#summary:\n",
    "#dictionary=curly brackets==in key:value pairs\n",
    "#set=curly brackets=single element, no pairs.\n",
    "#list=square brackets\n",
    "#tuple=circular brackets"
   ]
  },
  {
   "cell_type": "code",
   "execution_count": 16,
   "id": "fa16675d",
   "metadata": {},
   "outputs": [
    {
     "data": {
      "text/plain": [
       "{'key1': 'value', 234: 'xyz', 'name': 'rohan', 'no': 462846}"
      ]
     },
     "execution_count": 16,
     "metadata": {},
     "output_type": "execute_result"
    }
   ],
   "source": [
    "d2"
   ]
  },
  {
   "cell_type": "code",
   "execution_count": 17,
   "id": "082913a1",
   "metadata": {},
   "outputs": [
    {
     "data": {
      "text/plain": [
       "'rohan'"
      ]
     },
     "execution_count": 17,
     "metadata": {},
     "output_type": "execute_result"
    }
   ],
   "source": [
    "d2['name'] #key is acting as a index number for its value  pair"
   ]
  },
  {
   "cell_type": "code",
   "execution_count": 18,
   "id": "1532fcfa",
   "metadata": {},
   "outputs": [],
   "source": [
    "d3={\"name\":\"sudh\",\"tech\":[\"python\", \"ml\", \"dl\",\"big data\",\"data analytics\"]} #value  can be anythin=tuple,list,dict,etc"
   ]
  },
  {
   "cell_type": "code",
   "execution_count": 19,
   "id": "f3a5a8d5",
   "metadata": {},
   "outputs": [
    {
     "data": {
      "text/plain": [
       "{'name': 'sudh', 'tech': ['python', 'ml', 'dl', 'big data', 'data analytics']}"
      ]
     },
     "execution_count": 19,
     "metadata": {},
     "output_type": "execute_result"
    }
   ],
   "source": [
    "d3"
   ]
  },
  {
   "cell_type": "code",
   "execution_count": 21,
   "id": "a9d40e24",
   "metadata": {},
   "outputs": [
    {
     "data": {
      "text/plain": [
       "['python', 'ml', 'dl', 'big data', 'data analytics']"
      ]
     },
     "execution_count": 21,
     "metadata": {},
     "output_type": "execute_result"
    }
   ],
   "source": [
    "d3[\"tech\"]"
   ]
  },
  {
   "cell_type": "code",
   "execution_count": 29,
   "id": "aaf833f9",
   "metadata": {},
   "outputs": [
    {
     "data": {
      "text/plain": [
       "True"
      ]
     },
     "execution_count": 29,
     "metadata": {},
     "output_type": "execute_result"
    }
   ],
   "source": [
    "\"python\" in d3[\"tech\"]"
   ]
  },
  {
   "cell_type": "code",
   "execution_count": 32,
   "id": "06e634e6",
   "metadata": {},
   "outputs": [],
   "source": [
    "d4={\"name\":\"iNeuron\",\"contact_info\":9958383823,\"name\":\"sudh\"}"
   ]
  },
  {
   "cell_type": "code",
   "execution_count": 33,
   "id": "755241b2",
   "metadata": {},
   "outputs": [
    {
     "data": {
      "text/plain": [
       "{'name': 'sudh', 'contact_info': 9958383823}"
      ]
     },
     "execution_count": 33,
     "metadata": {},
     "output_type": "execute_result"
    }
   ],
   "source": [
    "d4 #keys need to unique in a dictionary, whereas values can be repetitive.\n",
    "   #if repetitive keys, then the last value of that key overwrites the previous one"
   ]
  },
  {
   "cell_type": "code",
   "execution_count": 34,
   "id": "c00ee2fd",
   "metadata": {},
   "outputs": [],
   "source": [
    "d4[\"k1\"]=\"xyz\" # adding new key-value pair to the dictionary"
   ]
  },
  {
   "cell_type": "code",
   "execution_count": 35,
   "id": "67279d39",
   "metadata": {},
   "outputs": [
    {
     "data": {
      "text/plain": [
       "{'name': 'sudh', 'contact_info': 9958383823, 'k1': 'xyz'}"
      ]
     },
     "execution_count": 35,
     "metadata": {},
     "output_type": "execute_result"
    }
   ],
   "source": [
    "d4\n"
   ]
  },
  {
   "cell_type": "code",
   "execution_count": 38,
   "id": "3a585eac",
   "metadata": {},
   "outputs": [],
   "source": [
    "d4[\"name\"]=\"scaler academy\" #over writing the already existing key with a new value."
   ]
  },
  {
   "cell_type": "code",
   "execution_count": 39,
   "id": "c40ca14f",
   "metadata": {},
   "outputs": [
    {
     "data": {
      "text/plain": [
       "{'name': 'scaler academy', 'contact_info': 9958383823, 'k1': 'xyz'}"
      ]
     },
     "execution_count": 39,
     "metadata": {},
     "output_type": "execute_result"
    }
   ],
   "source": [
    "d4"
   ]
  },
  {
   "cell_type": "code",
   "execution_count": 42,
   "id": "1e8ee0c6",
   "metadata": {},
   "outputs": [],
   "source": [
    "d4[\"k2\"]=d2 #assigning dict as a value to key k2"
   ]
  },
  {
   "cell_type": "code",
   "execution_count": 43,
   "id": "ea424d66",
   "metadata": {},
   "outputs": [
    {
     "data": {
      "text/plain": [
       "{'name': 'scaler academy',\n",
       " 'contact_info': 9958383823,\n",
       " 'k1': 'xyz',\n",
       " 'k2': {'key1': 'value', 234: 'xyz', 'name': 'rohan', 'no': 462846}}"
      ]
     },
     "execution_count": 43,
     "metadata": {},
     "output_type": "execute_result"
    }
   ],
   "source": [
    "d4"
   ]
  },
  {
   "cell_type": "code",
   "execution_count": 44,
   "id": "d361c2a7",
   "metadata": {},
   "outputs": [
    {
     "data": {
      "text/plain": [
       "462846"
      ]
     },
     "execution_count": 44,
     "metadata": {},
     "output_type": "execute_result"
    }
   ],
   "source": [
    "d4[\"k2\"][\"no\"]  #extracting value from sub-dict of the value of key k2"
   ]
  },
  {
   "cell_type": "code",
   "execution_count": 45,
   "id": "e04b9682",
   "metadata": {},
   "outputs": [],
   "source": [
    "d5={4:5}\n"
   ]
  },
  {
   "cell_type": "code",
   "execution_count": 46,
   "id": "8c48e693",
   "metadata": {},
   "outputs": [
    {
     "data": {
      "text/plain": [
       "5"
      ]
     },
     "execution_count": 46,
     "metadata": {},
     "output_type": "execute_result"
    }
   ],
   "source": [
    "d5[4]"
   ]
  },
  {
   "cell_type": "code",
   "execution_count": 47,
   "id": "ded127dd",
   "metadata": {},
   "outputs": [
    {
     "ename": "SyntaxError",
     "evalue": "invalid syntax (1731022643.py, line 1)",
     "output_type": "error",
     "traceback": [
      "\u001b[1;36m  Input \u001b[1;32mIn [47]\u001b[1;36m\u001b[0m\n\u001b[1;33m    d6={@:\"gmail\"}\u001b[0m\n\u001b[1;37m        ^\u001b[0m\n\u001b[1;31mSyntaxError\u001b[0m\u001b[1;31m:\u001b[0m invalid syntax\n"
     ]
    }
   ],
   "source": [
    "d6={@:\"gmail\"} #@ symbol is not allowed for key"
   ]
  },
  {
   "cell_type": "code",
   "execution_count": 48,
   "id": "6e1f6fa3",
   "metadata": {},
   "outputs": [],
   "source": [
    "d7={_:\"yahoo\"}"
   ]
  },
  {
   "cell_type": "code",
   "execution_count": 49,
   "id": "d8ea4cad",
   "metadata": {},
   "outputs": [
    {
     "data": {
      "text/plain": [
       "'yahoo'"
      ]
     },
     "execution_count": 49,
     "metadata": {},
     "output_type": "execute_result"
    }
   ],
   "source": [
    "d7[_]"
   ]
  },
  {
   "cell_type": "code",
   "execution_count": 50,
   "id": "c8dade4c",
   "metadata": {},
   "outputs": [],
   "source": [
    "d8={(1,43,532):\"rocketry\"} #tuple as a key in the dictionary is allowed"
   ]
  },
  {
   "cell_type": "code",
   "execution_count": 51,
   "id": "22e2f120",
   "metadata": {},
   "outputs": [
    {
     "data": {
      "text/plain": [
       "{(1, 43, 532): 'rocketry'}"
      ]
     },
     "execution_count": 51,
     "metadata": {},
     "output_type": "execute_result"
    }
   ],
   "source": [
    "d8"
   ]
  },
  {
   "cell_type": "code",
   "execution_count": 52,
   "id": "b8c146b4",
   "metadata": {},
   "outputs": [
    {
     "ename": "TypeError",
     "evalue": "unhashable type: 'list'",
     "output_type": "error",
     "traceback": [
      "\u001b[1;31m---------------------------------------------------------------------------\u001b[0m",
      "\u001b[1;31mTypeError\u001b[0m                                 Traceback (most recent call last)",
      "Input \u001b[1;32mIn [52]\u001b[0m, in \u001b[0;36m<cell line: 1>\u001b[1;34m()\u001b[0m\n\u001b[1;32m----> 1\u001b[0m d9\u001b[38;5;241m=\u001b[39m{[\u001b[38;5;241m1\u001b[39m,\u001b[38;5;241m53\u001b[39m,\u001b[38;5;241m343\u001b[39m,\u001b[38;5;241m343\u001b[39m]:\u001b[38;5;124m\"\u001b[39m\u001b[38;5;124mjuug jug jeyo\u001b[39m\u001b[38;5;124m\"\u001b[39m}\n",
      "\u001b[1;31mTypeError\u001b[0m: unhashable type: 'list'"
     ]
    }
   ],
   "source": [
    "d9={[1,53,343,343]:\"juug jug jeyo\"} #list as a key is not allowed in the dictionary"
   ]
  },
  {
   "cell_type": "code",
   "execution_count": 53,
   "id": "9e89c385",
   "metadata": {},
   "outputs": [
    {
     "ename": "TypeError",
     "evalue": "unhashable type: 'set'",
     "output_type": "error",
     "traceback": [
      "\u001b[1;31m---------------------------------------------------------------------------\u001b[0m",
      "\u001b[1;31mTypeError\u001b[0m                                 Traceback (most recent call last)",
      "Input \u001b[1;32mIn [53]\u001b[0m, in \u001b[0;36m<cell line: 1>\u001b[1;34m()\u001b[0m\n\u001b[1;32m----> 1\u001b[0m d10\u001b[38;5;241m=\u001b[39m{{\u001b[38;5;241m12\u001b[39m,\u001b[38;5;241m323\u001b[39m,\u001b[38;5;241m23\u001b[39m}:\u001b[38;5;124m\"\u001b[39m\u001b[38;5;124mraa one\u001b[39m\u001b[38;5;124m\"\u001b[39m}\n",
      "\u001b[1;31mTypeError\u001b[0m: unhashable type: 'set'"
     ]
    }
   ],
   "source": [
    "d10={{12,323,23}:\"raa one\"}   # dictionary as a key is not allowed in the dictionary"
   ]
  },
  {
   "cell_type": "code",
   "execution_count": 55,
   "id": "92b53112",
   "metadata": {},
   "outputs": [],
   "source": [
    "#summary\n",
    "#what is allowed in key in dictionary=strings, tuples, int, NOT list, NOT dictionary=keys are generally immutable\n",
    "#what is allowed in value in dictionary= everything is allowed=list,int,tuple,string,dict\n",
    "#dict are mutable."
   ]
  },
  {
   "cell_type": "code",
   "execution_count": 56,
   "id": "5c337479",
   "metadata": {},
   "outputs": [
    {
     "data": {
      "text/plain": [
       "{'key1': 'value', 234: 'xyz', 'name': 'rohan', 'no': 462846}"
      ]
     },
     "execution_count": 56,
     "metadata": {},
     "output_type": "execute_result"
    }
   ],
   "source": [
    "d2\n"
   ]
  },
  {
   "cell_type": "code",
   "execution_count": 57,
   "id": "dfbb8906",
   "metadata": {},
   "outputs": [
    {
     "data": {
      "text/plain": [
       "['key1', 234, 'name', 'no']"
      ]
     },
     "execution_count": 57,
     "metadata": {},
     "output_type": "execute_result"
    }
   ],
   "source": [
    "list(d2) #dictionary can be converted to list of keys "
   ]
  },
  {
   "cell_type": "code",
   "execution_count": 58,
   "id": "431eef08",
   "metadata": {},
   "outputs": [],
   "source": [
    "l9=list(d2)"
   ]
  },
  {
   "cell_type": "code",
   "execution_count": 59,
   "id": "05d16c67",
   "metadata": {},
   "outputs": [
    {
     "ename": "ValueError",
     "evalue": "dictionary update sequence element #0 has length 4; 2 is required",
     "output_type": "error",
     "traceback": [
      "\u001b[1;31m---------------------------------------------------------------------------\u001b[0m",
      "\u001b[1;31mValueError\u001b[0m                                Traceback (most recent call last)",
      "Input \u001b[1;32mIn [59]\u001b[0m, in \u001b[0;36m<cell line: 1>\u001b[1;34m()\u001b[0m\n\u001b[1;32m----> 1\u001b[0m \u001b[38;5;28;43mdict\u001b[39;49m\u001b[43m(\u001b[49m\u001b[43ml9\u001b[49m\u001b[43m)\u001b[49m\n",
      "\u001b[1;31mValueError\u001b[0m: dictionary update sequence element #0 has length 4; 2 is required"
     ]
    }
   ],
   "source": [
    "dict(l9) # list cannot be converted to dictionaary"
   ]
  },
  {
   "cell_type": "code",
   "execution_count": 60,
   "id": "0b0c6ac9",
   "metadata": {},
   "outputs": [
    {
     "data": {
      "text/plain": [
       "{'key1': 'value', 234: 'xyz', 'name': 'rohan', 'no': 462846}"
      ]
     },
     "execution_count": 60,
     "metadata": {},
     "output_type": "execute_result"
    }
   ],
   "source": [
    "d2"
   ]
  },
  {
   "cell_type": "code",
   "execution_count": 61,
   "id": "aef809d6",
   "metadata": {},
   "outputs": [
    {
     "data": {
      "text/plain": [
       "{'name': 'sudh', 'tech': ['python', 'ml', 'dl', 'big data', 'data analytics']}"
      ]
     },
     "execution_count": 61,
     "metadata": {},
     "output_type": "execute_result"
    }
   ],
   "source": [
    "d3"
   ]
  },
  {
   "cell_type": "code",
   "execution_count": 62,
   "id": "a0c1773b",
   "metadata": {},
   "outputs": [
    {
     "ename": "TypeError",
     "evalue": "unsupported operand type(s) for +: 'dict' and 'dict'",
     "output_type": "error",
     "traceback": [
      "\u001b[1;31m---------------------------------------------------------------------------\u001b[0m",
      "\u001b[1;31mTypeError\u001b[0m                                 Traceback (most recent call last)",
      "Input \u001b[1;32mIn [62]\u001b[0m, in \u001b[0;36m<cell line: 1>\u001b[1;34m()\u001b[0m\n\u001b[1;32m----> 1\u001b[0m \u001b[43md2\u001b[49m\u001b[38;5;241;43m+\u001b[39;49m\u001b[43md3\u001b[49m\n",
      "\u001b[1;31mTypeError\u001b[0m: unsupported operand type(s) for +: 'dict' and 'dict'"
     ]
    }
   ],
   "source": [
    "d2+d3 #concatenation operation not possible in the dictionary"
   ]
  },
  {
   "cell_type": "code",
   "execution_count": 63,
   "id": "5af37eb1",
   "metadata": {},
   "outputs": [
    {
     "data": {
      "text/plain": [
       "{'key1': 'value', 234: 'xyz', 'name': 'rohan', 'no': 462846}"
      ]
     },
     "execution_count": 63,
     "metadata": {},
     "output_type": "execute_result"
    }
   ],
   "source": [
    "d2\n"
   ]
  },
  {
   "cell_type": "code",
   "execution_count": 65,
   "id": "2ef53bda",
   "metadata": {},
   "outputs": [
    {
     "data": {
      "text/plain": [
       "dict_keys(['key1', 234, 'name', 'no'])"
      ]
     },
     "execution_count": 65,
     "metadata": {},
     "output_type": "execute_result"
    }
   ],
   "source": [
    "d2.keys() #extract list of keys of the dictionary"
   ]
  },
  {
   "cell_type": "code",
   "execution_count": 66,
   "id": "fe4cb815",
   "metadata": {},
   "outputs": [
    {
     "data": {
      "text/plain": [
       "dict_values(['value', 'xyz', 'rohan', 462846])"
      ]
     },
     "execution_count": 66,
     "metadata": {},
     "output_type": "execute_result"
    }
   ],
   "source": [
    "d2.values() #extract values in the dictionary"
   ]
  },
  {
   "cell_type": "code",
   "execution_count": 67,
   "id": "ca8d876d",
   "metadata": {},
   "outputs": [
    {
     "data": {
      "text/plain": [
       "dict_items([('key1', 'value'), (234, 'xyz'), ('name', 'rohan'), ('no', 462846)])"
      ]
     },
     "execution_count": 67,
     "metadata": {},
     "output_type": "execute_result"
    }
   ],
   "source": [
    "d2.items() #return the list of key-value pair in the tuple"
   ]
  },
  {
   "cell_type": "code",
   "execution_count": 68,
   "id": "44d4c8ce",
   "metadata": {},
   "outputs": [],
   "source": [
    "s1={12}  #set"
   ]
  },
  {
   "cell_type": "code",
   "execution_count": 69,
   "id": "350f5ebf",
   "metadata": {},
   "outputs": [
    {
     "data": {
      "text/plain": [
       "set"
      ]
     },
     "execution_count": 69,
     "metadata": {},
     "output_type": "execute_result"
    }
   ],
   "source": [
    "type(s1)"
   ]
  },
  {
   "cell_type": "code",
   "execution_count": 74,
   "id": "0f84d70e",
   "metadata": {},
   "outputs": [],
   "source": [
    "s2={12,132,3,5,3,1,2,3,353,3} "
   ]
  },
  {
   "cell_type": "code",
   "execution_count": 75,
   "id": "45e03f67",
   "metadata": {},
   "outputs": [
    {
     "data": {
      "text/plain": [
       "set"
      ]
     },
     "execution_count": 75,
     "metadata": {},
     "output_type": "execute_result"
    }
   ],
   "source": [
    "type(s2)"
   ]
  },
  {
   "cell_type": "code",
   "execution_count": 85,
   "id": "120ca6cb",
   "metadata": {},
   "outputs": [
    {
     "data": {
      "text/plain": [
       "{1, 2, 3, 5, 12, 132, 353}"
      ]
     },
     "execution_count": 85,
     "metadata": {},
     "output_type": "execute_result"
    }
   ],
   "source": [
    "s2 #set automatically removes repetition\n",
    "#useful in cleaning data viz. removing duplicate data\n",
    "#set always return a unique element\n",
    "#set does not sort the dataset"
   ]
  },
  {
   "cell_type": "code",
   "execution_count": 78,
   "id": "674a627b",
   "metadata": {},
   "outputs": [],
   "source": [
    "s3={2,4342,22,13,86,43,\"sudh\",438,213,1,0,\"rohan\"}  #set can contain int,string,tuple,NOT list,NOT dict\n",
    "#mutable entities cannot be put inside the set\n",
    "#only immutable entities can be put inside the set\n"
   ]
  },
  {
   "cell_type": "code",
   "execution_count": 84,
   "id": "b5c56feb",
   "metadata": {},
   "outputs": [
    {
     "data": {
      "text/plain": [
       "{0, 1, 13, 2, 213, 22, 43, 4342, 438, 86, 'rohan', 'sudh'}"
      ]
     },
     "execution_count": 84,
     "metadata": {},
     "output_type": "execute_result"
    }
   ],
   "source": [
    "s3 #set doesnt sort the data"
   ]
  },
  {
   "cell_type": "code",
   "execution_count": 90,
   "id": "e144740f",
   "metadata": {},
   "outputs": [
    {
     "ename": "TypeError",
     "evalue": "'set' object is not subscriptable",
     "output_type": "error",
     "traceback": [
      "\u001b[1;31m---------------------------------------------------------------------------\u001b[0m",
      "\u001b[1;31mTypeError\u001b[0m                                 Traceback (most recent call last)",
      "Input \u001b[1;32mIn [90]\u001b[0m, in \u001b[0;36m<cell line: 1>\u001b[1;34m()\u001b[0m\n\u001b[1;32m----> 1\u001b[0m \u001b[43ms3\u001b[49m\u001b[43m[\u001b[49m\u001b[38;5;241;43m1\u001b[39;49m\u001b[43m]\u001b[49m\n",
      "\u001b[1;31mTypeError\u001b[0m: 'set' object is not subscriptable"
     ]
    }
   ],
   "source": [
    "s3[1] #set cannot give index of the asked dataset\n",
    "#'set' object is not subscriptable i.e you cant subscript a dataset based on the index =unlike list,tuple,string\n",
    "#to make it subscriptable, we have to convert the set into list.\n",
    "#primarily,it is used to remove duplication of data\n"
   ]
  },
  {
   "cell_type": "code",
   "execution_count": 91,
   "id": "59c7c3c1",
   "metadata": {},
   "outputs": [
    {
     "data": {
      "text/plain": [
       "[0, 1, 2, 'rohan', 43, 13, 213, 86, 4342, 22, 438, 'sudh']"
      ]
     },
     "execution_count": 91,
     "metadata": {},
     "output_type": "execute_result"
    }
   ],
   "source": [
    "list(s3) #entire SET is converted into list, and now all the operations can be applied"
   ]
  },
  {
   "cell_type": "code",
   "execution_count": 92,
   "id": "8666ad99",
   "metadata": {},
   "outputs": [
    {
     "data": {
      "text/plain": [
       "(0, 1, 2, 'rohan', 43, 13, 213, 86, 4342, 22, 438, 'sudh')"
      ]
     },
     "execution_count": 92,
     "metadata": {},
     "output_type": "execute_result"
    }
   ],
   "source": [
    "tuple(s3) #entire SET is converted into tuple, and now all the operations can be applied"
   ]
  },
  {
   "cell_type": "code",
   "execution_count": 93,
   "id": "68c9208e",
   "metadata": {},
   "outputs": [],
   "source": [
    "#challenge=remove the duplication in the list l\n",
    "#step1= convert the list into set\n",
    "#step2=set will remove duplication\n",
    "#step3=convert the set again into the list\n"
   ]
  },
  {
   "cell_type": "code",
   "execution_count": 94,
   "id": "ab16abb3",
   "metadata": {},
   "outputs": [],
   "source": [
    "l=[1,21,22,33,33,33,1,1,1,1,1,3,3,3,3,3,3,54,5,45,4,5,5,5,5,5]"
   ]
  },
  {
   "cell_type": "code",
   "execution_count": 95,
   "id": "444c78b2",
   "metadata": {},
   "outputs": [
    {
     "data": {
      "text/plain": [
       "{1, 3, 4, 5, 21, 22, 33, 45, 54}"
      ]
     },
     "execution_count": 95,
     "metadata": {},
     "output_type": "execute_result"
    }
   ],
   "source": [
    "set(l)"
   ]
  },
  {
   "cell_type": "code",
   "execution_count": 101,
   "id": "c60ec6a6",
   "metadata": {},
   "outputs": [],
   "source": [
    "l=list(set(l)) #list l is cleaned"
   ]
  },
  {
   "cell_type": "code",
   "execution_count": 102,
   "id": "981a505d",
   "metadata": {},
   "outputs": [
    {
     "data": {
      "text/plain": [
       "[1, 33, 3, 4, 5, 45, 21, 22, 54]"
      ]
     },
     "execution_count": 102,
     "metadata": {},
     "output_type": "execute_result"
    }
   ],
   "source": [
    "l #list l is cleaned"
   ]
  },
  {
   "cell_type": "code",
   "execution_count": 103,
   "id": "588d572d",
   "metadata": {},
   "outputs": [
    {
     "data": {
      "text/plain": [
       "{1, 2, 3, 5, 12, 132, 353}"
      ]
     },
     "execution_count": 103,
     "metadata": {},
     "output_type": "execute_result"
    }
   ],
   "source": [
    "s2"
   ]
  },
  {
   "cell_type": "code",
   "execution_count": 106,
   "id": "827eef24",
   "metadata": {},
   "outputs": [],
   "source": [
    "s2.add(99) #99 added to the set s2\n"
   ]
  },
  {
   "cell_type": "code",
   "execution_count": 107,
   "id": "345fd776",
   "metadata": {},
   "outputs": [
    {
     "data": {
      "text/plain": [
       "{1, 2, 3, 5, 12, 99, 132, 353}"
      ]
     },
     "execution_count": 107,
     "metadata": {},
     "output_type": "execute_result"
    }
   ],
   "source": [
    "s2"
   ]
  },
  {
   "cell_type": "code",
   "execution_count": 108,
   "id": "5fff6568",
   "metadata": {},
   "outputs": [
    {
     "ename": "TypeError",
     "evalue": "unhashable type: 'list'",
     "output_type": "error",
     "traceback": [
      "\u001b[1;31m---------------------------------------------------------------------------\u001b[0m",
      "\u001b[1;31mTypeError\u001b[0m                                 Traceback (most recent call last)",
      "Input \u001b[1;32mIn [108]\u001b[0m, in \u001b[0;36m<cell line: 1>\u001b[1;34m()\u001b[0m\n\u001b[1;32m----> 1\u001b[0m \u001b[43ms2\u001b[49m\u001b[38;5;241;43m.\u001b[39;49m\u001b[43madd\u001b[49m\u001b[43m(\u001b[49m\u001b[43m[\u001b[49m\u001b[38;5;241;43m2\u001b[39;49m\u001b[43m,\u001b[49m\u001b[38;5;241;43m43\u001b[39;49m\u001b[43m,\u001b[49m\u001b[38;5;241;43m24\u001b[39;49m\u001b[43m,\u001b[49m\u001b[38;5;241;43m4\u001b[39;49m\u001b[43m]\u001b[49m\u001b[43m)\u001b[49m\n",
      "\u001b[1;31mTypeError\u001b[0m: unhashable type: 'list'"
     ]
    }
   ],
   "source": [
    "s2.add([2,43,24,4]) #collection cannot be added in the set"
   ]
  },
  {
   "cell_type": "code",
   "execution_count": 109,
   "id": "e844e930",
   "metadata": {},
   "outputs": [
    {
     "data": {
      "text/plain": [
       "{0, 1, 13, 2, 213, 22, 43, 4342, 438, 86, 'rohan', 'sudh'}"
      ]
     },
     "execution_count": 109,
     "metadata": {},
     "output_type": "execute_result"
    }
   ],
   "source": [
    "s3"
   ]
  },
  {
   "cell_type": "code",
   "execution_count": 110,
   "id": "4e0cf4dc",
   "metadata": {},
   "outputs": [],
   "source": [
    "s3.add((2,32,12)) #adding tuple to the set"
   ]
  },
  {
   "cell_type": "code",
   "execution_count": 111,
   "id": "6f2bd72b",
   "metadata": {},
   "outputs": [
    {
     "data": {
      "text/plain": [
       "{(2, 32, 12), 0, 1, 13, 2, 213, 22, 43, 4342, 438, 86, 'rohan', 'sudh'}"
      ]
     },
     "execution_count": 111,
     "metadata": {},
     "output_type": "execute_result"
    }
   ],
   "source": [
    "s3\n"
   ]
  },
  {
   "cell_type": "code",
   "execution_count": 112,
   "id": "a32fbc61",
   "metadata": {},
   "outputs": [],
   "source": [
    "s3.remove(213) #remove the value from the set, if the input value is not in the set then show error"
   ]
  },
  {
   "cell_type": "code",
   "execution_count": 113,
   "id": "d40815ee",
   "metadata": {},
   "outputs": [
    {
     "data": {
      "text/plain": [
       "{(2, 32, 12), 0, 1, 13, 2, 22, 43, 4342, 438, 86, 'rohan', 'sudh'}"
      ]
     },
     "execution_count": 113,
     "metadata": {},
     "output_type": "execute_result"
    }
   ],
   "source": [
    "s3"
   ]
  },
  {
   "cell_type": "code",
   "execution_count": 114,
   "id": "0b11af59",
   "metadata": {},
   "outputs": [],
   "source": [
    "s3.discard(43) #discard the value ffrom the set, if the input value is not in the set, then do nothing"
   ]
  },
  {
   "cell_type": "code",
   "execution_count": 115,
   "id": "b2e4bdaa",
   "metadata": {},
   "outputs": [
    {
     "data": {
      "text/plain": [
       "{(2, 32, 12), 0, 1, 13, 2, 22, 4342, 438, 86, 'rohan', 'sudh'}"
      ]
     },
     "execution_count": 115,
     "metadata": {},
     "output_type": "execute_result"
    }
   ],
   "source": [
    "s3"
   ]
  },
  {
   "cell_type": "code",
   "execution_count": null,
   "id": "38c3a2f3",
   "metadata": {},
   "outputs": [],
   "source": []
  }
 ],
 "metadata": {
  "kernelspec": {
   "display_name": "Python 3 (ipykernel)",
   "language": "python",
   "name": "python3"
  },
  "language_info": {
   "codemirror_mode": {
    "name": "ipython",
    "version": 3
   },
   "file_extension": ".py",
   "mimetype": "text/x-python",
   "name": "python",
   "nbconvert_exporter": "python",
   "pygments_lexer": "ipython3",
   "version": "3.9.12"
  }
 },
 "nbformat": 4,
 "nbformat_minor": 5
}
