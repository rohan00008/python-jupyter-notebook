{
 "cells": [
  {
   "cell_type": "code",
   "execution_count": 1,
   "id": "1b2df86c",
   "metadata": {},
   "outputs": [],
   "source": [
    "#it try to filter out a dataset"
   ]
  },
  {
   "cell_type": "code",
   "execution_count": 2,
   "id": "cf6ec9d7",
   "metadata": {},
   "outputs": [],
   "source": [
    "l=[1,5,7,8,4,3,7]"
   ]
  },
  {
   "cell_type": "code",
   "execution_count": 3,
   "id": "9bf8be40",
   "metadata": {},
   "outputs": [],
   "source": [
    "#challenge=filter out even numbers from the dataset"
   ]
  },
  {
   "cell_type": "code",
   "execution_count": 4,
   "id": "14436b33",
   "metadata": {},
   "outputs": [
    {
     "name": "stdout",
     "output_type": "stream",
     "text": [
      "8\n",
      "4\n"
     ]
    }
   ],
   "source": [
    "for i in l:\n",
    "    if i%2==0:\n",
    "        print(i)"
   ]
  },
  {
   "cell_type": "code",
   "execution_count": 5,
   "id": "1c4655b3",
   "metadata": {},
   "outputs": [],
   "source": [
    "#another way\n"
   ]
  },
  {
   "cell_type": "code",
   "execution_count": 6,
   "id": "58912767",
   "metadata": {},
   "outputs": [
    {
     "data": {
      "text/plain": [
       "<filter at 0x1a6815185e0>"
      ]
     },
     "execution_count": 6,
     "metadata": {},
     "output_type": "execute_result"
    }
   ],
   "source": [
    "filter(lambda x:x%2==0,l) \n",
    "#filter function maps and checks for the true condition, and \n",
    "#then returns the element in the iterable collection whenever the condition becomes true"
   ]
  },
  {
   "cell_type": "code",
   "execution_count": 7,
   "id": "4b97cd53",
   "metadata": {},
   "outputs": [
    {
     "data": {
      "text/plain": [
       "[8, 4]"
      ]
     },
     "execution_count": 7,
     "metadata": {},
     "output_type": "execute_result"
    }
   ],
   "source": [
    "list(filter(lambda x:x%2==0,l))  "
   ]
  },
  {
   "cell_type": "code",
   "execution_count": 8,
   "id": "22f89987",
   "metadata": {},
   "outputs": [],
   "source": [
    "def check_even(n):  #another way\n",
    "    if n%2==0:\n",
    "        return True\n",
    "    "
   ]
  },
  {
   "cell_type": "code",
   "execution_count": 10,
   "id": "64f02f36",
   "metadata": {},
   "outputs": [
    {
     "data": {
      "text/plain": [
       "[8, 4]"
      ]
     },
     "execution_count": 10,
     "metadata": {},
     "output_type": "execute_result"
    }
   ],
   "source": [
    "list(filter(check_even,l))"
   ]
  },
  {
   "cell_type": "code",
   "execution_count": 11,
   "id": "a7c372b1",
   "metadata": {},
   "outputs": [],
   "source": [
    "#LESSON= filter function takes only those functions in arguments which have output in boolean form i.e true or false"
   ]
  },
  {
   "cell_type": "code",
   "execution_count": null,
   "id": "0eb28248",
   "metadata": {},
   "outputs": [],
   "source": [
    " "
   ]
  }
 ],
 "metadata": {
  "kernelspec": {
   "display_name": "Python 3 (ipykernel)",
   "language": "python",
   "name": "python3"
  },
  "language_info": {
   "codemirror_mode": {
    "name": "ipython",
    "version": 3
   },
   "file_extension": ".py",
   "mimetype": "text/x-python",
   "name": "python",
   "nbconvert_exporter": "python",
   "pygments_lexer": "ipython3",
   "version": "3.9.12"
  }
 },
 "nbformat": 4,
 "nbformat_minor": 5
}
